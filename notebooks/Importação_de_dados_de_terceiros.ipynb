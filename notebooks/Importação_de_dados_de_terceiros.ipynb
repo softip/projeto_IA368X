{
  "nbformat": 4,
  "nbformat_minor": 0,
  "metadata": {
    "colab": {
      "name": "Importação de dados de terceiros.ipynb",
      "provenance": [],
      "authorship_tag": "ABX9TyNbC7LfPShpjgOjN8dmX2Nw",
      "include_colab_link": true
    },
    "kernelspec": {
      "name": "python3",
      "display_name": "Python 3"
    },
    "language_info": {
      "name": "python"
    }
  },
  "cells": [
    {
      "cell_type": "markdown",
      "metadata": {
        "id": "view-in-github",
        "colab_type": "text"
      },
      "source": [
        "<a href=\"https://colab.research.google.com/github/softip/projeto_IA368X/blob/main/notebooks/Importa%C3%A7%C3%A3o_de_dados_de_terceiros.ipynb\" target=\"_parent\"><img src=\"https://colab.research.google.com/assets/colab-badge.svg\" alt=\"Open In Colab\"/></a>"
      ]
    },
    {
      "cell_type": "code",
      "metadata": {
        "colab": {
          "base_uri": "https://localhost:8080/"
        },
        "id": "Xrb_Vyu6EFc0",
        "outputId": "53619cd6-cc34-4e5a-d9af-433f63b4b086"
      },
      "source": [
        "import pandas as pd"
      ],
      "execution_count": null,
      "outputs": [
        {
          "output_type": "stream",
          "text": [
            "None\n"
          ],
          "name": "stdout"
        }
      ]
    }
  ]
}