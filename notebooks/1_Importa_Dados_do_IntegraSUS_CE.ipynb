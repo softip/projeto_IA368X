{
  "nbformat": 4,
  "nbformat_minor": 0,
  "metadata": {
    "colab": {
      "name": "1 - Importa Dados do IntegraSUS - CE.ipynb",
      "provenance": [],
      "include_colab_link": true
    },
    "kernelspec": {
      "name": "python3",
      "display_name": "Python 3"
    },
    "language_info": {
      "name": "python"
    }
  },
  "cells": [
    {
      "cell_type": "markdown",
      "metadata": {
        "id": "view-in-github",
        "colab_type": "text"
      },
      "source": [
        "<a href=\"https://colab.research.google.com/github/softip/projeto_IA368X/blob/main/notebooks/1_Importa_Dados_do_IntegraSUS_CE.ipynb\" target=\"_parent\"><img src=\"https://colab.research.google.com/assets/colab-badge.svg\" alt=\"Open In Colab\"/></a>"
      ]
    },
    {
      "cell_type": "code",
      "metadata": {
        "id": "0xITTDeeix8v"
      },
      "source": [
        "#Geração de arquivo csv a partir da API COVID-CE\n",
        "import pandas as pd"
      ],
      "execution_count": 1,
      "outputs": []
    },
    {
      "cell_type": "code",
      "metadata": {
        "id": "g9cmczJOi6SV"
      },
      "source": [
        "patients_df1t20 = pd.read_json('https://indicadores.integrasus.saude.ce.gov.br/api/casos-coronavirus?dataInicio=2020-01-01&dataFim=2020-03-31')\n",
        "patients_df1t20.to_csv('dados_covid_ce_1.csv', encoding='utf-8', index=False)"
      ],
      "execution_count": 2,
      "outputs": []
    },
    {
      "cell_type": "code",
      "metadata": {
        "id": "RkHHlxjXi-yF"
      },
      "source": [
        "patients_df2t20 = pd.read_json('https://indicadores.integrasus.saude.ce.gov.br/api/casos-coronavirus?dataInicio=2020-04-01&dataFim=2020-06-30')\n",
        "patients_df2t20.to_csv('dados_covid_ce_2.csv', encoding='utf-8', index=False)"
      ],
      "execution_count": 4,
      "outputs": []
    },
    {
      "cell_type": "code",
      "metadata": {
        "id": "HxaHYJdVjCuO"
      },
      "source": [
        "patients_df3t20 = pd.read_json('https://indicadores.integrasus.saude.ce.gov.br/api/casos-coronavirus?dataInicio=2020-07-01&dataFim=2020-09-30')\n",
        "patients_df3t20.to_csv('dados_covid_ce_3.csv', encoding='utf-8', index=False)"
      ],
      "execution_count": 10,
      "outputs": []
    },
    {
      "cell_type": "code",
      "metadata": {
        "colab": {
          "base_uri": "https://localhost:8080/"
        },
        "id": "rQR0d1kOWMzv",
        "outputId": "87bb039b-25db-4bbf-fa10-eda0745201e8"
      },
      "source": [
        "from google.colab import drive\n",
        "drive.mount('/content/drive')"
      ],
      "execution_count": 12,
      "outputs": [
        {
          "output_type": "stream",
          "text": [
            "Drive already mounted at /content/drive; to attempt to forcibly remount, call drive.mount(\"/content/drive\", force_remount=True).\n"
          ],
          "name": "stdout"
        }
      ]
    },
    {
      "cell_type": "code",
      "metadata": {
        "id": "JPA43SrdjFOt"
      },
      "source": [
        "patients_df4t20 = pd.read_json('https://indicadores.integrasus.saude.ce.gov.br/api/casos-coronavirus?dataInicio=2020-10-01&dataFim=2020-12-31')\n",
        "patients_df4t20.to_csv('dados_covid_ce_4.csv', encoding='utf-8', index=False)"
      ],
      "execution_count": 13,
      "outputs": []
    },
    {
      "cell_type": "code",
      "metadata": {
        "id": "tcsKGXrWjG91"
      },
      "source": [
        "patients_df1t21 = pd.read_json('https://indicadores.integrasus.saude.ce.gov.br/api/casos-coronavirus?dataInicio=2021-01-01&dataFim=2021-03-31')\n",
        "patients_df1t21.to_csv('dados_covid_ce_5.csv', encoding='utf-8', index=False)"
      ],
      "execution_count": 15,
      "outputs": []
    },
    {
      "cell_type": "code",
      "metadata": {
        "id": "2PsmhKPBjId-"
      },
      "source": [
        "patients_df2t21 = pd.read_json('https://indicadores.integrasus.saude.ce.gov.br/api/casos-coronavirus?dataInicio=2021-04-01&dataFim=2021-05-23')\n",
        "patients_df2t21.to_csv('dados_covid_ce_6.csv', encoding='utf-8', index=False)"
      ],
      "execution_count": 18,
      "outputs": []
    },
    {
      "cell_type": "code",
      "metadata": {
        "id": "Bf6nF6CSjKkl"
      },
      "source": [
        "dfTotal = pd.concat([patients_df1t20, patients_df2t20, patients_df3t20, patients_df1t21, patients_df2t21])"
      ],
      "execution_count": null,
      "outputs": []
    },
    {
      "cell_type": "code",
      "metadata": {
        "id": "GXv5D94FjQtN"
      },
      "source": [
        "dfTotal.to_csv('dados_covid_ce.csv', encoding='utf-8', index=False)"
      ],
      "execution_count": null,
      "outputs": []
    }
  ]
}