{
  "nbformat": 4,
  "nbformat_minor": 0,
  "metadata": {
    "colab": {
      "name": "Tratamentode Dados para ML.ipynb",
      "provenance": [],
      "mount_file_id": "1v6i7NZSYYNtamxu3X173Ph_V_TvFKWEW",
      "authorship_tag": "ABX9TyNOFZcaJrBLrwafQEsLhjfs",
      "include_colab_link": true
    },
    "kernelspec": {
      "name": "python3",
      "display_name": "Python 3"
    },
    "language_info": {
      "name": "python"
    }
  },
  "cells": [
    {
      "cell_type": "markdown",
      "metadata": {
        "id": "view-in-github",
        "colab_type": "text"
      },
      "source": [
        "<a href=\"https://colab.research.google.com/github/softip/projeto_IA368X/blob/main/notebooks/Tratamentode_Dados_para_ML.ipynb\" target=\"_parent\"><img src=\"https://colab.research.google.com/assets/colab-badge.svg\" alt=\"Open In Colab\"/></a>"
      ]
    },
    {
      "cell_type": "code",
      "metadata": {
        "colab": {
          "base_uri": "https://localhost:8080/",
          "height": 847
        },
        "id": "4lQGgdGBu-65",
        "outputId": "271f34b9-71e5-47e4-cd1f-8f4433755b0a"
      },
      "source": [
        "import pandas as pd\n",
        "\n",
        "#importa dataset do github\n",
        "df = []\n",
        "for i in range(1,10):\n",
        "  df.append(pd.read_csv(\"https://raw.githubusercontent.com/softip/projeto_IA368X/main/data/external/dados_covid_ce_{}.csv\".format(i)))\n",
        "\n",
        "dfTotal = pd.DataFrame()\n",
        "dfTotal = pd.concat(df)\n",
        "dfTotal.reset_index()"
      ],
      "execution_count": 124,
      "outputs": [
        {
          "output_type": "stream",
          "text": [
            "/usr/local/lib/python3.7/dist-packages/IPython/core/interactiveshell.py:2718: DtypeWarning: Columns (35,36,37,38,40) have mixed types.Specify dtype option on import or set low_memory=False.\n",
            "  interactivity=interactivity, compiler=compiler, result=result)\n",
            "/usr/local/lib/python3.7/dist-packages/IPython/core/interactiveshell.py:2718: DtypeWarning: Columns (39,40) have mixed types.Specify dtype option on import or set low_memory=False.\n",
            "  interactivity=interactivity, compiler=compiler, result=result)\n",
            "/usr/local/lib/python3.7/dist-packages/IPython/core/interactiveshell.py:2718: DtypeWarning: Columns (15,24,25,26,39,40) have mixed types.Specify dtype option on import or set low_memory=False.\n",
            "  interactivity=interactivity, compiler=compiler, result=result)\n",
            "/usr/local/lib/python3.7/dist-packages/IPython/core/interactiveshell.py:2718: DtypeWarning: Columns (40) have mixed types.Specify dtype option on import or set low_memory=False.\n",
            "  interactivity=interactivity, compiler=compiler, result=result)\n",
            "/usr/local/lib/python3.7/dist-packages/IPython/core/interactiveshell.py:2718: DtypeWarning: Columns (24,25,26) have mixed types.Specify dtype option on import or set low_memory=False.\n",
            "  interactivity=interactivity, compiler=compiler, result=result)\n",
            "/usr/local/lib/python3.7/dist-packages/IPython/core/interactiveshell.py:2718: DtypeWarning: Columns (36) have mixed types.Specify dtype option on import or set low_memory=False.\n",
            "  interactivity=interactivity, compiler=compiler, result=result)\n",
            "/usr/local/lib/python3.7/dist-packages/IPython/core/interactiveshell.py:2718: DtypeWarning: Columns (37,38,39,40) have mixed types.Specify dtype option on import or set low_memory=False.\n",
            "  interactivity=interactivity, compiler=compiler, result=result)\n"
          ],
          "name": "stderr"
        },
        {
          "output_type": "execute_result",
          "data": {
            "text/html": [
              "<div>\n",
              "<style scoped>\n",
              "    .dataframe tbody tr th:only-of-type {\n",
              "        vertical-align: middle;\n",
              "    }\n",
              "\n",
              "    .dataframe tbody tr th {\n",
              "        vertical-align: top;\n",
              "    }\n",
              "\n",
              "    .dataframe thead th {\n",
              "        text-align: right;\n",
              "    }\n",
              "</style>\n",
              "<table border=\"1\" class=\"dataframe\">\n",
              "  <thead>\n",
              "    <tr style=\"text-align: right;\">\n",
              "      <th></th>\n",
              "      <th>index</th>\n",
              "      <th>codigoPaciente</th>\n",
              "      <th>paisPaciente</th>\n",
              "      <th>estadoPaciente</th>\n",
              "      <th>codigoMunicipioPaciente</th>\n",
              "      <th>municipioPaciente</th>\n",
              "      <th>sexoPaciente</th>\n",
              "      <th>idadePaciente</th>\n",
              "      <th>dataNotificacao</th>\n",
              "      <th>dataColetaExame</th>\n",
              "      <th>dataResultadoExame</th>\n",
              "      <th>resultadoFinalExame</th>\n",
              "      <th>dataInicioSintomas</th>\n",
              "      <th>tipoTesteExame</th>\n",
              "      <th>racaCorPaciente</th>\n",
              "      <th>municipioNotificacaoEsus</th>\n",
              "      <th>profissionalSaude</th>\n",
              "      <th>cnesNotificacaoEsus</th>\n",
              "      <th>idSivep</th>\n",
              "      <th>classificacaoEstadoSivep</th>\n",
              "      <th>dataInternacaoSivep</th>\n",
              "      <th>dataEntradaUtisSvep</th>\n",
              "      <th>bairroPaciente</th>\n",
              "      <th>comorbidadeNeurologiaSivep</th>\n",
              "      <th>dataSolicitacaoExame</th>\n",
              "      <th>obitoConfirmado</th>\n",
              "      <th>dataObito</th>\n",
              "      <th>tipoObito</th>\n",
              "      <th>dataNotificacaoObito</th>\n",
              "      <th>comorbidadeCardiovascularSivep</th>\n",
              "      <th>comorbidadeObesidadeSivep</th>\n",
              "      <th>evolucaoCaso</th>\n",
              "      <th>dataEvolucaoCasoSivep</th>\n",
              "      <th>comorbidadeHematologiaSivep</th>\n",
              "      <th>comorbidadeSindromeDownSivep</th>\n",
              "      <th>comorbidadeAsmaSivep</th>\n",
              "      <th>comorbidadeDiabetesSivep</th>\n",
              "      <th>comorbidadeImunodeficienciaSivep</th>\n",
              "      <th>comorbidadeRenalSivep</th>\n",
              "      <th>comorbidadePuerperaSivep</th>\n",
              "      <th>comorbidadePneumopatiaSivep</th>\n",
              "      <th>dataSaidaUtisSvep</th>\n",
              "    </tr>\n",
              "  </thead>\n",
              "  <tbody>\n",
              "    <tr>\n",
              "      <th>0</th>\n",
              "      <td>0</td>\n",
              "      <td>579fce2867018c510bdfbc9c64c14a34</td>\n",
              "      <td>BRASIL</td>\n",
              "      <td>CE</td>\n",
              "      <td>230490.0</td>\n",
              "      <td>GROAIRAS</td>\n",
              "      <td>FEMININO</td>\n",
              "      <td>25.0</td>\n",
              "      <td>2020-01-01T03:00:00.000+0000</td>\n",
              "      <td>2021-01-08T03:00:00.000+0000</td>\n",
              "      <td>2021-01-08T03:00:00.000+0000</td>\n",
              "      <td>Negativo</td>\n",
              "      <td>2020-01-01T03:00:00.000+0000</td>\n",
              "      <td>Teste Rápido - Anticorpo</td>\n",
              "      <td>Parda</td>\n",
              "      <td>GROAIRAS</td>\n",
              "      <td>0.0</td>\n",
              "      <td>6565239</td>\n",
              "      <td>3.159248e+11</td>\n",
              "      <td>Não realizado.0</td>\n",
              "      <td>2020-06-18T03:00:00.000+0000</td>\n",
              "      <td>2020-06-18T03:00:00.000+0000</td>\n",
              "      <td>NaN</td>\n",
              "      <td>NaN</td>\n",
              "      <td>NaN</td>\n",
              "      <td>NaN</td>\n",
              "      <td>NaN</td>\n",
              "      <td>NaN</td>\n",
              "      <td>NaN</td>\n",
              "      <td>NaN</td>\n",
              "      <td>NaN</td>\n",
              "      <td>NaN</td>\n",
              "      <td>NaN</td>\n",
              "      <td>NaN</td>\n",
              "      <td>NaN</td>\n",
              "      <td>NaN</td>\n",
              "      <td>NaN</td>\n",
              "      <td>NaN</td>\n",
              "      <td>NaN</td>\n",
              "      <td>NaN</td>\n",
              "      <td>NaN</td>\n",
              "      <td>NaN</td>\n",
              "    </tr>\n",
              "    <tr>\n",
              "      <th>1</th>\n",
              "      <td>1</td>\n",
              "      <td>504dc6479d137aef7556a9878626aef8</td>\n",
              "      <td>NaN</td>\n",
              "      <td>CE</td>\n",
              "      <td>230240.0</td>\n",
              "      <td>BOA VIAGEM</td>\n",
              "      <td>MASCULINO</td>\n",
              "      <td>39.0</td>\n",
              "      <td>2020-01-01T03:00:00.000+0000</td>\n",
              "      <td>2020-10-20T03:00:00.000+0000</td>\n",
              "      <td>2020-10-20T03:00:00.000+0000</td>\n",
              "      <td>Positivo</td>\n",
              "      <td>2020-01-01T03:00:00.000+0000</td>\n",
              "      <td>Teste Rápido - Anticorpo</td>\n",
              "      <td>Parda</td>\n",
              "      <td>MARACANAU</td>\n",
              "      <td>0.0</td>\n",
              "      <td>NaN</td>\n",
              "      <td>NaN</td>\n",
              "      <td>NaN</td>\n",
              "      <td>NaN</td>\n",
              "      <td>NaN</td>\n",
              "      <td>ALTO DO MOTOR</td>\n",
              "      <td>NaN</td>\n",
              "      <td>NaN</td>\n",
              "      <td>NaN</td>\n",
              "      <td>NaN</td>\n",
              "      <td>NaN</td>\n",
              "      <td>NaN</td>\n",
              "      <td>NaN</td>\n",
              "      <td>NaN</td>\n",
              "      <td>NaN</td>\n",
              "      <td>NaN</td>\n",
              "      <td>NaN</td>\n",
              "      <td>NaN</td>\n",
              "      <td>NaN</td>\n",
              "      <td>NaN</td>\n",
              "      <td>NaN</td>\n",
              "      <td>NaN</td>\n",
              "      <td>NaN</td>\n",
              "      <td>NaN</td>\n",
              "      <td>NaN</td>\n",
              "    </tr>\n",
              "    <tr>\n",
              "      <th>2</th>\n",
              "      <td>2</td>\n",
              "      <td>9b1fca71df2ed7f6bcbc9f20122c78d2</td>\n",
              "      <td>BRASIL</td>\n",
              "      <td>CE</td>\n",
              "      <td>230075.0</td>\n",
              "      <td>AMONTADA</td>\n",
              "      <td>MASCULINO</td>\n",
              "      <td>66.0</td>\n",
              "      <td>2020-01-02T03:00:00.000+0000</td>\n",
              "      <td>2021-01-02T03:00:00.000+0000</td>\n",
              "      <td>2021-01-02T03:00:00.000+0000</td>\n",
              "      <td>Negativo</td>\n",
              "      <td>2020-01-02T03:00:00.000+0000</td>\n",
              "      <td>Teste Rápido - Anticorpo</td>\n",
              "      <td>Parda</td>\n",
              "      <td>AMONTADA</td>\n",
              "      <td>0.0</td>\n",
              "      <td>6460038</td>\n",
              "      <td>3.161099e+11</td>\n",
              "      <td>Negativo.0</td>\n",
              "      <td>2021-01-02T03:00:00.000+0000</td>\n",
              "      <td>NaN</td>\n",
              "      <td>NaN</td>\n",
              "      <td>Sim</td>\n",
              "      <td>NaN</td>\n",
              "      <td>NaN</td>\n",
              "      <td>NaN</td>\n",
              "      <td>NaN</td>\n",
              "      <td>NaN</td>\n",
              "      <td>NaN</td>\n",
              "      <td>NaN</td>\n",
              "      <td>NaN</td>\n",
              "      <td>NaN</td>\n",
              "      <td>NaN</td>\n",
              "      <td>NaN</td>\n",
              "      <td>NaN</td>\n",
              "      <td>NaN</td>\n",
              "      <td>NaN</td>\n",
              "      <td>NaN</td>\n",
              "      <td>NaN</td>\n",
              "      <td>NaN</td>\n",
              "      <td>NaN</td>\n",
              "    </tr>\n",
              "    <tr>\n",
              "      <th>3</th>\n",
              "      <td>3</td>\n",
              "      <td>fd948fcaca62c97a2f57a1717e7ad128</td>\n",
              "      <td>NaN</td>\n",
              "      <td>CE</td>\n",
              "      <td>230170.0</td>\n",
              "      <td>AURORA</td>\n",
              "      <td>MASCULINO</td>\n",
              "      <td>57.0</td>\n",
              "      <td>2020-01-02T03:00:00.000+0000</td>\n",
              "      <td>2020-01-02T03:00:00.000+0000</td>\n",
              "      <td>2020-01-02T03:00:00.000+0000</td>\n",
              "      <td>Positivo</td>\n",
              "      <td>2020-01-02T03:00:00.000+0000</td>\n",
              "      <td>Teste Rápido - Antígeno</td>\n",
              "      <td>Parda</td>\n",
              "      <td>PRINCESA ISABEL</td>\n",
              "      <td>0.0</td>\n",
              "      <td>NaN</td>\n",
              "      <td>NaN</td>\n",
              "      <td>NaN</td>\n",
              "      <td>NaN</td>\n",
              "      <td>NaN</td>\n",
              "      <td>AURORA</td>\n",
              "      <td>NaN</td>\n",
              "      <td>NaN</td>\n",
              "      <td>NaN</td>\n",
              "      <td>NaN</td>\n",
              "      <td>NaN</td>\n",
              "      <td>NaN</td>\n",
              "      <td>NaN</td>\n",
              "      <td>NaN</td>\n",
              "      <td>NaN</td>\n",
              "      <td>NaN</td>\n",
              "      <td>NaN</td>\n",
              "      <td>NaN</td>\n",
              "      <td>NaN</td>\n",
              "      <td>NaN</td>\n",
              "      <td>NaN</td>\n",
              "      <td>NaN</td>\n",
              "      <td>NaN</td>\n",
              "      <td>NaN</td>\n",
              "      <td>NaN</td>\n",
              "    </tr>\n",
              "    <tr>\n",
              "      <th>4</th>\n",
              "      <td>4</td>\n",
              "      <td>fdccba56299c30f73a717ec52e5fc740</td>\n",
              "      <td>NaN</td>\n",
              "      <td>CE</td>\n",
              "      <td>231030.0</td>\n",
              "      <td>PARAMBU</td>\n",
              "      <td>FEMININO</td>\n",
              "      <td>25.0</td>\n",
              "      <td>2020-01-04T03:00:00.000+0000</td>\n",
              "      <td>2021-01-08T03:00:00.000+0000</td>\n",
              "      <td>2021-01-08T03:00:00.000+0000</td>\n",
              "      <td>Positivo</td>\n",
              "      <td>2020-01-01T03:00:00.000+0000</td>\n",
              "      <td>RT-PCR</td>\n",
              "      <td>Parda</td>\n",
              "      <td>PARAMBU</td>\n",
              "      <td>0.0</td>\n",
              "      <td>6362869</td>\n",
              "      <td>NaN</td>\n",
              "      <td>NaN</td>\n",
              "      <td>NaN</td>\n",
              "      <td>NaN</td>\n",
              "      <td>CAIXA D`AGUA</td>\n",
              "      <td>NaN</td>\n",
              "      <td>NaN</td>\n",
              "      <td>NaN</td>\n",
              "      <td>NaN</td>\n",
              "      <td>NaN</td>\n",
              "      <td>NaN</td>\n",
              "      <td>NaN</td>\n",
              "      <td>NaN</td>\n",
              "      <td>NaN</td>\n",
              "      <td>NaN</td>\n",
              "      <td>NaN</td>\n",
              "      <td>NaN</td>\n",
              "      <td>NaN</td>\n",
              "      <td>NaN</td>\n",
              "      <td>NaN</td>\n",
              "      <td>NaN</td>\n",
              "      <td>NaN</td>\n",
              "      <td>NaN</td>\n",
              "      <td>NaN</td>\n",
              "    </tr>\n",
              "    <tr>\n",
              "      <th>...</th>\n",
              "      <td>...</td>\n",
              "      <td>...</td>\n",
              "      <td>...</td>\n",
              "      <td>...</td>\n",
              "      <td>...</td>\n",
              "      <td>...</td>\n",
              "      <td>...</td>\n",
              "      <td>...</td>\n",
              "      <td>...</td>\n",
              "      <td>...</td>\n",
              "      <td>...</td>\n",
              "      <td>...</td>\n",
              "      <td>...</td>\n",
              "      <td>...</td>\n",
              "      <td>...</td>\n",
              "      <td>...</td>\n",
              "      <td>...</td>\n",
              "      <td>...</td>\n",
              "      <td>...</td>\n",
              "      <td>...</td>\n",
              "      <td>...</td>\n",
              "      <td>...</td>\n",
              "      <td>...</td>\n",
              "      <td>...</td>\n",
              "      <td>...</td>\n",
              "      <td>...</td>\n",
              "      <td>...</td>\n",
              "      <td>...</td>\n",
              "      <td>...</td>\n",
              "      <td>...</td>\n",
              "      <td>...</td>\n",
              "      <td>...</td>\n",
              "      <td>...</td>\n",
              "      <td>...</td>\n",
              "      <td>...</td>\n",
              "      <td>...</td>\n",
              "      <td>...</td>\n",
              "      <td>...</td>\n",
              "      <td>...</td>\n",
              "      <td>...</td>\n",
              "      <td>...</td>\n",
              "      <td>...</td>\n",
              "    </tr>\n",
              "    <tr>\n",
              "      <th>1873578</th>\n",
              "      <td>167232</td>\n",
              "      <td>eefa5ea801b53366cce43b2b09a58bdf</td>\n",
              "      <td>NaN</td>\n",
              "      <td>CE</td>\n",
              "      <td>230440.0</td>\n",
              "      <td>FORTALEZA</td>\n",
              "      <td>FEMININO</td>\n",
              "      <td>3.0</td>\n",
              "      <td>2021-05-21T03:00:00.000+0000</td>\n",
              "      <td>NaN</td>\n",
              "      <td>NaN</td>\n",
              "      <td>NaN</td>\n",
              "      <td>2021-05-15T03:00:00.000+0000</td>\n",
              "      <td>NaN</td>\n",
              "      <td>Parda</td>\n",
              "      <td>FORTALEZA</td>\n",
              "      <td>0.0</td>\n",
              "      <td>407836</td>\n",
              "      <td>NaN</td>\n",
              "      <td>NaN</td>\n",
              "      <td>NaN</td>\n",
              "      <td>NaN</td>\n",
              "      <td>PICI</td>\n",
              "      <td>NaN</td>\n",
              "      <td>NaN</td>\n",
              "      <td>NaN</td>\n",
              "      <td>NaN</td>\n",
              "      <td>NaN</td>\n",
              "      <td>NaN</td>\n",
              "      <td>NaN</td>\n",
              "      <td>NaN</td>\n",
              "      <td>NaN</td>\n",
              "      <td>NaN</td>\n",
              "      <td>NaN</td>\n",
              "      <td>NaN</td>\n",
              "      <td>NaN</td>\n",
              "      <td>NaN</td>\n",
              "      <td>NaN</td>\n",
              "      <td>NaN</td>\n",
              "      <td>NaN</td>\n",
              "      <td>NaN</td>\n",
              "      <td>NaN</td>\n",
              "    </tr>\n",
              "    <tr>\n",
              "      <th>1873579</th>\n",
              "      <td>167233</td>\n",
              "      <td>ab18e9b4902269f89d864e17da48e35f</td>\n",
              "      <td>NaN</td>\n",
              "      <td>CE</td>\n",
              "      <td>231290.0</td>\n",
              "      <td>SOBRAL</td>\n",
              "      <td>FEMININO</td>\n",
              "      <td>16.0</td>\n",
              "      <td>2021-05-19T03:00:00.000+0000</td>\n",
              "      <td>NaN</td>\n",
              "      <td>NaN</td>\n",
              "      <td>NaN</td>\n",
              "      <td>2021-05-17T03:00:00.000+0000</td>\n",
              "      <td>NaN</td>\n",
              "      <td>Parda</td>\n",
              "      <td>SOBRAL</td>\n",
              "      <td>1.0</td>\n",
              "      <td>2.42412e+06</td>\n",
              "      <td>NaN</td>\n",
              "      <td>NaN</td>\n",
              "      <td>NaN</td>\n",
              "      <td>NaN</td>\n",
              "      <td>PEDRINHAS</td>\n",
              "      <td>NaN</td>\n",
              "      <td>NaN</td>\n",
              "      <td>NaN</td>\n",
              "      <td>NaN</td>\n",
              "      <td>NaN</td>\n",
              "      <td>NaN</td>\n",
              "      <td>NaN</td>\n",
              "      <td>NaN</td>\n",
              "      <td>NaN</td>\n",
              "      <td>NaN</td>\n",
              "      <td>NaN</td>\n",
              "      <td>NaN</td>\n",
              "      <td>NaN</td>\n",
              "      <td>NaN</td>\n",
              "      <td>NaN</td>\n",
              "      <td>NaN</td>\n",
              "      <td>NaN</td>\n",
              "      <td>NaN</td>\n",
              "      <td>NaN</td>\n",
              "    </tr>\n",
              "    <tr>\n",
              "      <th>1873580</th>\n",
              "      <td>167234</td>\n",
              "      <td>ad2979dd853f247793d4ec2fb967be3b</td>\n",
              "      <td>BRASIL</td>\n",
              "      <td>CE</td>\n",
              "      <td>230440.0</td>\n",
              "      <td>FORTALEZA</td>\n",
              "      <td>MASCULINO</td>\n",
              "      <td>43.0</td>\n",
              "      <td>2021-05-06T03:00:00.000+0000</td>\n",
              "      <td>2021-04-26T03:00:00.000+0000</td>\n",
              "      <td>2021-04-28T04:26:39.000+0000</td>\n",
              "      <td>Positivo</td>\n",
              "      <td>2021-05-04T03:00:00.000+0000</td>\n",
              "      <td>RT-PCR</td>\n",
              "      <td>Parda</td>\n",
              "      <td>FORTALEZA</td>\n",
              "      <td>0.0</td>\n",
              "      <td>7.99322e+06</td>\n",
              "      <td>3.162033e+11</td>\n",
              "      <td>Negativo.0</td>\n",
              "      <td>NaN</td>\n",
              "      <td>2021-05-06T03:00:00.000+0000</td>\n",
              "      <td>SIQUEIRA</td>\n",
              "      <td>NaN</td>\n",
              "      <td>2021-04-26T03:00:00.000+0000</td>\n",
              "      <td>NaN</td>\n",
              "      <td>NaN</td>\n",
              "      <td>NaN</td>\n",
              "      <td>NaN</td>\n",
              "      <td>NaN</td>\n",
              "      <td>NaN</td>\n",
              "      <td>NaN</td>\n",
              "      <td>NaN</td>\n",
              "      <td>NaN</td>\n",
              "      <td>NaN</td>\n",
              "      <td>Sim</td>\n",
              "      <td>NaN</td>\n",
              "      <td>NaN</td>\n",
              "      <td>NaN</td>\n",
              "      <td>NaN</td>\n",
              "      <td>NaN</td>\n",
              "      <td>NaN</td>\n",
              "    </tr>\n",
              "    <tr>\n",
              "      <th>1873581</th>\n",
              "      <td>167235</td>\n",
              "      <td>114849ef4d40d96f060316c8be22abf3</td>\n",
              "      <td>NaN</td>\n",
              "      <td>CE</td>\n",
              "      <td>230370.0</td>\n",
              "      <td>CAUCAIA</td>\n",
              "      <td>MASCULINO</td>\n",
              "      <td>33.0</td>\n",
              "      <td>2021-05-09T03:00:00.000+0000</td>\n",
              "      <td>NaN</td>\n",
              "      <td>NaN</td>\n",
              "      <td>NaN</td>\n",
              "      <td>2021-05-07T03:00:00.000+0000</td>\n",
              "      <td>NaN</td>\n",
              "      <td>Parda</td>\n",
              "      <td>CAUCAIA</td>\n",
              "      <td>0.0</td>\n",
              "      <td>9.34631e+06</td>\n",
              "      <td>NaN</td>\n",
              "      <td>NaN</td>\n",
              "      <td>NaN</td>\n",
              "      <td>NaN</td>\n",
              "      <td>PARQUE GUADALAJARA</td>\n",
              "      <td>NaN</td>\n",
              "      <td>NaN</td>\n",
              "      <td>NaN</td>\n",
              "      <td>NaN</td>\n",
              "      <td>NaN</td>\n",
              "      <td>NaN</td>\n",
              "      <td>NaN</td>\n",
              "      <td>NaN</td>\n",
              "      <td>NaN</td>\n",
              "      <td>NaN</td>\n",
              "      <td>NaN</td>\n",
              "      <td>NaN</td>\n",
              "      <td>NaN</td>\n",
              "      <td>NaN</td>\n",
              "      <td>NaN</td>\n",
              "      <td>NaN</td>\n",
              "      <td>NaN</td>\n",
              "      <td>NaN</td>\n",
              "      <td>NaN</td>\n",
              "    </tr>\n",
              "    <tr>\n",
              "      <th>1873582</th>\n",
              "      <td>167236</td>\n",
              "      <td>6122766e6affc0f2b0410c818b858409</td>\n",
              "      <td>NaN</td>\n",
              "      <td>CE</td>\n",
              "      <td>230440.0</td>\n",
              "      <td>FORTALEZA</td>\n",
              "      <td>MASCULINO</td>\n",
              "      <td>20.0</td>\n",
              "      <td>2021-05-10T03:00:00.000+0000</td>\n",
              "      <td>NaN</td>\n",
              "      <td>NaN</td>\n",
              "      <td>NaN</td>\n",
              "      <td>2021-05-09T03:00:00.000+0000</td>\n",
              "      <td>NaN</td>\n",
              "      <td>Branca</td>\n",
              "      <td>FORTALEZA</td>\n",
              "      <td>0.0</td>\n",
              "      <td>2.4825e+06</td>\n",
              "      <td>NaN</td>\n",
              "      <td>NaN</td>\n",
              "      <td>NaN</td>\n",
              "      <td>NaN</td>\n",
              "      <td>PEDRAS</td>\n",
              "      <td>NaN</td>\n",
              "      <td>NaN</td>\n",
              "      <td>NaN</td>\n",
              "      <td>NaN</td>\n",
              "      <td>NaN</td>\n",
              "      <td>NaN</td>\n",
              "      <td>NaN</td>\n",
              "      <td>NaN</td>\n",
              "      <td>NaN</td>\n",
              "      <td>NaN</td>\n",
              "      <td>NaN</td>\n",
              "      <td>NaN</td>\n",
              "      <td>NaN</td>\n",
              "      <td>NaN</td>\n",
              "      <td>NaN</td>\n",
              "      <td>NaN</td>\n",
              "      <td>NaN</td>\n",
              "      <td>NaN</td>\n",
              "      <td>NaN</td>\n",
              "    </tr>\n",
              "  </tbody>\n",
              "</table>\n",
              "<p>1873583 rows × 42 columns</p>\n",
              "</div>"
            ],
            "text/plain": [
              "          index  ... dataSaidaUtisSvep\n",
              "0             0  ...               NaN\n",
              "1             1  ...               NaN\n",
              "2             2  ...               NaN\n",
              "3             3  ...               NaN\n",
              "4             4  ...               NaN\n",
              "...         ...  ...               ...\n",
              "1873578  167232  ...               NaN\n",
              "1873579  167233  ...               NaN\n",
              "1873580  167234  ...               NaN\n",
              "1873581  167235  ...               NaN\n",
              "1873582  167236  ...               NaN\n",
              "\n",
              "[1873583 rows x 42 columns]"
            ]
          },
          "metadata": {
            "tags": []
          },
          "execution_count": 124
        }
      ]
    },
    {
      "cell_type": "code",
      "metadata": {
        "colab": {
          "base_uri": "https://localhost:8080/"
        },
        "id": "dTFmso52v0kD",
        "outputId": "c88d9a7a-9465-4f2f-dd33-bbc0eb998675"
      },
      "source": [
        "#mostra os campos e a quantidade de dados faltantes\n",
        "dfTotal.isna().sum()"
      ],
      "execution_count": 125,
      "outputs": [
        {
          "output_type": "execute_result",
          "data": {
            "text/plain": [
              "codigoPaciente                            0\n",
              "paisPaciente                        1786289\n",
              "estadoPaciente                          256\n",
              "codigoMunicipioPaciente               14685\n",
              "municipioPaciente                        40\n",
              "sexoPaciente                             52\n",
              "idadePaciente                            80\n",
              "dataNotificacao                           0\n",
              "dataColetaExame                      375130\n",
              "dataResultadoExame                   379586\n",
              "resultadoFinalExame                  117663\n",
              "dataInicioSintomas                    17533\n",
              "tipoTesteExame                       117983\n",
              "racaCorPaciente                       95777\n",
              "municipioNotificacaoEsus              30541\n",
              "profissionalSaude                     30503\n",
              "cnesNotificacaoEsus                  385965\n",
              "idSivep                             1791914\n",
              "classificacaoEstadoSivep            1805751\n",
              "dataInternacaoSivep                 1801016\n",
              "dataEntradaUtisSvep                 1855513\n",
              "bairroPaciente                        19590\n",
              "comorbidadeNeurologiaSivep          1853535\n",
              "dataSolicitacaoExame                1743737\n",
              "obitoConfirmado                     1850885\n",
              "dataObito                           1848669\n",
              "tipoObito                           1848669\n",
              "dataNotificacaoObito                1848669\n",
              "comorbidadeCardiovascularSivep      1841169\n",
              "comorbidadeObesidadeSivep           1852292\n",
              "evolucaoCaso                        1821295\n",
              "dataEvolucaoCasoSivep               1824689\n",
              "comorbidadeHematologiaSivep         1854590\n",
              "comorbidadeSindromeDownSivep        1854692\n",
              "comorbidadeAsmaSivep                1854241\n",
              "comorbidadeDiabetesSivep            1844014\n",
              "comorbidadeImunodeficienciaSivep    1854305\n",
              "comorbidadeRenalSivep               1854013\n",
              "comorbidadePuerperaSivep            1854513\n",
              "comorbidadePneumopatiaSivep         1854126\n",
              "dataSaidaUtisSvep                   1865679\n",
              "dtype: int64"
            ]
          },
          "metadata": {
            "tags": []
          },
          "execution_count": 125
        }
      ]
    },
    {
      "cell_type": "code",
      "metadata": {
        "colab": {
          "base_uri": "https://localhost:8080/"
        },
        "id": "1tbCxHKV6rG9",
        "outputId": "b015e817-00dd-4704-de22-391a3f6d23b7"
      },
      "source": [
        "#mostra a quantidade de registros no dataset\n",
        "dfTotal.shape"
      ],
      "execution_count": 126,
      "outputs": [
        {
          "output_type": "execute_result",
          "data": {
            "text/plain": [
              "(1873583, 41)"
            ]
          },
          "metadata": {
            "tags": []
          },
          "execution_count": 126
        }
      ]
    },
    {
      "cell_type": "markdown",
      "metadata": {
        "id": "YEzFNkpU6yZb"
      },
      "source": [
        "**Seleciona apenas as colunas de interesse**"
      ]
    },
    {
      "cell_type": "code",
      "metadata": {
        "id": "qcwEwCBY33ME"
      },
      "source": [
        "#Define as colunas de interesse\n",
        "features = [\"codigoPaciente\",\n",
        "\"codigoMunicipioPaciente\",\n",
        "\"sexoPaciente\",\n",
        "\"idadePaciente\",\n",
        "\"racaCorPaciente\",\n",
        "\"comorbidadeNeurologiaSivep\",\n",
        "\"comorbidadeCardiovascularSivep\",\n",
        "\"comorbidadeObesidadeSivep\",\n",
        "\"comorbidadeHematologiaSivep\",\n",
        "\"comorbidadeSindromeDownSivep\",\n",
        "\"comorbidadeAsmaSivep\",\n",
        "\"comorbidadeDiabetesSivep\",\n",
        "\"comorbidadeImunodeficienciaSivep\",\n",
        "\"comorbidadeRenalSivep\",\n",
        "\"comorbidadePuerperaSivep\",\n",
        "\"comorbidadePneumopatiaSivep\",\n",
        "\"dataNotificacao\",\n",
        "\"resultadoFinalExame\",\n",
        "\"dataInternacaoSivep\",\n",
        "\"dataEntradaUtisSvep\",\n",
        "\"obitoConfirmado\",\n",
        "\"dataObito\",\n",
        "\"tipoObito\"]\n",
        "\n",
        "#seleciona apenas as colunas de interesse\n",
        "dfTotalColunasEspecificas = dfTotal.loc[:,features]"
      ],
      "execution_count": 127,
      "outputs": []
    },
    {
      "cell_type": "markdown",
      "metadata": {
        "id": "Ko89mqXywULZ"
      },
      "source": [
        "**Segundo Filtro: Selecionar apenas os pacientes que vieram a óbito**"
      ]
    },
    {
      "cell_type": "code",
      "metadata": {
        "id": "x47S3RrKwSTx"
      },
      "source": [
        "dfObitosGeral = dfTotalColunasEspecificas.loc[dfTotalColunasEspecificas.dataObito.notna()]"
      ],
      "execution_count": 128,
      "outputs": []
    },
    {
      "cell_type": "code",
      "metadata": {
        "colab": {
          "base_uri": "https://localhost:8080/"
        },
        "id": "PkULvn0u7H9Q",
        "outputId": "5135ff37-9f2c-4bc5-aec3-36502f4f14c3"
      },
      "source": [
        "#mostra o número total de registros\n",
        "dfObitosGeral.shape"
      ],
      "execution_count": 129,
      "outputs": [
        {
          "output_type": "execute_result",
          "data": {
            "text/plain": [
              "(24914, 23)"
            ]
          },
          "metadata": {
            "tags": []
          },
          "execution_count": 129
        }
      ]
    },
    {
      "cell_type": "markdown",
      "metadata": {
        "id": "OpovAc4Pw0kD"
      },
      "source": [
        "**Remove do Dataset os óbitos que ainda estão em investigação**"
      ]
    },
    {
      "cell_type": "code",
      "metadata": {
        "id": "mY_GqNV9wE-J"
      },
      "source": [
        "#remove os óbitos em investigação\n",
        "dfObitosConfirmados = dfObitosGeral.loc[~dfObitosGeral.tipoObito.eq(\"Em investigação\")]\n"
      ],
      "execution_count": 130,
      "outputs": []
    },
    {
      "cell_type": "code",
      "metadata": {
        "colab": {
          "base_uri": "https://localhost:8080/"
        },
        "id": "xKaR9HRB7WHD",
        "outputId": "ee4cfae9-bbe0-4e5f-b557-b7bb1e5f95a3"
      },
      "source": [
        "#mostra o número de registros após a filtragem\n",
        "dfObitosConfirmados.shape"
      ],
      "execution_count": 131,
      "outputs": [
        {
          "output_type": "execute_result",
          "data": {
            "text/plain": [
              "(23896, 23)"
            ]
          },
          "metadata": {
            "tags": []
          },
          "execution_count": 131
        }
      ]
    },
    {
      "cell_type": "markdown",
      "metadata": {
        "id": "3ClfsJcyyh-D"
      },
      "source": [
        "**Remove os pacientes duplicados**"
      ]
    },
    {
      "cell_type": "code",
      "metadata": {
        "id": "Rj769muF2g6L"
      },
      "source": [
        "#Remove as linhas duplicadas\n",
        "dfObitosNonLinesDuplicates = dfObitosConfirmados.drop_duplicates(subset=[\"codigoPaciente\"], keep=\"last\")"
      ],
      "execution_count": 174,
      "outputs": []
    },
    {
      "cell_type": "code",
      "metadata": {
        "colab": {
          "base_uri": "https://localhost:8080/"
        },
        "id": "coGRATinzW26",
        "outputId": "35ed06fa-46c6-41cb-daa1-a24876411b5c"
      },
      "source": [
        "#mostra o número de registros após a filtragem\n",
        "dfObitosNonLinesDuplicates.shape"
      ],
      "execution_count": 156,
      "outputs": [
        {
          "output_type": "execute_result",
          "data": {
            "text/plain": [
              "(20122, 23)"
            ]
          },
          "metadata": {
            "tags": []
          },
          "execution_count": 156
        }
      ]
    },
    {
      "cell_type": "markdown",
      "metadata": {
        "id": "rz5oKOOj-e1b"
      },
      "source": [
        "**Preenche as campos vázios das combormidades com Não**"
      ]
    },
    {
      "cell_type": "code",
      "metadata": {
        "id": "ZjvEDfBw-eW8"
      },
      "source": [
        "#seleciona apenas as features que possuem comorbidades\n",
        "comorbidade_cols = [col for col in dfObitosNonLinesDuplicates.columns if 'comorbidade' in col]\n",
        "\n",
        "#Preenche as comorbidades com valores vázios como se não tivessem a comorbidades\n",
        "dfObitosNonLinesDuplicates.loc[:,comorbidade_cols] = dfObitosNonLinesDuplicates.loc[:, comorbidade_cols].fillna(\"Não\")"
      ],
      "execution_count": null,
      "outputs": []
    },
    {
      "cell_type": "markdown",
      "metadata": {
        "id": "kw2aDHePCbiX"
      },
      "source": [
        "**Preenche a coluna obitoConfirmado com valor  Não se o valor for vázio. A coluna obitoConfirmado indica se a pessoa morreu por Covid. Os valores nulos para essa coluna correspondem aos casos descartados (tipoObito).**"
      ]
    },
    {
      "cell_type": "code",
      "metadata": {
        "colab": {
          "base_uri": "https://localhost:8080/"
        },
        "id": "90M9eS8m8Mk2",
        "outputId": "2ebb8553-094a-47b9-ca6b-538c5a0f1ff5"
      },
      "source": [
        "#Existe 1616 obitos que foram descartados e estão com valor nulo na coluna obitoConfirmado\n",
        "dfObitosNonLinesDuplicates[dfObitosNonLinesDuplicates.tipoObito.eq(\"Descartado\")].obitoConfirmado.value_counts(dropna=False)"
      ],
      "execution_count": 176,
      "outputs": [
        {
          "output_type": "execute_result",
          "data": {
            "text/plain": [
              "NaN    1616\n",
              "Name: obitoConfirmado, dtype: int64"
            ]
          },
          "metadata": {
            "tags": []
          },
          "execution_count": 176
        }
      ]
    },
    {
      "cell_type": "code",
      "metadata": {
        "colab": {
          "base_uri": "https://localhost:8080/"
        },
        "id": "eZHsv9lHdG9K",
        "outputId": "f9c441a4-a894-4ced-aacd-fd1ae60d3f7e"
      },
      "source": [
        "#Preenche com 0 (Não) a coluna obitoConfirmado se ela estiver vázia\n",
        "dfObitosNonLinesDuplicates.obitoConfirmado.fillna(0, inplace=True)"
      ],
      "execution_count": 177,
      "outputs": [
        {
          "output_type": "stream",
          "text": [
            "/usr/local/lib/python3.7/dist-packages/pandas/core/series.py:4536: SettingWithCopyWarning: \n",
            "A value is trying to be set on a copy of a slice from a DataFrame\n",
            "\n",
            "See the caveats in the documentation: https://pandas.pydata.org/pandas-docs/stable/user_guide/indexing.html#returning-a-view-versus-a-copy\n",
            "  downcast=downcast,\n"
          ],
          "name": "stderr"
        }
      ]
    },
    {
      "cell_type": "markdown",
      "metadata": {
        "id": "V_6WFCYse97h"
      },
      "source": [
        "**Remove o único paciente sem idade**"
      ]
    },
    {
      "cell_type": "code",
      "metadata": {
        "id": "aU0GTnqgfBm-"
      },
      "source": [
        "dfObitosNonLinesDuplicates.dropna(subset=[\"idadePaciente\"], inplace=True)"
      ],
      "execution_count": null,
      "outputs": []
    },
    {
      "cell_type": "markdown",
      "metadata": {
        "id": "R45yDrAPfWQ7"
      },
      "source": [
        "**Remove os pacientes sem código de Municipio - provavelmente não são do Ceará**"
      ]
    },
    {
      "cell_type": "code",
      "metadata": {
        "id": "ROr1goIhgnv2"
      },
      "source": [
        "dfObitosNonLinesDuplicates.dropna(subset=[\"codigoMunicipioPaciente\"], inplace=True)"
      ],
      "execution_count": null,
      "outputs": []
    },
    {
      "cell_type": "markdown",
      "metadata": {
        "id": "KRsH2wIE-MBE"
      },
      "source": [
        "**Verifica a quantidade de registros faltantes**"
      ]
    },
    {
      "cell_type": "code",
      "metadata": {
        "colab": {
          "base_uri": "https://localhost:8080/"
        },
        "id": "m9Cdzn9B9lw8",
        "outputId": "a6b5e78b-9217-420d-a4b8-e960ad3d5296"
      },
      "source": [
        "dfObitosNonLinesDuplicates.isna().sum()"
      ],
      "execution_count": 180,
      "outputs": [
        {
          "output_type": "execute_result",
          "data": {
            "text/plain": [
              "codigoPaciente                          0\n",
              "codigoMunicipioPaciente                 0\n",
              "sexoPaciente                            0\n",
              "idadePaciente                           0\n",
              "racaCorPaciente                      6173\n",
              "comorbidadeNeurologiaSivep              0\n",
              "comorbidadeCardiovascularSivep          0\n",
              "comorbidadeObesidadeSivep               0\n",
              "comorbidadeHematologiaSivep             0\n",
              "comorbidadeSindromeDownSivep            0\n",
              "comorbidadeAsmaSivep                    0\n",
              "comorbidadeDiabetesSivep                0\n",
              "comorbidadeImunodeficienciaSivep        0\n",
              "comorbidadeRenalSivep                   0\n",
              "comorbidadePuerperaSivep                0\n",
              "comorbidadePneumopatiaSivep             0\n",
              "dataNotificacao                         0\n",
              "resultadoFinalExame                     0\n",
              "dataInternacaoSivep                  4540\n",
              "dataEntradaUtisSvep                 12806\n",
              "obitoConfirmado                         0\n",
              "dataObito                               0\n",
              "tipoObito                               0\n",
              "dtype: int64"
            ]
          },
          "metadata": {
            "tags": []
          },
          "execution_count": 180
        }
      ]
    },
    {
      "cell_type": "markdown",
      "metadata": {
        "id": "uODpTb7KiEQh"
      },
      "source": [
        "**Altera os valores ignorados nas colunas comorbidades para Não**"
      ]
    },
    {
      "cell_type": "code",
      "metadata": {
        "id": "E7WT25ldiEco"
      },
      "source": [
        "for c in comorbidade_cols:\n",
        "  dfObitosNonLinesDuplicates[c] = dfObitosNonLinesDuplicates[c].apply(lambda value: \"Não\" if value == \"Ignorado\" else value)\n"
      ],
      "execution_count": null,
      "outputs": []
    },
    {
      "cell_type": "markdown",
      "metadata": {
        "id": "e2Z1YEdEkH6J"
      },
      "source": [
        "**Verifica os valores únicos para todas colunas**"
      ]
    },
    {
      "cell_type": "code",
      "metadata": {
        "colab": {
          "base_uri": "https://localhost:8080/"
        },
        "id": "5oZjDsj6kPoA",
        "outputId": "e3ec3016-10ed-4f0a-b13a-12047ec1f0c5"
      },
      "source": [
        "colunas = comorbidade_cols + [\"sexoPaciente\", \"idadePaciente\", \"racaCorPaciente\", \"obitoConfirmado\", \"tipoObito\"]\n",
        "for c in colunas:\n",
        "  print(c, \":\", dfObitosNonLinesDuplicates[c].unique())"
      ],
      "execution_count": 192,
      "outputs": [
        {
          "output_type": "stream",
          "text": [
            "comorbidadeNeurologiaSivep : ['Não' 'Sim']\n",
            "comorbidadeCardiovascularSivep : ['Sim' 'Não']\n",
            "comorbidadeObesidadeSivep : ['Sim' 'Não']\n",
            "comorbidadeHematologiaSivep : ['Não' 'Sim']\n",
            "comorbidadeSindromeDownSivep : ['Não' 'Sim']\n",
            "comorbidadeAsmaSivep : ['Não' 'Sim']\n",
            "comorbidadeDiabetesSivep : ['Não' 'Sim']\n",
            "comorbidadeImunodeficienciaSivep : ['Não' 'Sim']\n",
            "comorbidadeRenalSivep : ['Não' 'Sim']\n",
            "comorbidadePuerperaSivep : ['Não' 'Sim']\n",
            "comorbidadePneumopatiaSivep : ['Não' 'Sim']\n",
            "sexoPaciente : ['MASCULINO' 'FEMININO']\n",
            "idadePaciente : [ 68.  32.  73.  85.  36.  72.  56.  57.  71.  66.  61.  41.  84.  96.\n",
            "  94.  76.  80.  59.  55.  74.  91.  37.  83.  64.  60.  97.  86.  77.\n",
            "  98.  53.  89.  40.  58.  70.  48.  47.   1.  62.  88.  93.  75.  63.\n",
            "  90.  69.  39.  42.  92.  87.  81.  95.  82.  78.  67.  43.   0.  30.\n",
            "  51.  24.  65.  31.  17.  79.  52.  38.  46.  50.  44.  45.  54.  29.\n",
            "  33.  25.  49.  23.  35.  99. 101. 100.  28.  10.   2.  26.  22.  21.\n",
            "  19.   5.   3. 102.  16.  34. 104.  18.  15.   7. 103.   9.  20.  13.\n",
            "  27.  11.   4. 110. 107. 109. 106.   8. 105.   6.  14. 116. 114.]\n",
            "racaCorPaciente : ['Amarela' nan 'Parda' 'Branca' 'Preta' 'Indígena' 'Ignorado']\n",
            "obitoConfirmado : [1. 0.]\n",
            "tipoObito : ['Confirmado' 'Descartado' 'SRAG Teste Rápido +' 'Confirmado pelo comitê']\n"
          ],
          "name": "stdout"
        }
      ]
    },
    {
      "cell_type": "markdown",
      "metadata": {
        "id": "OBbhiOVdoGpz"
      },
      "source": [
        "**Agrupa a idade em categorias de 5 anos**"
      ]
    },
    {
      "cell_type": "code",
      "metadata": {
        "id": "GEMzCf-1oOX0"
      },
      "source": [
        "bins = [x for x in range(0,110, 10)]\n",
        "labels = [\"{} a {}\".format(x, x+9) for x in range(0,100, 10)]\n",
        "labels[-1] = 'mais de 90'\n",
        "dfObitosNonLinesDuplicates['idadeCategoria'] = pd.cut(dfObitosNonLinesDuplicates['idadePaciente'], bins=bins, labels=labels)"
      ],
      "execution_count": null,
      "outputs": []
    },
    {
      "cell_type": "markdown",
      "metadata": {
        "id": "M8HBtH2i8DAr"
      },
      "source": [
        "**Mostra a distribuição dos dados**"
      ]
    },
    {
      "cell_type": "code",
      "metadata": {
        "colab": {
          "base_uri": "https://localhost:8080/"
        },
        "id": "CTVoHPtaqqiS",
        "outputId": "951ddd03-bdf0-4ce2-d0b6-556c3e2c0b57"
      },
      "source": [
        "dfObitosNonLinesDuplicates.obitoConfirmado.value_counts()"
      ],
      "execution_count": 206,
      "outputs": [
        {
          "output_type": "execute_result",
          "data": {
            "text/plain": [
              "1.0    18472\n",
              "0.0     1615\n",
              "Name: obitoConfirmado, dtype: int64"
            ]
          },
          "metadata": {
            "tags": []
          },
          "execution_count": 206
        }
      ]
    },
    {
      "cell_type": "markdown",
      "metadata": {
        "id": "gHmju31YrILh"
      },
      "source": [
        "**Salva o dataset**"
      ]
    },
    {
      "cell_type": "code",
      "metadata": {
        "id": "sFBvfQlPrIV5"
      },
      "source": [
        "dfObitosNonLinesDuplicates.to_csv(\"DatasetCovidTratado.csv\")"
      ],
      "execution_count": 207,
      "outputs": []
    }
  ]
}