{
  "nbformat": 4,
  "nbformat_minor": 0,
  "metadata": {
    "colab": {
      "name": "Tratamentode Dados para ML-Cox.ipynb",
      "provenance": [],
      "mount_file_id": "1-RkLHzd-h_XTCT6ZWvf7nNG-cVEp_FtR",
      "authorship_tag": "ABX9TyOKWaP6w9KyWY5RlpKoweVE",
      "include_colab_link": true
    },
    "kernelspec": {
      "name": "python3",
      "display_name": "Python 3"
    },
    "language_info": {
      "name": "python"
    }
  },
  "cells": [
    {
      "cell_type": "markdown",
      "metadata": {
        "id": "view-in-github",
        "colab_type": "text"
      },
      "source": [
        "<a href=\"https://colab.research.google.com/github/softip/projeto_IA368X/blob/main/notebooks/Tratamentode_Dados_para_ML_Cox.ipynb\" target=\"_parent\"><img src=\"https://colab.research.google.com/assets/colab-badge.svg\" alt=\"Open In Colab\"/></a>"
      ]
    },
    {
      "cell_type": "markdown",
      "metadata": {
        "id": "sfOmTCN1P0Ae"
      },
      "source": [
        "# **Importação dos Dados**"
      ]
    },
    {
      "cell_type": "code",
      "metadata": {
        "id": "4lQGgdGBu-65"
      },
      "source": [
        "\n",
        "import pandas as pd\n",
        "\n",
        "#importa dataset do github\n",
        "df = []\n",
        "for i in range(1,10):\n",
        "  df.append(pd.read_csv(\"https://raw.githubusercontent.com/softip/projeto_IA368X/main/data/external/dados_covid_ce_{}.csv\".format(i)))\n",
        "\n",
        "dfTotal = pd.DataFrame()\n",
        "dfTotal = pd.concat(df)\n",
        "dfTotal.reset_index()"
      ],
      "execution_count": 335,
      "outputs": []
    },
    {
      "cell_type": "code",
      "metadata": {
        "colab": {
          "base_uri": "https://localhost:8080/"
        },
        "id": "dTFmso52v0kD",
        "outputId": "f9da6c58-e1c0-44fb-e07a-a17be94a0d73"
      },
      "source": [
        "#mostra os campos e a quantidade de dados faltantes\n",
        "dfTotal.isna().sum()"
      ],
      "execution_count": 336,
      "outputs": [
        {
          "output_type": "execute_result",
          "data": {
            "text/plain": [
              "codigoPaciente                            0\n",
              "paisPaciente                        1786289\n",
              "estadoPaciente                          256\n",
              "codigoMunicipioPaciente               14685\n",
              "municipioPaciente                        40\n",
              "sexoPaciente                             52\n",
              "idadePaciente                            80\n",
              "dataNotificacao                           0\n",
              "dataColetaExame                      375130\n",
              "dataResultadoExame                   379586\n",
              "resultadoFinalExame                  117663\n",
              "dataInicioSintomas                    17533\n",
              "tipoTesteExame                       117983\n",
              "racaCorPaciente                       95777\n",
              "municipioNotificacaoEsus              30541\n",
              "profissionalSaude                     30503\n",
              "cnesNotificacaoEsus                  385965\n",
              "idSivep                             1791914\n",
              "classificacaoEstadoSivep            1805751\n",
              "dataInternacaoSivep                 1801016\n",
              "dataEntradaUtisSvep                 1855513\n",
              "bairroPaciente                        19590\n",
              "comorbidadeNeurologiaSivep          1853535\n",
              "dataSolicitacaoExame                1743737\n",
              "obitoConfirmado                     1850885\n",
              "dataObito                           1848669\n",
              "tipoObito                           1848669\n",
              "dataNotificacaoObito                1848669\n",
              "comorbidadeCardiovascularSivep      1841169\n",
              "comorbidadeObesidadeSivep           1852292\n",
              "evolucaoCaso                        1821295\n",
              "dataEvolucaoCasoSivep               1824689\n",
              "comorbidadeHematologiaSivep         1854590\n",
              "comorbidadeSindromeDownSivep        1854692\n",
              "comorbidadeAsmaSivep                1854241\n",
              "comorbidadeDiabetesSivep            1844014\n",
              "comorbidadeImunodeficienciaSivep    1854305\n",
              "comorbidadeRenalSivep               1854013\n",
              "comorbidadePuerperaSivep            1854513\n",
              "comorbidadePneumopatiaSivep         1854126\n",
              "dataSaidaUtisSvep                   1865679\n",
              "dtype: int64"
            ]
          },
          "metadata": {
            "tags": []
          },
          "execution_count": 336
        }
      ]
    },
    {
      "cell_type": "code",
      "metadata": {
        "colab": {
          "base_uri": "https://localhost:8080/"
        },
        "id": "1tbCxHKV6rG9",
        "outputId": "8b0e050c-2a09-4d9d-ab5b-89c4c9acc74c"
      },
      "source": [
        "#mostra a quantidade de registros no dataset\n",
        "dfTotal.shape"
      ],
      "execution_count": 337,
      "outputs": [
        {
          "output_type": "execute_result",
          "data": {
            "text/plain": [
              "(1873583, 41)"
            ]
          },
          "metadata": {
            "tags": []
          },
          "execution_count": 337
        }
      ]
    },
    {
      "cell_type": "markdown",
      "metadata": {
        "id": "Ko89mqXywULZ"
      },
      "source": [
        "# **Seleciona apenas os pacientes que testaram positivo para Covid**"
      ]
    },
    {
      "cell_type": "code",
      "metadata": {
        "id": "x47S3RrKwSTx"
      },
      "source": [
        "dfCasosPositivos = dfTotal.loc[dfTotal.resultadoFinalExame.eq(\"Positivo\")]"
      ],
      "execution_count": 338,
      "outputs": []
    },
    {
      "cell_type": "code",
      "metadata": {
        "colab": {
          "base_uri": "https://localhost:8080/"
        },
        "id": "PkULvn0u7H9Q",
        "outputId": "48dbc38f-6034-4bb8-c7ff-f781794c1e6b"
      },
      "source": [
        "#mostra o número total de registros\n",
        "dfCasosPositivos.shape"
      ],
      "execution_count": 339,
      "outputs": [
        {
          "output_type": "execute_result",
          "data": {
            "text/plain": [
              "(619278, 41)"
            ]
          },
          "metadata": {
            "tags": []
          },
          "execution_count": 339
        }
      ]
    },
    {
      "cell_type": "markdown",
      "metadata": {
        "id": "OpovAc4Pw0kD"
      },
      "source": [
        "# **Remove do Dataset os óbitos que ainda estão em investigação**"
      ]
    },
    {
      "cell_type": "code",
      "metadata": {
        "id": "mY_GqNV9wE-J"
      },
      "source": [
        "#remove os óbitos em investigação\n",
        "dfCasosPositivosSemObitosEmInvestigacao = dfCasosPositivos.loc[~dfCasosPositivos.tipoObito.eq(\"Em investigação\")]"
      ],
      "execution_count": 340,
      "outputs": []
    },
    {
      "cell_type": "code",
      "metadata": {
        "colab": {
          "base_uri": "https://localhost:8080/"
        },
        "id": "xKaR9HRB7WHD",
        "outputId": "b4c8a41c-048a-4675-f6fa-9164c162889f"
      },
      "source": [
        "#mostra o número de registros após a filtragem\n",
        "dfCasosPositivosSemObitosEmInvestigacao.shape"
      ],
      "execution_count": 341,
      "outputs": [
        {
          "output_type": "execute_result",
          "data": {
            "text/plain": [
              "(618995, 41)"
            ]
          },
          "metadata": {
            "tags": []
          },
          "execution_count": 341
        }
      ]
    },
    {
      "cell_type": "markdown",
      "metadata": {
        "id": "yHeFhxGyLPPA"
      },
      "source": [
        "# **Seleciona apenas os pacientes que possuem evolução do caso como \"cura\" ou \"obito\"** "
      ]
    },
    {
      "cell_type": "code",
      "metadata": {
        "id": "J3L0tyBuLZj2"
      },
      "source": [
        "dfEvolucaoPositivos = dfCasosPositivosSemObitosEmInvestigacao.loc[(dfCasosPositivosSemObitosEmInvestigacao.evolucaoCaso.eq(\"Óbito.0\")) | (dfCasosPositivosSemObitosEmInvestigacao.evolucaoCaso.eq(\"Cura.0\"))]"
      ],
      "execution_count": 342,
      "outputs": []
    },
    {
      "cell_type": "code",
      "metadata": {
        "colab": {
          "base_uri": "https://localhost:8080/"
        },
        "id": "6GhRIZ68KqMg",
        "outputId": "a7b74116-d08a-498e-c6ee-2ff833f618a7"
      },
      "source": [
        "dfEvolucaoPositivos.evolucaoCaso.value_counts(dropna=False)"
      ],
      "execution_count": 343,
      "outputs": [
        {
          "output_type": "execute_result",
          "data": {
            "text/plain": [
              "Óbito.0    20104\n",
              "Cura.0     13450\n",
              "Name: evolucaoCaso, dtype: int64"
            ]
          },
          "metadata": {
            "tags": []
          },
          "execution_count": 343
        }
      ]
    },
    {
      "cell_type": "markdown",
      "metadata": {
        "id": "aBMS4ismNUM6"
      },
      "source": [
        "# **Remove os registros que não possui a cor / raça do paciente** "
      ]
    },
    {
      "cell_type": "code",
      "metadata": {
        "id": "f8vGzFxSNdPO"
      },
      "source": [
        "#remove os pacientes que não possuem a raça informada\n",
        "dfEvoluidosComRaca= dfEvolucaoPositivos.dropna(subset=[\"racaCorPaciente\"])"
      ],
      "execution_count": 344,
      "outputs": []
    },
    {
      "cell_type": "code",
      "metadata": {
        "colab": {
          "base_uri": "https://localhost:8080/"
        },
        "id": "LWKJPwcMOkZc",
        "outputId": "2a0747b5-b63d-4281-d29c-91668265a45f"
      },
      "source": [
        "#mostra o número de registros após a filtragem\n",
        "dfEvoluidosComRaca.shape"
      ],
      "execution_count": 345,
      "outputs": [
        {
          "output_type": "execute_result",
          "data": {
            "text/plain": [
              "(22493, 41)"
            ]
          },
          "metadata": {
            "tags": []
          },
          "execution_count": 345
        }
      ]
    },
    {
      "cell_type": "markdown",
      "metadata": {
        "id": "3ClfsJcyyh-D"
      },
      "source": [
        "# **Remove os pacientes duplicados**"
      ]
    },
    {
      "cell_type": "code",
      "metadata": {
        "id": "Rj769muF2g6L"
      },
      "source": [
        "#Remove as linhas duplicadas\n",
        "dfEvoluidosComRacaUniq = dfEvoluidosComRaca.drop_duplicates(subset=[\"codigoPaciente\"], keep=\"last\")"
      ],
      "execution_count": 346,
      "outputs": []
    },
    {
      "cell_type": "code",
      "metadata": {
        "colab": {
          "base_uri": "https://localhost:8080/"
        },
        "id": "coGRATinzW26",
        "outputId": "de09239e-2beb-47f2-eda9-14b6e89cb8c8"
      },
      "source": [
        "#mostra o número de registros após a filtragem\n",
        "dfEvoluidosComRacaUniq.shape"
      ],
      "execution_count": 347,
      "outputs": [
        {
          "output_type": "execute_result",
          "data": {
            "text/plain": [
              "(19928, 41)"
            ]
          },
          "metadata": {
            "tags": []
          },
          "execution_count": 347
        }
      ]
    },
    {
      "cell_type": "markdown",
      "metadata": {
        "id": "V_6WFCYse97h"
      },
      "source": [
        "# **Remove o único paciente sem idade**"
      ]
    },
    {
      "cell_type": "code",
      "metadata": {
        "id": "aU0GTnqgfBm-"
      },
      "source": [
        "#remove o único paciente que não possui idade\n",
        "dfEvoluidosComRacaUniqIdade = dfEvoluidosComRacaUniq.dropna(subset=[\"idadePaciente\"])"
      ],
      "execution_count": 348,
      "outputs": []
    },
    {
      "cell_type": "code",
      "metadata": {
        "colab": {
          "base_uri": "https://localhost:8080/"
        },
        "id": "IzFE-Go1ymzE",
        "outputId": "d8d4fa9f-1b31-4dfe-d4b6-932694d4b758"
      },
      "source": [
        "#mostra o número de registros após a filtragem\n",
        "dfEvoluidosComRacaUniqIdade.shape"
      ],
      "execution_count": 349,
      "outputs": [
        {
          "output_type": "execute_result",
          "data": {
            "text/plain": [
              "(19927, 41)"
            ]
          },
          "metadata": {
            "tags": []
          },
          "execution_count": 349
        }
      ]
    },
    {
      "cell_type": "markdown",
      "metadata": {
        "id": "uODpTb7KiEQh"
      },
      "source": [
        "# **Altera os valores ignorados nas colunas comorbidades para Não**"
      ]
    },
    {
      "cell_type": "code",
      "metadata": {
        "colab": {
          "base_uri": "https://localhost:8080/"
        },
        "id": "Kbajo4UIR4WJ",
        "outputId": "eb4e142a-9329-4903-df79-2397fd1adfb3"
      },
      "source": [
        "#seleciona apenas as features que possuem comorbidades\n",
        "comorbidade_cols = [col for col in dfEvoluidosComRacaUniqIdade.columns if 'comorbidade' in col]\n",
        "#Substitui Ignorado e Não por 0 e Sim por 1\n",
        "for c in comorbidade_cols:\n",
        "  dfEvoluidosComRacaUniqIdade.loc[dfEvoluidosComRacaUniqIdade[c].eq(\"Ignorado\") | dfEvoluidosComRacaUniqIdade[c].eq(\"Não\") | dfEvoluidosComRacaUniqIdade[c].isna() ,c] = 0\n",
        "  dfEvoluidosComRacaUniqIdade.loc[dfEvoluidosComRacaUniqIdade[c].eq(\"Sim\"),c] = 1\n"
      ],
      "execution_count": 350,
      "outputs": [
        {
          "output_type": "stream",
          "text": [
            "/usr/local/lib/python3.7/dist-packages/pandas/core/indexing.py:1763: SettingWithCopyWarning: \n",
            "A value is trying to be set on a copy of a slice from a DataFrame.\n",
            "Try using .loc[row_indexer,col_indexer] = value instead\n",
            "\n",
            "See the caveats in the documentation: https://pandas.pydata.org/pandas-docs/stable/user_guide/indexing.html#returning-a-view-versus-a-copy\n",
            "  isetter(loc, value)\n"
          ],
          "name": "stderr"
        }
      ]
    },
    {
      "cell_type": "markdown",
      "metadata": {
        "id": "HHJ_CxemVz7L"
      },
      "source": [
        "# **Cria uma coluna que agrupa a idade em categorias de 5 anos**"
      ]
    },
    {
      "cell_type": "code",
      "metadata": {
        "colab": {
          "base_uri": "https://localhost:8080/"
        },
        "id": "K5GiWzQ0V0Yo",
        "outputId": "60d810e9-375f-4fc9-dec9-ed762798ca90"
      },
      "source": [
        "bins = [x for x in range(0,110, 10)]\n",
        "labels = [\"{} a {}\".format(x, x+9) for x in range(0,100, 10)]\n",
        "labels[-1] = 'mais de 90'\n",
        "dfEvoluidosComRacaUniqIdade['idadeCategoria'] = pd.cut(dfEvoluidosComRacaUniqIdade['idadePaciente'], bins=bins, labels=labels)\n",
        "#Prenche com a categoria mais de 90 anos quando as idades foram maiores que 100 (bins pega até de 90 a 100)\n",
        "dfEvoluidosComRacaUniqIdade.idadeCategoria.fillna(\"mais de 90\", inplace=True)"
      ],
      "execution_count": 351,
      "outputs": [
        {
          "output_type": "stream",
          "text": [
            "/usr/local/lib/python3.7/dist-packages/ipykernel_launcher.py:4: SettingWithCopyWarning: \n",
            "A value is trying to be set on a copy of a slice from a DataFrame.\n",
            "Try using .loc[row_indexer,col_indexer] = value instead\n",
            "\n",
            "See the caveats in the documentation: https://pandas.pydata.org/pandas-docs/stable/user_guide/indexing.html#returning-a-view-versus-a-copy\n",
            "  after removing the cwd from sys.path.\n",
            "/usr/local/lib/python3.7/dist-packages/pandas/core/series.py:4536: SettingWithCopyWarning: \n",
            "A value is trying to be set on a copy of a slice from a DataFrame\n",
            "\n",
            "See the caveats in the documentation: https://pandas.pydata.org/pandas-docs/stable/user_guide/indexing.html#returning-a-view-versus-a-copy\n",
            "  downcast=downcast,\n"
          ],
          "name": "stderr"
        }
      ]
    },
    {
      "cell_type": "markdown",
      "metadata": {
        "id": "E0ROg8NcWQ8W"
      },
      "source": [
        "# **Cria a coluna tempo sobrevivência**\n",
        "\n",
        "Essa coluna é criada com a espectativa de vida do paciente após os primeiros sintomas da doença."
      ]
    },
    {
      "cell_type": "code",
      "metadata": {
        "colab": {
          "base_uri": "https://localhost:8080/"
        },
        "id": "M8ekjiWuXsij",
        "outputId": "19a03427-6cd6-4afb-b858-ab48db1d924c"
      },
      "source": [
        "#converte as datas do óbito para datetime\n",
        "dfEvoluidosComRacaUniqIdade[\"dataObito\"] = pd.to_datetime(dfEvoluidosComRacaUniqIdade['dataObito']).dt.date \n",
        "dfEvoluidosComRacaUniqIdade[\"dataInicioSintomas\"] = pd.to_datetime(dfEvoluidosComRacaUniqIdade['dataInicioSintomas']).dt.date \n",
        "dfEvoluidosComRacaUniqIdade[\"dataNotificacao\"] = pd.to_datetime(dfEvoluidosComRacaUniqIdade['dataNotificacao']).dt.date "
      ],
      "execution_count": 352,
      "outputs": [
        {
          "output_type": "stream",
          "text": [
            "/usr/local/lib/python3.7/dist-packages/ipykernel_launcher.py:2: SettingWithCopyWarning: \n",
            "A value is trying to be set on a copy of a slice from a DataFrame.\n",
            "Try using .loc[row_indexer,col_indexer] = value instead\n",
            "\n",
            "See the caveats in the documentation: https://pandas.pydata.org/pandas-docs/stable/user_guide/indexing.html#returning-a-view-versus-a-copy\n",
            "  \n",
            "/usr/local/lib/python3.7/dist-packages/ipykernel_launcher.py:3: SettingWithCopyWarning: \n",
            "A value is trying to be set on a copy of a slice from a DataFrame.\n",
            "Try using .loc[row_indexer,col_indexer] = value instead\n",
            "\n",
            "See the caveats in the documentation: https://pandas.pydata.org/pandas-docs/stable/user_guide/indexing.html#returning-a-view-versus-a-copy\n",
            "  This is separate from the ipykernel package so we can avoid doing imports until\n",
            "/usr/local/lib/python3.7/dist-packages/ipykernel_launcher.py:4: SettingWithCopyWarning: \n",
            "A value is trying to be set on a copy of a slice from a DataFrame.\n",
            "Try using .loc[row_indexer,col_indexer] = value instead\n",
            "\n",
            "See the caveats in the documentation: https://pandas.pydata.org/pandas-docs/stable/user_guide/indexing.html#returning-a-view-versus-a-copy\n",
            "  after removing the cwd from sys.path.\n"
          ],
          "name": "stderr"
        }
      ]
    },
    {
      "cell_type": "code",
      "metadata": {
        "colab": {
          "base_uri": "https://localhost:8080/"
        },
        "id": "mrfEPsCschk7",
        "outputId": "b0640b3a-b060-4228-b7aa-588341040a9e"
      },
      "source": [
        "import numpy as np\n",
        "import datetime\n",
        "#variável date possui a data de extração do dataset (última data de acompanhamento)\n",
        "date = datetime.date(2021, 5, 25)\n",
        "#cria uma nova coluna final_acompanhamento. Essa coluna vai possuir a data do óbito  copia o valor da real e preenche os dados faltantes com a data de aquisição do dataset\n",
        "#essa data vai ser mascarada posteriormente pela regressão cox\n",
        "dfEvoluidosComRacaUniqIdade[\"final_acompanhamento\"] = dfEvoluidosComRacaUniqIdade[\"dataObito\"].apply(lambda value: date if pd.isnull(value) else value )"
      ],
      "execution_count": 353,
      "outputs": [
        {
          "output_type": "stream",
          "text": [
            "/usr/local/lib/python3.7/dist-packages/ipykernel_launcher.py:7: SettingWithCopyWarning: \n",
            "A value is trying to be set on a copy of a slice from a DataFrame.\n",
            "Try using .loc[row_indexer,col_indexer] = value instead\n",
            "\n",
            "See the caveats in the documentation: https://pandas.pydata.org/pandas-docs/stable/user_guide/indexing.html#returning-a-view-versus-a-copy\n",
            "  import sys\n"
          ],
          "name": "stderr"
        }
      ]
    },
    {
      "cell_type": "code",
      "metadata": {
        "colab": {
          "base_uri": "https://localhost:8080/"
        },
        "id": "FhB_KlJ4rmel",
        "outputId": "d92552f3-c416-4037-8602-30873cbe96d6"
      },
      "source": [
        "#cria uma nova coluna. Data de inicio do acompanhamento. \n",
        "#Utiliza como data de inicio do acomanhamento a data dos sintomas, ou em caso de nulidade a data de notificação\n",
        "def fuc_inicio_acompanhamento (row):\n",
        "  if pd.isnull(row['dataInicioSintomas']):     \n",
        "    return row[\"dataNotificacao\"]\n",
        "  else:\n",
        "    return row[\"dataInicioSintomas\"]\n",
        "\n",
        "dfEvoluidosComRacaUniqIdade[\"inicio_acompanhamento\"] = dfEvoluidosComRacaUniqIdade.apply(lambda row: fuc_inicio_acompanhamento(row), axis=1)"
      ],
      "execution_count": 354,
      "outputs": [
        {
          "output_type": "stream",
          "text": [
            "/usr/local/lib/python3.7/dist-packages/ipykernel_launcher.py:9: SettingWithCopyWarning: \n",
            "A value is trying to be set on a copy of a slice from a DataFrame.\n",
            "Try using .loc[row_indexer,col_indexer] = value instead\n",
            "\n",
            "See the caveats in the documentation: https://pandas.pydata.org/pandas-docs/stable/user_guide/indexing.html#returning-a-view-versus-a-copy\n",
            "  if __name__ == '__main__':\n"
          ],
          "name": "stderr"
        }
      ]
    },
    {
      "cell_type": "code",
      "metadata": {
        "colab": {
          "base_uri": "https://localhost:8080/"
        },
        "id": "6pdI9z7Tv2xe",
        "outputId": "501e58a1-3249-4d70-df27-c6a362102d1c"
      },
      "source": [
        "#cria a coluna tempo de vida, que possui a quantidade de dias que o paciente está vivo após o inicio dos sintomas\n",
        "dfEvoluidosComRacaUniqIdade[\"tempo_vida\"] = dfEvoluidosComRacaUniqIdade[\"final_acompanhamento\"] - dfEvoluidosComRacaUniqIdade[\"inicio_acompanhamento\"]"
      ],
      "execution_count": 355,
      "outputs": [
        {
          "output_type": "stream",
          "text": [
            "/usr/local/lib/python3.7/dist-packages/ipykernel_launcher.py:2: SettingWithCopyWarning: \n",
            "A value is trying to be set on a copy of a slice from a DataFrame.\n",
            "Try using .loc[row_indexer,col_indexer] = value instead\n",
            "\n",
            "See the caveats in the documentation: https://pandas.pydata.org/pandas-docs/stable/user_guide/indexing.html#returning-a-view-versus-a-copy\n",
            "  \n"
          ],
          "name": "stderr"
        }
      ]
    },
    {
      "cell_type": "code",
      "metadata": {
        "colab": {
          "base_uri": "https://localhost:8080/"
        },
        "id": "2V1IWbm9F9sV",
        "outputId": "aaed70f7-a14a-480c-e43e-f16ff7f8f587"
      },
      "source": [
        "#altera o tipo dias para int\n",
        "dfEvoluidosComRacaUniqIdade[\"tempo_vida\"] = dfEvoluidosComRacaUniqIdade[\"tempo_vida\"].astype('timedelta64[D]')"
      ],
      "execution_count": 356,
      "outputs": [
        {
          "output_type": "stream",
          "text": [
            "/usr/local/lib/python3.7/dist-packages/ipykernel_launcher.py:2: SettingWithCopyWarning: \n",
            "A value is trying to be set on a copy of a slice from a DataFrame.\n",
            "Try using .loc[row_indexer,col_indexer] = value instead\n",
            "\n",
            "See the caveats in the documentation: https://pandas.pydata.org/pandas-docs/stable/user_guide/indexing.html#returning-a-view-versus-a-copy\n",
            "  \n"
          ],
          "name": "stderr"
        }
      ]
    },
    {
      "cell_type": "code",
      "metadata": {
        "id": "89SXPXySHbik"
      },
      "source": [
        "#remove os tempos de vida negativos\n",
        "dfEvoluidosComRacaUniqIdade = dfEvoluidosComRacaUniqIdade.loc[dfEvoluidosComRacaUniqIdade.tempo_vida >= 0]"
      ],
      "execution_count": 357,
      "outputs": []
    },
    {
      "cell_type": "markdown",
      "metadata": {
        "id": "F6p4V1o5PndE"
      },
      "source": [
        "# **Converte o sexo do paciente para categórico númerico**\n",
        "\n",
        "\n",
        "*   0 = Feminino\n",
        "*   1 = Masculino\n",
        "\n"
      ]
    },
    {
      "cell_type": "code",
      "metadata": {
        "id": "cE1lnrez9zYE"
      },
      "source": [
        "dfEvoluidosComRacaUniqIdade.loc[dfEvoluidosComRacaUniqIdade.sexoPaciente.eq(\"FEMININO\"),\"sexo\"] = 0\n",
        "dfEvoluidosComRacaUniqIdade.loc[dfEvoluidosComRacaUniqIdade.sexoPaciente.eq(\"MASCULINO\"),\"sexo\"] = 1"
      ],
      "execution_count": 358,
      "outputs": []
    },
    {
      "cell_type": "code",
      "metadata": {
        "id": "aFMXOPPIDqRe"
      },
      "source": [
        "#remove os sexos que não são masculinos ou femininos\n",
        "dfEvoluidosComRacaUniqIdade.dropna(subset=[\"sexo\"], inplace=True)"
      ],
      "execution_count": 359,
      "outputs": []
    },
    {
      "cell_type": "markdown",
      "metadata": {
        "id": "2lTnnD6X-kfM"
      },
      "source": [
        "# **Converte a evolução do paciente para categórico númerico**\n",
        "\n",
        "\n",
        "*  0 = Recuperado\n",
        "*  1 = Óbito "
      ]
    },
    {
      "cell_type": "code",
      "metadata": {
        "id": "C0QjEGol-krZ"
      },
      "source": [
        "dfEvoluidosComRacaUniqIdade.loc[dfEvoluidosComRacaUniqIdade.evolucaoCaso.eq(\"Óbito.0\"),\"target\"] = 1\n",
        "dfEvoluidosComRacaUniqIdade.loc[dfEvoluidosComRacaUniqIdade.evolucaoCaso.eq(\"Cura.0\"),\"target\"] = 0"
      ],
      "execution_count": 360,
      "outputs": []
    },
    {
      "cell_type": "markdown",
      "metadata": {
        "id": "mjLpu0Xl_akc"
      },
      "source": [
        "# **Converte a raça do paciente para categórico númerico**\n",
        "\n",
        "\n",
        "*   0 = Parda\n",
        "*   1 = Branca\n",
        "*   2 = Preta\n",
        "*   3 = Amarela\n",
        "*   4 = Indígina"
      ]
    },
    {
      "cell_type": "code",
      "metadata": {
        "id": "UrMCrdQL_avF"
      },
      "source": [
        "dfEvoluidosComRacaUniqIdade.loc[dfEvoluidosComRacaUniqIdade.racaCorPaciente.eq(\"Parda\"),\"racaCor\"] = 0\n",
        "dfEvoluidosComRacaUniqIdade.loc[dfEvoluidosComRacaUniqIdade.racaCorPaciente.eq(\"Branca\"),\"racaCor\"] = 1\n",
        "dfEvoluidosComRacaUniqIdade.loc[dfEvoluidosComRacaUniqIdade.racaCorPaciente.eq(\"Preta\"),\"racaCor\"] = 2\n",
        "dfEvoluidosComRacaUniqIdade.loc[dfEvoluidosComRacaUniqIdade.racaCorPaciente.eq(\"Amarela\"),\"racaCor\"] = 3\n",
        "dfEvoluidosComRacaUniqIdade.loc[dfEvoluidosComRacaUniqIdade.racaCorPaciente.eq(\"Indígena\"),\"racaCor\"] = 4"
      ],
      "execution_count": 361,
      "outputs": []
    },
    {
      "cell_type": "markdown",
      "metadata": {
        "id": "Vi9OldXrAtNd"
      },
      "source": [
        "# **Renomeia as colunas comorbidades para melhorar a leitura**"
      ]
    },
    {
      "cell_type": "code",
      "metadata": {
        "id": "9zg-QbK9Atin"
      },
      "source": [
        "#Melhora a visualização dos nomes das comorbidades\n",
        "def ajustaNome(x):\n",
        "  x = x.replace(\"comorbidade\", \"\")\n",
        "  return x.replace(\"Sivep\", \"\")\n",
        "\n",
        "cols_dic = {c:ajustaNome(c) for c in comorbidade_cols}\n",
        "dfEvoluidosComRacaUniqIdade.rename(columns = cols_dic, inplace = True) "
      ],
      "execution_count": 362,
      "outputs": []
    },
    {
      "cell_type": "markdown",
      "metadata": {
        "id": "0252xaIePtuX"
      },
      "source": [
        "# **Remove os pacientes que não são do Ceará - Que não foi informado o código do município**"
      ]
    },
    {
      "cell_type": "code",
      "metadata": {
        "id": "ZK_ghStRPuBf"
      },
      "source": [
        "dfEvoluidosComRacaUniqIdade.dropna(subset=[\"codigoMunicipioPaciente\"], inplace=True)"
      ],
      "execution_count": 363,
      "outputs": []
    },
    {
      "cell_type": "code",
      "metadata": {
        "id": "6hIspmJTRGHO"
      },
      "source": [
        "#corrige o tipo do campo codigoMunicipio de float para int\n",
        "dfEvoluidosComRacaUniqIdade[\"codigoMunicipioPaciente\"] = dfEvoluidosComRacaUniqIdade[\"codigoMunicipioPaciente\"].astype(int)\n"
      ],
      "execution_count": 364,
      "outputs": []
    },
    {
      "cell_type": "markdown",
      "metadata": {
        "id": "8YlxUJerPITg"
      },
      "source": [
        "# **Abre dados do IBGE relativo aos município dos paciente**"
      ]
    },
    {
      "cell_type": "code",
      "metadata": {
        "id": "u5-a3cOdQZkG"
      },
      "source": [
        "#abre dataset IBGE\n",
        "dfIbge = pd.read_csv(\"https://raw.githubusercontent.com/softip/projeto_IA368X/main/data/external/dados_ibge.csv\")"
      ],
      "execution_count": 365,
      "outputs": []
    },
    {
      "cell_type": "code",
      "metadata": {
        "id": "y-CePjkHQyP2"
      },
      "source": [
        "#remove o último digito da coluna código do Ibge, para ficar igual ao dataset da covid\n",
        "dfIbge['codigo_ibge_6d'] = dfIbge['codigo_ibge'].astype(str).str[:-1].astype(np.int64)"
      ],
      "execution_count": 366,
      "outputs": []
    },
    {
      "cell_type": "markdown",
      "metadata": {
        "id": "t__QKOzoTVcp"
      },
      "source": [
        "# **Junta os datasets com dados do IBGE e dados dos pacientes com COVID**"
      ]
    },
    {
      "cell_type": "code",
      "metadata": {
        "id": "u0pyuYjpTblW"
      },
      "source": [
        "dfPacienteIBGE = pd.merge(dfEvoluidosComRacaUniqIdade, dfIbge, how=\"inner\", left_on=\"codigoMunicipioPaciente\", right_on=\"codigo_ibge_6d\")"
      ],
      "execution_count": 379,
      "outputs": []
    },
    {
      "cell_type": "markdown",
      "metadata": {
        "id": "jJl5dnFoBGLY"
      },
      "source": [
        "# **Seleciona as colunas a serem utilizadas no modelo**"
      ]
    },
    {
      "cell_type": "code",
      "metadata": {
        "id": "gPn7Obr-BGVf"
      },
      "source": [
        "features = [\"sexo\",\n",
        "\"idadePaciente\",\n",
        "\"racaCor\",\n",
        "\"Asma\",\n",
        "\"Cardiovascular\",\n",
        "\"Diabetes\",\n",
        "\"Hematologia\",\n",
        "\"Imunodeficiencia\",\n",
        "\"Neurologia\",\n",
        "\"Obesidade\",\n",
        "\"Pneumopatia\",\n",
        "\"Puerpera\",\n",
        "\"Renal\",\n",
        "\"SindromeDown\",\n",
        "\"tempo_vida\",\n",
        "\"area_territorial_km2\",\n",
        "\"populacao_estimada_2020\",\n",
        "\"densidade_demografica_hab_km2_2010\",\n",
        "\"escolarizacao6a14 anos_2010\",\n",
        "\"IDHM_2010\",\n",
        "\"mortalidade_infantil_2019\",\n",
        "\"PIB_per_capita_2018\",\n",
        "\"target\"]"
      ],
      "execution_count": 369,
      "outputs": []
    },
    {
      "cell_type": "code",
      "metadata": {
        "id": "QZMubQOwE4MH"
      },
      "source": [
        "dfFinal = dfPacienteIBGE.loc[:,features]"
      ],
      "execution_count": 380,
      "outputs": []
    },
    {
      "cell_type": "code",
      "metadata": {
        "colab": {
          "base_uri": "https://localhost:8080/",
          "height": 241
        },
        "id": "4wBpS0bo9DRw",
        "outputId": "fe3e033f-6370-402b-cf2d-7688cbbe7af3"
      },
      "source": [
        "dfFinal.head()"
      ],
      "execution_count": 381,
      "outputs": [
        {
          "output_type": "execute_result",
          "data": {
            "text/html": [
              "<div>\n",
              "<style scoped>\n",
              "    .dataframe tbody tr th:only-of-type {\n",
              "        vertical-align: middle;\n",
              "    }\n",
              "\n",
              "    .dataframe tbody tr th {\n",
              "        vertical-align: top;\n",
              "    }\n",
              "\n",
              "    .dataframe thead th {\n",
              "        text-align: right;\n",
              "    }\n",
              "</style>\n",
              "<table border=\"1\" class=\"dataframe\">\n",
              "  <thead>\n",
              "    <tr style=\"text-align: right;\">\n",
              "      <th></th>\n",
              "      <th>sexo</th>\n",
              "      <th>idadePaciente</th>\n",
              "      <th>racaCor</th>\n",
              "      <th>Asma</th>\n",
              "      <th>Cardiovascular</th>\n",
              "      <th>Diabetes</th>\n",
              "      <th>Hematologia</th>\n",
              "      <th>Imunodeficiencia</th>\n",
              "      <th>Neurologia</th>\n",
              "      <th>Obesidade</th>\n",
              "      <th>Pneumopatia</th>\n",
              "      <th>Puerpera</th>\n",
              "      <th>Renal</th>\n",
              "      <th>SindromeDown</th>\n",
              "      <th>tempo_vida</th>\n",
              "      <th>area_territorial_km2</th>\n",
              "      <th>populacao_estimada_2020</th>\n",
              "      <th>densidade_demografica_hab_km2_2010</th>\n",
              "      <th>escolarizacao6a14 anos_2010</th>\n",
              "      <th>IDHM_2010</th>\n",
              "      <th>mortalidade_infantil_2019</th>\n",
              "      <th>PIB_per_capita_2018</th>\n",
              "      <th>target</th>\n",
              "    </tr>\n",
              "  </thead>\n",
              "  <tbody>\n",
              "    <tr>\n",
              "      <th>0</th>\n",
              "      <td>0.0</td>\n",
              "      <td>83.0</td>\n",
              "      <td>0.0</td>\n",
              "      <td>0</td>\n",
              "      <td>1</td>\n",
              "      <td>0</td>\n",
              "      <td>0</td>\n",
              "      <td>0</td>\n",
              "      <td>1</td>\n",
              "      <td>0</td>\n",
              "      <td>0</td>\n",
              "      <td>0</td>\n",
              "      <td>0</td>\n",
              "      <td>0</td>\n",
              "      <td>479.0</td>\n",
              "      <td>312.353</td>\n",
              "      <td>2686612</td>\n",
              "      <td>7786.44</td>\n",
              "      <td>96.1</td>\n",
              "      <td>0.754</td>\n",
              "      <td>11.67</td>\n",
              "      <td>25356.73</td>\n",
              "      <td>1.0</td>\n",
              "    </tr>\n",
              "    <tr>\n",
              "      <th>1</th>\n",
              "      <td>1.0</td>\n",
              "      <td>39.0</td>\n",
              "      <td>1.0</td>\n",
              "      <td>0</td>\n",
              "      <td>0</td>\n",
              "      <td>0</td>\n",
              "      <td>0</td>\n",
              "      <td>0</td>\n",
              "      <td>0</td>\n",
              "      <td>0</td>\n",
              "      <td>0</td>\n",
              "      <td>0</td>\n",
              "      <td>0</td>\n",
              "      <td>0</td>\n",
              "      <td>468.0</td>\n",
              "      <td>312.353</td>\n",
              "      <td>2686612</td>\n",
              "      <td>7786.44</td>\n",
              "      <td>96.1</td>\n",
              "      <td>0.754</td>\n",
              "      <td>11.67</td>\n",
              "      <td>25356.73</td>\n",
              "      <td>0.0</td>\n",
              "    </tr>\n",
              "    <tr>\n",
              "      <th>2</th>\n",
              "      <td>1.0</td>\n",
              "      <td>29.0</td>\n",
              "      <td>1.0</td>\n",
              "      <td>0</td>\n",
              "      <td>0</td>\n",
              "      <td>0</td>\n",
              "      <td>0</td>\n",
              "      <td>0</td>\n",
              "      <td>0</td>\n",
              "      <td>0</td>\n",
              "      <td>0</td>\n",
              "      <td>0</td>\n",
              "      <td>0</td>\n",
              "      <td>0</td>\n",
              "      <td>456.0</td>\n",
              "      <td>312.353</td>\n",
              "      <td>2686612</td>\n",
              "      <td>7786.44</td>\n",
              "      <td>96.1</td>\n",
              "      <td>0.754</td>\n",
              "      <td>11.67</td>\n",
              "      <td>25356.73</td>\n",
              "      <td>0.0</td>\n",
              "    </tr>\n",
              "    <tr>\n",
              "      <th>3</th>\n",
              "      <td>0.0</td>\n",
              "      <td>59.0</td>\n",
              "      <td>0.0</td>\n",
              "      <td>0</td>\n",
              "      <td>1</td>\n",
              "      <td>0</td>\n",
              "      <td>0</td>\n",
              "      <td>0</td>\n",
              "      <td>0</td>\n",
              "      <td>0</td>\n",
              "      <td>0</td>\n",
              "      <td>0</td>\n",
              "      <td>0</td>\n",
              "      <td>0</td>\n",
              "      <td>433.0</td>\n",
              "      <td>312.353</td>\n",
              "      <td>2686612</td>\n",
              "      <td>7786.44</td>\n",
              "      <td>96.1</td>\n",
              "      <td>0.754</td>\n",
              "      <td>11.67</td>\n",
              "      <td>25356.73</td>\n",
              "      <td>0.0</td>\n",
              "    </tr>\n",
              "    <tr>\n",
              "      <th>4</th>\n",
              "      <td>1.0</td>\n",
              "      <td>44.0</td>\n",
              "      <td>0.0</td>\n",
              "      <td>0</td>\n",
              "      <td>1</td>\n",
              "      <td>0</td>\n",
              "      <td>0</td>\n",
              "      <td>1</td>\n",
              "      <td>0</td>\n",
              "      <td>0</td>\n",
              "      <td>0</td>\n",
              "      <td>0</td>\n",
              "      <td>0</td>\n",
              "      <td>0</td>\n",
              "      <td>436.0</td>\n",
              "      <td>312.353</td>\n",
              "      <td>2686612</td>\n",
              "      <td>7786.44</td>\n",
              "      <td>96.1</td>\n",
              "      <td>0.754</td>\n",
              "      <td>11.67</td>\n",
              "      <td>25356.73</td>\n",
              "      <td>0.0</td>\n",
              "    </tr>\n",
              "  </tbody>\n",
              "</table>\n",
              "</div>"
            ],
            "text/plain": [
              "   sexo  idadePaciente  ...  PIB_per_capita_2018 target\n",
              "0   0.0           83.0  ...             25356.73    1.0\n",
              "1   1.0           39.0  ...             25356.73    0.0\n",
              "2   1.0           29.0  ...             25356.73    0.0\n",
              "3   0.0           59.0  ...             25356.73    0.0\n",
              "4   1.0           44.0  ...             25356.73    0.0\n",
              "\n",
              "[5 rows x 23 columns]"
            ]
          },
          "metadata": {
            "tags": []
          },
          "execution_count": 381
        }
      ]
    },
    {
      "cell_type": "markdown",
      "metadata": {
        "id": "KRsH2wIE-MBE"
      },
      "source": [
        "# **Verifica a quantidade de registros faltantes**"
      ]
    },
    {
      "cell_type": "code",
      "metadata": {
        "colab": {
          "base_uri": "https://localhost:8080/"
        },
        "id": "RrOWJ7BiI2Dy",
        "outputId": "5a46fe6e-23db-4361-88ab-1623a53d057d"
      },
      "source": [
        "#mostra os campos e a quantidade de dados faltantes\n",
        "dfFinal.isna().sum()"
      ],
      "execution_count": 382,
      "outputs": [
        {
          "output_type": "execute_result",
          "data": {
            "text/plain": [
              "sexo                                  0\n",
              "idadePaciente                         0\n",
              "racaCor                               0\n",
              "Asma                                  0\n",
              "Cardiovascular                        0\n",
              "Diabetes                              0\n",
              "Hematologia                           0\n",
              "Imunodeficiencia                      0\n",
              "Neurologia                            0\n",
              "Obesidade                             0\n",
              "Pneumopatia                           0\n",
              "Puerpera                              0\n",
              "Renal                                 0\n",
              "SindromeDown                          0\n",
              "tempo_vida                            0\n",
              "area_territorial_km2                  0\n",
              "populacao_estimada_2020               0\n",
              "densidade_demografica_hab_km2_2010    0\n",
              "escolarizacao6a14 anos_2010           0\n",
              "IDHM_2010                             0\n",
              "mortalidade_infantil_2019             0\n",
              "PIB_per_capita_2018                   0\n",
              "target                                0\n",
              "dtype: int64"
            ]
          },
          "metadata": {
            "tags": []
          },
          "execution_count": 382
        }
      ]
    },
    {
      "cell_type": "markdown",
      "metadata": {
        "id": "e2Z1YEdEkH6J"
      },
      "source": [
        "# **Verifica os valores únicos para todas colunas**"
      ]
    },
    {
      "cell_type": "code",
      "metadata": {
        "colab": {
          "base_uri": "https://localhost:8080/"
        },
        "id": "5oZjDsj6kPoA",
        "outputId": "97586cbc-1bc1-4d7b-bf04-940577ebfecf"
      },
      "source": [
        "for c in dfFinal.columns:\n",
        "  print(c, \":\", dfFinal[c].unique())"
      ],
      "execution_count": 383,
      "outputs": [
        {
          "output_type": "stream",
          "text": [
            "sexo : [0. 1.]\n",
            "idadePaciente : [ 83.  39.  29.  59.  44.  45.  41.  70.  72.  48.  52.   3.  43.  67.\n",
            "  64.  86.  66.  77.  60.  98.  36.  76.  61.  69.  42.  53.  55.  65.\n",
            "  78.  79.  49.  58.  63.  38.  75.  74.  57.  15.  50.  47.  81.  90.\n",
            "  68.  82.  46.  71.  87.  92.  73.  56.  62.  89.  40.  88.  23.  35.\n",
            "  93.  95.  51.  84.  85.  54.  94.  34. 100.  80.  97.   4.  91.  24.\n",
            "   0.  33.  37.  20.  96.  19. 109. 104.  18.  28.  27.  31.  17.  21.\n",
            "  14.  32.  13.  26.  16.  30.  25.  99. 110.  12.   1.   6.   2.   5.\n",
            "   8.  10. 101.  22.   9. 102. 105. 114. 103. 106.   7.  11. 107. 108.]\n",
            "racaCor : [0. 1. 2. 3. 4.]\n",
            "Asma : [0 1]\n",
            "Cardiovascular : [1 0]\n",
            "Diabetes : [0 1]\n",
            "Hematologia : [0 1]\n",
            "Imunodeficiencia : [0 1]\n",
            "Neurologia : [1 0]\n",
            "Obesidade : [0 1]\n",
            "Pneumopatia : [0 1]\n",
            "Puerpera : [0 1]\n",
            "Renal : [0 1]\n",
            "SindromeDown : [0 1]\n",
            "tempo_vida : [479. 468. 456. 433. 436. 438. 443.  11. 431. 439. 429. 430. 437.   8.\n",
            "  22. 432.  13. 434.   1.  35. 428.  15. 427.  30.  41.  19.  27.  12.\n",
            " 426.  20. 424. 422.   6.   9.   7. 425.  18. 423. 412. 406. 392. 384.\n",
            " 405. 410.  10. 126.   3.   5.   2.  16.  46.  21.  54.  17.  31.  14.\n",
            "  42.  25.  24.   4. 408. 402.  50. 409. 401.  26. 390. 389.  28. 380.\n",
            " 375. 373. 368. 396.  39. 376. 404. 398. 403. 395. 393.  32. 397. 388.\n",
            " 387. 391.  23. 383. 399. 378. 379. 386. 360.  58. 394. 441. 352. 344.\n",
            " 338. 100.  34.  62. 374. 377.  36.  61. 417.  48. 356.  68.   0.  59.\n",
            " 278. 421.  64. 361. 415.  38.  33. 315. 362. 372. 369. 400. 365. 342.\n",
            " 366. 370. 341. 382. 321. 274. 108.  49.  60.  87.  85. 303.  37.  40.\n",
            " 312.  65. 340. 420. 265. 358. 407. 414. 339.  29. 419. 164. 411. 381.\n",
            " 363. 418. 506. 248. 367.  69.  47. 307. 385.  43. 306. 413. 354.  44.\n",
            " 343.  45. 242. 350.  63.  56.  84.  52. 117. 359. 353. 150.  83. 371.\n",
            " 357. 355.  66.  67.  81.  55. 137.  51. 351. 257. 320. 113. 472. 488.\n",
            "  80. 416. 364. 330. 347. 349. 337. 336. 103. 345. 440. 346. 435. 305.\n",
            " 313. 308. 201. 233. 119. 348. 331. 332. 325. 329. 309. 322. 314. 111.\n",
            " 319. 323. 311. 333. 109. 318. 326. 334. 327. 328. 301. 317. 310. 199.\n",
            "  53. 316. 234. 207. 292. 297. 284. 269. 287. 254. 253. 255. 247. 252.\n",
            " 262. 280. 219. 279. 208. 177. 212. 288. 250. 273. 266. 294. 291. 256.\n",
            " 275. 304. 170. 293. 272. 285. 216. 264. 277. 261. 299. 286. 295. 191.\n",
            "  74. 259. 283. 300. 271. 289. 276. 298. 174. 193. 188. 178. 122. 220.\n",
            " 258. 243. 224. 187. 183. 218. 215. 210. 192. 189. 171. 173. 203. 186.\n",
            " 180. 157. 159. 160. 206. 205. 202. 156. 214. 197. 121. 267. 232. 236.\n",
            " 185. 133.  95. 153. 172. 240. 204. 194. 229. 228. 200. 190. 169. 162.\n",
            " 163. 238.  77. 251. 211. 222. 209. 231. 161. 196. 268. 175. 195. 148.\n",
            " 155. 226. 130. 165. 184. 213. 182.  70. 168. 152. 198. 167. 227. 158.\n",
            " 166. 239. 235. 237. 225. 151. 149. 181. 179. 112.  78. 128. 134. 129.\n",
            " 146. 143. 142. 145. 140. 138. 131. 132. 124. 127.  76. 135. 123. 120.\n",
            " 141.  72. 125. 136. 154. 144. 139. 118. 115. 147.  97.  98. 110.  90.\n",
            "  57.  82.  79.  92. 101. 106.  99. 114. 116.  94.  86.  75. 107.  73.\n",
            "  89.  96.  91.  93. 102. 105. 104.  88.  71. 335. 324. 302. 290. 245.\n",
            " 244. 246. 241. 221. 260. 249. 223. 230. 458. 296. 281. 263. 176. 270.\n",
            " 282. 482. 448. 217. 450.]\n",
            "area_territorial_km2 : [ 312.353 2068.474 2115.748  744.525  259.706  972.573 1483.258  105.071\n",
            " 1596.751 1877.062  909.853 1227.197   74.033 1223.246  992.208  155.681\n",
            "  583.505 2254.279  247.989 2763.971  258.788 4010.618 1310.91   133.236\n",
            " 1611.091  209.029  568.778  697.683  829.626 1466.412 2981.459  153.686\n",
            " 1138.15   350.847  289.231  432.188  210.284 1535.855  947.44   842.106\n",
            " 1120.452  567.78  2020.586  714.833  842.471 1600.358  926.271 2663.174\n",
            " 1175.044  838.115  736.911  784.022  160.557  854.362  424.642  605.345\n",
            "  940.336 3032.39   296.431  849.145  480.236  304.734  928.725  708.678\n",
            "  385.583  539.238  997.781  829.976  608.158 2313.868  855.165  654.658\n",
            "  543.98   256.053  342.301  842.635  613.099  421.44   613.317  130.002\n",
            " 1345.701  112.433  315.648 3324.987   78.818  704.773  755.597  750.332\n",
            " 1082.582  335.921  279.451  213.604  314.075  250.304  151.651  423.673\n",
            "  237.248  122.865  201.27   192.19   260.003  471.134  624.606  372.949\n",
            "  758.707 1097.339  956.882  806.253  544.98  3222.381  303.445  226.549\n",
            "  363.22   593.231 1080.986  622.963  945.263 2835.037 1068.437  179.239\n",
            " 1302.081  128.896  763.075  729.97   573.61   577.526   99.4    643.988\n",
            "  412.719 1379.836  362.906  815.268 4262.298  626.049  696.348  282.584\n",
            " 2014.543  488.153  502.137  224.86   892.538  589.601   88.355 1036.417\n",
            " 1826.826 1079.011  879.255  230.371  885.87   411.586 2438.563  530.54\n",
            "  414.092  579.097  436.98    97.951  180.833  839.174  368.359  711.346\n",
            "  119.758 1041.832 1865.862  135.76   423.856  258.942 1310.771  414.446\n",
            "  276.508  150.536 1381.274  244.464  435.868 1155.124  343.264  285.024\n",
            "  926.587  634.179  145.556  409.137  111.528   72.675  263.183   90.817]\n",
            "populacao_estimada_2020 : [2686612  210711   43858   59890    7378   32654   38114  229458   53949\n",
            "   34636   76537   74975   20769  365212  103074   11144  130346   54481\n",
            "   29146   61738  276264   59062   61410   84554   78882   20087   24452\n",
            "   13915   21836   24305   75159   38325  133031   48131   32992   53067\n",
            "   14134   18357   28673   32722   63907   39044   88321   42215   63104\n",
            "  130539   22782   54962   43829   72232   32408   10376   68529   33834\n",
            "    7691   16147   24892   77244   20274   30807   80935   35304   56291\n",
            "   13894   15044   12252   19864   40903   61228   31455   17712   49842\n",
            "   14672   26290   10959   48869   22293   20060   35480   15036   17196\n",
            "   12288   19903   81778   54337   11596   18459   23239   27470   24977\n",
            "    7601    7866   35941   73188   15185   35047   13091   13044   16431\n",
            "   14549   22573    9662   40784   18385   19371   21654   25456   16635\n",
            "   27181   26187   11321   17786   17685   20520   18256   11492   31492\n",
            "   54577    7844   18471   43309   13439   25833   25585   27595   21384\n",
            "   22040   26535    8573   37900    7225   13565   43711   42058   18133\n",
            "   15684   26225   20871   13142   14958   17249   17086    6549   18699\n",
            "   18147   48168   13369    7694   24610   22685   17493   19389   25082\n",
            "   27462    9422   10941   11853   14326    8130   22758   11802   21166\n",
            "   68162   11781   12629   14407   12347    8779   12485    9143   15788\n",
            "   11001   16331   23478   11106   16631   20053   26987    6303    6437\n",
            "    4814    7650    7736    5132]\n",
            "densidade_demografica_hab_km2_2010 : [7.78644e+03 8.86700e+01 2.01400e+01 7.49100e+01 2.68500e+01 3.08900e+01\n",
            " 2.56300e+01 1.96025e+03 3.03700e+01 1.83300e+01 7.58000e+01 5.63200e+01\n",
            " 2.56060e+02 2.64910e+02 9.37600e+01 6.55900e+01 1.92190e+02 2.25800e+01\n",
            " 1.17240e+02 2.23300e+01 1.00445e+03 1.38700e+01 4.19000e+01 5.47740e+02\n",
            " 4.39100e+01 8.30200e+01 4.21400e+01 1.84900e+01 2.41200e+01 1.52800e+01\n",
            " 2.43900e+01 2.36510e+02 1.03210e+02 1.30610e+02 9.98300e+01 1.10010e+02\n",
            " 7.16800e+01 1.15000e+01 2.89200e+01 3.66300e+01 5.34800e+01 6.21100e+01\n",
            " 3.99100e+01 5.20000e+01 6.83100e+01 7.19000e+01 2.36500e+01 1.95200e+01\n",
            " 3.32700e+01 7.89900e+01 4.16900e+01 1.25900e+01 3.44960e+02 3.71600e+01\n",
            " 1.61600e+01 2.68100e+01 2.54000e+01 2.31400e+01 6.79400e+01 3.38900e+01\n",
            " 1.50500e+02 1.05350e+02 5.55500e+01 1.82900e+01 3.77600e+01 2.34300e+01\n",
            " 1.74800e+01 4.59900e+01 9.71400e+01 1.35900e+01 2.00700e+01 6.81200e+01\n",
            " 2.55400e+01 9.01900e+01 3.04900e+01 5.26000e+01 3.16900e+01 4.34300e+01\n",
            " 5.30800e+01 9.85200e+01 1.22200e+01 1.03610e+02 5.93500e+01 2.19500e+01\n",
            " 5.82660e+02 2.42400e+01 2.83000e+01 2.44800e+01 6.81300e+01 2.81700e+01\n",
            " 3.44900e+01 1.07980e+02 2.43000e+02 9.13800e+01 7.55000e+01 5.29500e+01\n",
            " 1.00740e+02 7.12300e+01 7.39900e+01 7.96300e+01 1.93300e+01 6.17800e+01\n",
            " 5.07500e+01 2.24200e+01 1.88100e+01 2.64100e+01 1.92100e+01 4.83100e+01\n",
            " 7.95000e+00 3.41600e+01 7.66700e+01 4.59000e+01 3.16400e+01 1.60300e+01\n",
            " 1.55500e+01 3.28000e+01 1.85100e+01 7.17000e+00 9.80700e+01 3.21400e+01\n",
            " 1.01900e+02 3.13600e+01 3.37900e+01 4.30300e+01 3.71200e+01 2.03610e+02\n",
            " 3.86700e+01 1.96100e+01 2.56800e+01 1.78700e+01 1.57600e+01 1.00400e+01\n",
            " 6.40300e+01 2.44900e+01 5.01300e+01 1.29800e+01 3.85000e+01 2.60500e+01\n",
            " 6.92200e+01 1.88500e+01 2.63100e+01 7.86300e+01 1.74900e+01 1.01500e+01\n",
            " 4.21500e+01 1.47300e+01 3.02100e+01 2.77300e+01 4.98100e+01 6.66000e+00\n",
            " 3.77400e+01 5.73800e+01 4.66900e+01 2.01300e+01 8.53500e+01 5.86900e+01\n",
            " 1.67100e+01 2.12100e+01 3.02200e+01 1.00440e+02 1.91400e+01 3.49700e+01\n",
            " 7.77100e+01 2.67200e+01 5.33900e+01 9.17000e+00 1.94200e+01 4.38600e+01\n",
            " 5.79600e+01 1.13900e+01 4.20200e+01 3.63500e+01 2.01100e+01 3.03400e+01\n",
            " 5.31500e+01 1.99900e+01 4.23300e+01 4.11500e+01 1.49300e+01 4.62300e+01\n",
            " 9.35400e+01 2.85900e+01 7.00600e+01]\n",
            "escolarizacao6a14 anos_2010 : [96.1 97.9 96.4 98.  95.7 95.4 98.1 97.4 98.2 98.5 97.6 96.3 96.8 94.9\n",
            " 97.2 97.3 97.7 96.9 94.6 98.8 95.2 97.5 91.4 97.8 97.1 98.6 98.9 98.3\n",
            " 95.8 96.6 94.7 97.  96.7 98.7 98.4 96.5 92.5 94.2 95.6 99.2 99.5 95.9\n",
            " 96.2 99.3 95.3 91.7 94.3 96.  95.1 99.1 92.7]\n",
            "IDHM_2010 : [0.754 0.714 0.582 0.682 0.599 0.587 0.573 0.686 0.638 0.621 0.657 0.655\n",
            " 0.636 0.677 0.633 0.659 0.595 0.626 0.61  0.694 0.571 0.675 0.674 0.652\n",
            " 0.644 0.566 0.562 0.605 0.713 0.611 0.634 0.623 0.604 0.625 0.62  0.616\n",
            " 0.606 0.601 0.64  0.592 0.559 0.646 0.614 0.609 0.658 0.624 0.603 0.591\n",
            " 0.598 0.612 0.645 0.641 0.637 0.583 0.629 0.683 0.57  0.647 0.618 0.617\n",
            " 0.59  0.665 0.622 0.635 0.642 0.701 0.579 0.596 0.63  0.632 0.654 0.656\n",
            " 0.619 0.648 0.586 0.607 0.584 0.564 0.54  0.593 0.613 0.594 0.627 0.639\n",
            " 0.615 0.576 0.585 0.58  0.6   0.597 0.577 0.568 0.588 0.569 0.608 0.628\n",
            " 0.651 0.581 0.575 0.578 0.602]\n",
            "mortalidade_infantil_2019 : ['11.67' '6.44' '1.96' '16.44' '9.71' '13.99' '10.35' '8.36' '11.4'\n",
            " '15.25' '11.56' '11.73' '12.91' '8.77' '6.1' '11.87' '6.63' '18.92' '9.1'\n",
            " '12.51' '12.94' '7.1' '12.76' '13.66' '14.39' '12.23' '10.05' '15.24'\n",
            " '11.11' '19.09' '7.43' '18.08' '15.7' '2.44' '5.13' '22.81' '23.04'\n",
            " '7.92' '16.39' '15.78' '12.92' '16' '14.06' '14.88' '9.52' '10.83' '9.85'\n",
            " '8.58' '12.09' '5.43' '9.01' '4.1' '10.81' '9.26' '34.48' '19.74' '11.47'\n",
            " '9.62' '15.46' '8.41' '14.85' '12.26' '14.42' '18.26' '9.17' '5.05'\n",
            " '4.02' '15.08' '27.27' '6.97' '15.04' '11.94' '40.27' '16.06' '4.13'\n",
            " '16.33' '23.53' '18.6' '5.62' '19.61' '17.73' '13.81' '15.47' '-' '9.9'\n",
            " '19.05' '24.69' '21.74' '12.89' '20.26' '20.24' '13.42' '4.93' '5.81'\n",
            " '12.66' '18.13' '11.49' '18.76' '12.3' '31.53' '10.93' '22.64' '4.82'\n",
            " '22.47' '20' '11.28' '22.52' '26.52' '17.14' '17.86' '26.32' '3.66'\n",
            " '10.33' '3.5' '12.54' '13.11' '14.87' '28.42' '8' '20.2' '117.65' '11.9'\n",
            " '23.68' '8.94' '18.87' '21.98' '11.8' '32.97' '6.67' '4.07' '18.52'\n",
            " '29.41' '12.57' '3.12' '21.88' '11.43' '11.24' '7.98' '10.42' '27.03'\n",
            " '31.5' '6.85' '5.65' '15.15' '21.46' '28.41' '19.23' '6.72' '6.76' '5.88'\n",
            " '18.63' '7.19' '6.8' '23.92' '3.36' '14.29' '10.15' '3.92' '15.28'\n",
            " '14.93']\n",
            "PIB_per_capita_2018 : [25356.73 23104.7   7369.18 15961.09  7290.2   6705.45  6430.39 46240.54\n",
            " 13744.68 16763.71 17463.86 15210.71 11747.62 13944.16 15624.21  7025.19\n",
            " 11788.59  7038.21 16423.12 15430.56 17725.62 10253.8   7202.63 14015.57\n",
            " 14304.44 17740.75  7698.67 12289.43  5888.14  6665.39  9105.67 17804.8\n",
            " 10262.41 10796.05 11941.7  10664.27 18393.96 10514.05  7018.68  7322.64\n",
            "  9005.04  7143.58 11927.82 17804.2   8932.85 12863.49  5631.24  6692.4\n",
            " 10090.68 10317.32  8305.82  7723.1  25783.29 11683.11  6992.89  7905.03\n",
            "  9024.13  8106.88 18237.69 10276.06 24630.33 14316.98 14855.42  6253.17\n",
            "  6662.58  7997.84  6435.63  8756.89 14320.84  6709.78  6921.76 10248.61\n",
            "  6805.1   7684.11  7162.31 87086.02 19154.79 17060.8  13585.53  8075.56\n",
            "  8908.98  8863.39  7754.01 13420.15 46830.08  6478.06  8062.68  6233.8\n",
            "  6896.85  8946.   11662.2   8245.31  9114.77 16046.29  6681.85 16719.18\n",
            "  6202.22  8042.9   6539.47  6687.03  6958.94  6413.75 11978.47  9859.88\n",
            "  5555.49  6724.7  11443.71  6602.19  7529.39  8950.81  6793.18  9827.07\n",
            "  6609.89  6523.57  8874.99 11343.44  8139.37  7031.15  6907.11 14244.64\n",
            "  6723.4   7017.58  6918.38  7130.37 11895.32  8000.89 16358.24  7457.75\n",
            "  6788.95 10924.95  6983.79  5914.35 10095.69  9341.6   7696.46  8311.8\n",
            "  7947.74  5797.02  9674.79  9841.9   7436.65  7262.42  7559.43  7267.16\n",
            "  8548.15  8624.33  7090.65  8336.85  7511.26  6198.22  6424.51  8195.13\n",
            " 11277.09  7955.64  8245.56  9079.87  7360.5   9756.96 12184.14  7674.21\n",
            " 11444.89  6913.59  8126.78  6506.65  7109.47  6616.29  6103.61  7141.58\n",
            "  9122.59 23504.33  8035.33  5351.75 18931.91  6947.09  7955.5   9806.29\n",
            "  7036.69  7476.01  9141.29  8804.47  9503.61  6606.64  6863.11 16087.25]\n",
            "target : [1. 0.]\n"
          ],
          "name": "stdout"
        }
      ]
    },
    {
      "cell_type": "markdown",
      "metadata": {
        "id": "2ez-vquUY-E6"
      },
      "source": [
        "# **Corrige valor da coluna mortalidade_infantil_2019**\n",
        "\n",
        "A coluna é númerica, mas existe municípios que não possuem valor de mortalidade. Vamos substituir - por 0 e alterar o tipo para float"
      ]
    },
    {
      "cell_type": "code",
      "metadata": {
        "id": "LKvRmsBaY-VY"
      },
      "source": [
        "dfFinal.loc[dfFinal[\"mortalidade_infantil_2019\"].eq(\"-\"), \"mortalidade_infantil_2019\"] = 0"
      ],
      "execution_count": 389,
      "outputs": []
    },
    {
      "cell_type": "markdown",
      "metadata": {
        "id": "M8HBtH2i8DAr"
      },
      "source": [
        "# **Mostra a distribuição dos dados**"
      ]
    },
    {
      "cell_type": "code",
      "metadata": {
        "colab": {
          "base_uri": "https://localhost:8080/"
        },
        "id": "CTVoHPtaqqiS",
        "outputId": "64026a27-5ca7-4b3a-e6ff-968a31f62100"
      },
      "source": [
        "dfFinal.target.value_counts()"
      ],
      "execution_count": 391,
      "outputs": [
        {
          "output_type": "execute_result",
          "data": {
            "text/plain": [
              "1.0    11763\n",
              "0.0     8071\n",
              "Name: target, dtype: int64"
            ]
          },
          "metadata": {
            "tags": []
          },
          "execution_count": 391
        }
      ]
    },
    {
      "cell_type": "markdown",
      "metadata": {
        "id": "gHmju31YrILh"
      },
      "source": [
        "# **Salva o dataset**"
      ]
    },
    {
      "cell_type": "code",
      "metadata": {
        "id": "sFBvfQlPrIV5"
      },
      "source": [
        "dfFinal.to_csv(\"DatasetCovidTratadoCox.csv\", index=False)"
      ],
      "execution_count": 392,
      "outputs": []
    }
  ]
}