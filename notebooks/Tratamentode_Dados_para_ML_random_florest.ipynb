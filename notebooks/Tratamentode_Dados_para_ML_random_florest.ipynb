{
  "nbformat": 4,
  "nbformat_minor": 0,
  "metadata": {
    "colab": {
      "name": "Tratamentode Dados para ML.ipynb",
      "provenance": [],
      "mount_file_id": "1v6i7NZSYYNtamxu3X173Ph_V_TvFKWEW",
      "authorship_tag": "ABX9TyPuP+OlTMsQIBITUWkBMPU2",
      "include_colab_link": true
    },
    "kernelspec": {
      "name": "python3",
      "display_name": "Python 3"
    },
    "language_info": {
      "name": "python"
    }
  },
  "cells": [
    {
      "cell_type": "markdown",
      "metadata": {
        "id": "view-in-github",
        "colab_type": "text"
      },
      "source": [
        "<a href=\"https://colab.research.google.com/github/softip/projeto_IA368X/blob/main/notebooks/Tratamentode_Dados_para_ML_random_florest.ipynb\" target=\"_parent\"><img src=\"https://colab.research.google.com/assets/colab-badge.svg\" alt=\"Open In Colab\"/></a>"
      ]
    },
    {
      "cell_type": "code",
      "metadata": {
        "colab": {
          "base_uri": "https://localhost:8080/",
          "height": 847
        },
        "id": "4lQGgdGBu-65",
        "outputId": "1bf747bf-b434-4420-be8a-01c56d814a53"
      },
      "source": [
        "import pandas as pd\n",
        "\n",
        "#importa dataset do github\n",
        "df = []\n",
        "for i in range(1,10):\n",
        "  df.append(pd.read_csv(\"https://raw.githubusercontent.com/softip/projeto_IA368X/main/data/external/dados_covid_ce_{}.csv\".format(i)))\n",
        "\n",
        "dfTotal = pd.DataFrame()\n",
        "dfTotal = pd.concat(df)\n",
        "dfTotal.reset_index()"
      ],
      "execution_count": 90,
      "outputs": [
        {
          "output_type": "stream",
          "text": [
            "/usr/local/lib/python3.7/dist-packages/IPython/core/interactiveshell.py:2718: DtypeWarning: Columns (35,36,37,38,40) have mixed types.Specify dtype option on import or set low_memory=False.\n",
            "  interactivity=interactivity, compiler=compiler, result=result)\n",
            "/usr/local/lib/python3.7/dist-packages/IPython/core/interactiveshell.py:2718: DtypeWarning: Columns (39,40) have mixed types.Specify dtype option on import or set low_memory=False.\n",
            "  interactivity=interactivity, compiler=compiler, result=result)\n",
            "/usr/local/lib/python3.7/dist-packages/IPython/core/interactiveshell.py:2718: DtypeWarning: Columns (15,24,25,26,39,40) have mixed types.Specify dtype option on import or set low_memory=False.\n",
            "  interactivity=interactivity, compiler=compiler, result=result)\n",
            "/usr/local/lib/python3.7/dist-packages/IPython/core/interactiveshell.py:2718: DtypeWarning: Columns (40) have mixed types.Specify dtype option on import or set low_memory=False.\n",
            "  interactivity=interactivity, compiler=compiler, result=result)\n",
            "/usr/local/lib/python3.7/dist-packages/IPython/core/interactiveshell.py:2718: DtypeWarning: Columns (24,25,26) have mixed types.Specify dtype option on import or set low_memory=False.\n",
            "  interactivity=interactivity, compiler=compiler, result=result)\n",
            "/usr/local/lib/python3.7/dist-packages/IPython/core/interactiveshell.py:2718: DtypeWarning: Columns (36) have mixed types.Specify dtype option on import or set low_memory=False.\n",
            "  interactivity=interactivity, compiler=compiler, result=result)\n",
            "/usr/local/lib/python3.7/dist-packages/IPython/core/interactiveshell.py:2718: DtypeWarning: Columns (37,38,39,40) have mixed types.Specify dtype option on import or set low_memory=False.\n",
            "  interactivity=interactivity, compiler=compiler, result=result)\n"
          ],
          "name": "stderr"
        },
        {
          "output_type": "execute_result",
          "data": {
            "text/html": [
              "<div>\n",
              "<style scoped>\n",
              "    .dataframe tbody tr th:only-of-type {\n",
              "        vertical-align: middle;\n",
              "    }\n",
              "\n",
              "    .dataframe tbody tr th {\n",
              "        vertical-align: top;\n",
              "    }\n",
              "\n",
              "    .dataframe thead th {\n",
              "        text-align: right;\n",
              "    }\n",
              "</style>\n",
              "<table border=\"1\" class=\"dataframe\">\n",
              "  <thead>\n",
              "    <tr style=\"text-align: right;\">\n",
              "      <th></th>\n",
              "      <th>index</th>\n",
              "      <th>codigoPaciente</th>\n",
              "      <th>paisPaciente</th>\n",
              "      <th>estadoPaciente</th>\n",
              "      <th>codigoMunicipioPaciente</th>\n",
              "      <th>municipioPaciente</th>\n",
              "      <th>sexoPaciente</th>\n",
              "      <th>idadePaciente</th>\n",
              "      <th>dataNotificacao</th>\n",
              "      <th>dataColetaExame</th>\n",
              "      <th>dataResultadoExame</th>\n",
              "      <th>resultadoFinalExame</th>\n",
              "      <th>dataInicioSintomas</th>\n",
              "      <th>tipoTesteExame</th>\n",
              "      <th>racaCorPaciente</th>\n",
              "      <th>municipioNotificacaoEsus</th>\n",
              "      <th>profissionalSaude</th>\n",
              "      <th>cnesNotificacaoEsus</th>\n",
              "      <th>idSivep</th>\n",
              "      <th>classificacaoEstadoSivep</th>\n",
              "      <th>dataInternacaoSivep</th>\n",
              "      <th>dataEntradaUtisSvep</th>\n",
              "      <th>bairroPaciente</th>\n",
              "      <th>comorbidadeNeurologiaSivep</th>\n",
              "      <th>dataSolicitacaoExame</th>\n",
              "      <th>obitoConfirmado</th>\n",
              "      <th>dataObito</th>\n",
              "      <th>tipoObito</th>\n",
              "      <th>dataNotificacaoObito</th>\n",
              "      <th>comorbidadeCardiovascularSivep</th>\n",
              "      <th>comorbidadeObesidadeSivep</th>\n",
              "      <th>evolucaoCaso</th>\n",
              "      <th>dataEvolucaoCasoSivep</th>\n",
              "      <th>comorbidadeHematologiaSivep</th>\n",
              "      <th>comorbidadeSindromeDownSivep</th>\n",
              "      <th>comorbidadeAsmaSivep</th>\n",
              "      <th>comorbidadeDiabetesSivep</th>\n",
              "      <th>comorbidadeImunodeficienciaSivep</th>\n",
              "      <th>comorbidadeRenalSivep</th>\n",
              "      <th>comorbidadePuerperaSivep</th>\n",
              "      <th>comorbidadePneumopatiaSivep</th>\n",
              "      <th>dataSaidaUtisSvep</th>\n",
              "    </tr>\n",
              "  </thead>\n",
              "  <tbody>\n",
              "    <tr>\n",
              "      <th>0</th>\n",
              "      <td>0</td>\n",
              "      <td>579fce2867018c510bdfbc9c64c14a34</td>\n",
              "      <td>BRASIL</td>\n",
              "      <td>CE</td>\n",
              "      <td>230490.0</td>\n",
              "      <td>GROAIRAS</td>\n",
              "      <td>FEMININO</td>\n",
              "      <td>25.0</td>\n",
              "      <td>2020-01-01T03:00:00.000+0000</td>\n",
              "      <td>2021-01-08T03:00:00.000+0000</td>\n",
              "      <td>2021-01-08T03:00:00.000+0000</td>\n",
              "      <td>Negativo</td>\n",
              "      <td>2020-01-01T03:00:00.000+0000</td>\n",
              "      <td>Teste Rápido - Anticorpo</td>\n",
              "      <td>Parda</td>\n",
              "      <td>GROAIRAS</td>\n",
              "      <td>0.0</td>\n",
              "      <td>6565239</td>\n",
              "      <td>3.159248e+11</td>\n",
              "      <td>Não realizado.0</td>\n",
              "      <td>2020-06-18T03:00:00.000+0000</td>\n",
              "      <td>2020-06-18T03:00:00.000+0000</td>\n",
              "      <td>NaN</td>\n",
              "      <td>NaN</td>\n",
              "      <td>NaN</td>\n",
              "      <td>NaN</td>\n",
              "      <td>NaN</td>\n",
              "      <td>NaN</td>\n",
              "      <td>NaN</td>\n",
              "      <td>NaN</td>\n",
              "      <td>NaN</td>\n",
              "      <td>NaN</td>\n",
              "      <td>NaN</td>\n",
              "      <td>NaN</td>\n",
              "      <td>NaN</td>\n",
              "      <td>NaN</td>\n",
              "      <td>NaN</td>\n",
              "      <td>NaN</td>\n",
              "      <td>NaN</td>\n",
              "      <td>NaN</td>\n",
              "      <td>NaN</td>\n",
              "      <td>NaN</td>\n",
              "    </tr>\n",
              "    <tr>\n",
              "      <th>1</th>\n",
              "      <td>1</td>\n",
              "      <td>504dc6479d137aef7556a9878626aef8</td>\n",
              "      <td>NaN</td>\n",
              "      <td>CE</td>\n",
              "      <td>230240.0</td>\n",
              "      <td>BOA VIAGEM</td>\n",
              "      <td>MASCULINO</td>\n",
              "      <td>39.0</td>\n",
              "      <td>2020-01-01T03:00:00.000+0000</td>\n",
              "      <td>2020-10-20T03:00:00.000+0000</td>\n",
              "      <td>2020-10-20T03:00:00.000+0000</td>\n",
              "      <td>Positivo</td>\n",
              "      <td>2020-01-01T03:00:00.000+0000</td>\n",
              "      <td>Teste Rápido - Anticorpo</td>\n",
              "      <td>Parda</td>\n",
              "      <td>MARACANAU</td>\n",
              "      <td>0.0</td>\n",
              "      <td>NaN</td>\n",
              "      <td>NaN</td>\n",
              "      <td>NaN</td>\n",
              "      <td>NaN</td>\n",
              "      <td>NaN</td>\n",
              "      <td>ALTO DO MOTOR</td>\n",
              "      <td>NaN</td>\n",
              "      <td>NaN</td>\n",
              "      <td>NaN</td>\n",
              "      <td>NaN</td>\n",
              "      <td>NaN</td>\n",
              "      <td>NaN</td>\n",
              "      <td>NaN</td>\n",
              "      <td>NaN</td>\n",
              "      <td>NaN</td>\n",
              "      <td>NaN</td>\n",
              "      <td>NaN</td>\n",
              "      <td>NaN</td>\n",
              "      <td>NaN</td>\n",
              "      <td>NaN</td>\n",
              "      <td>NaN</td>\n",
              "      <td>NaN</td>\n",
              "      <td>NaN</td>\n",
              "      <td>NaN</td>\n",
              "      <td>NaN</td>\n",
              "    </tr>\n",
              "    <tr>\n",
              "      <th>2</th>\n",
              "      <td>2</td>\n",
              "      <td>9b1fca71df2ed7f6bcbc9f20122c78d2</td>\n",
              "      <td>BRASIL</td>\n",
              "      <td>CE</td>\n",
              "      <td>230075.0</td>\n",
              "      <td>AMONTADA</td>\n",
              "      <td>MASCULINO</td>\n",
              "      <td>66.0</td>\n",
              "      <td>2020-01-02T03:00:00.000+0000</td>\n",
              "      <td>2021-01-02T03:00:00.000+0000</td>\n",
              "      <td>2021-01-02T03:00:00.000+0000</td>\n",
              "      <td>Negativo</td>\n",
              "      <td>2020-01-02T03:00:00.000+0000</td>\n",
              "      <td>Teste Rápido - Anticorpo</td>\n",
              "      <td>Parda</td>\n",
              "      <td>AMONTADA</td>\n",
              "      <td>0.0</td>\n",
              "      <td>6460038</td>\n",
              "      <td>3.161099e+11</td>\n",
              "      <td>Negativo.0</td>\n",
              "      <td>2021-01-02T03:00:00.000+0000</td>\n",
              "      <td>NaN</td>\n",
              "      <td>NaN</td>\n",
              "      <td>Sim</td>\n",
              "      <td>NaN</td>\n",
              "      <td>NaN</td>\n",
              "      <td>NaN</td>\n",
              "      <td>NaN</td>\n",
              "      <td>NaN</td>\n",
              "      <td>NaN</td>\n",
              "      <td>NaN</td>\n",
              "      <td>NaN</td>\n",
              "      <td>NaN</td>\n",
              "      <td>NaN</td>\n",
              "      <td>NaN</td>\n",
              "      <td>NaN</td>\n",
              "      <td>NaN</td>\n",
              "      <td>NaN</td>\n",
              "      <td>NaN</td>\n",
              "      <td>NaN</td>\n",
              "      <td>NaN</td>\n",
              "      <td>NaN</td>\n",
              "    </tr>\n",
              "    <tr>\n",
              "      <th>3</th>\n",
              "      <td>3</td>\n",
              "      <td>fd948fcaca62c97a2f57a1717e7ad128</td>\n",
              "      <td>NaN</td>\n",
              "      <td>CE</td>\n",
              "      <td>230170.0</td>\n",
              "      <td>AURORA</td>\n",
              "      <td>MASCULINO</td>\n",
              "      <td>57.0</td>\n",
              "      <td>2020-01-02T03:00:00.000+0000</td>\n",
              "      <td>2020-01-02T03:00:00.000+0000</td>\n",
              "      <td>2020-01-02T03:00:00.000+0000</td>\n",
              "      <td>Positivo</td>\n",
              "      <td>2020-01-02T03:00:00.000+0000</td>\n",
              "      <td>Teste Rápido - Antígeno</td>\n",
              "      <td>Parda</td>\n",
              "      <td>PRINCESA ISABEL</td>\n",
              "      <td>0.0</td>\n",
              "      <td>NaN</td>\n",
              "      <td>NaN</td>\n",
              "      <td>NaN</td>\n",
              "      <td>NaN</td>\n",
              "      <td>NaN</td>\n",
              "      <td>AURORA</td>\n",
              "      <td>NaN</td>\n",
              "      <td>NaN</td>\n",
              "      <td>NaN</td>\n",
              "      <td>NaN</td>\n",
              "      <td>NaN</td>\n",
              "      <td>NaN</td>\n",
              "      <td>NaN</td>\n",
              "      <td>NaN</td>\n",
              "      <td>NaN</td>\n",
              "      <td>NaN</td>\n",
              "      <td>NaN</td>\n",
              "      <td>NaN</td>\n",
              "      <td>NaN</td>\n",
              "      <td>NaN</td>\n",
              "      <td>NaN</td>\n",
              "      <td>NaN</td>\n",
              "      <td>NaN</td>\n",
              "      <td>NaN</td>\n",
              "      <td>NaN</td>\n",
              "    </tr>\n",
              "    <tr>\n",
              "      <th>4</th>\n",
              "      <td>4</td>\n",
              "      <td>fdccba56299c30f73a717ec52e5fc740</td>\n",
              "      <td>NaN</td>\n",
              "      <td>CE</td>\n",
              "      <td>231030.0</td>\n",
              "      <td>PARAMBU</td>\n",
              "      <td>FEMININO</td>\n",
              "      <td>25.0</td>\n",
              "      <td>2020-01-04T03:00:00.000+0000</td>\n",
              "      <td>2021-01-08T03:00:00.000+0000</td>\n",
              "      <td>2021-01-08T03:00:00.000+0000</td>\n",
              "      <td>Positivo</td>\n",
              "      <td>2020-01-01T03:00:00.000+0000</td>\n",
              "      <td>RT-PCR</td>\n",
              "      <td>Parda</td>\n",
              "      <td>PARAMBU</td>\n",
              "      <td>0.0</td>\n",
              "      <td>6362869</td>\n",
              "      <td>NaN</td>\n",
              "      <td>NaN</td>\n",
              "      <td>NaN</td>\n",
              "      <td>NaN</td>\n",
              "      <td>CAIXA D`AGUA</td>\n",
              "      <td>NaN</td>\n",
              "      <td>NaN</td>\n",
              "      <td>NaN</td>\n",
              "      <td>NaN</td>\n",
              "      <td>NaN</td>\n",
              "      <td>NaN</td>\n",
              "      <td>NaN</td>\n",
              "      <td>NaN</td>\n",
              "      <td>NaN</td>\n",
              "      <td>NaN</td>\n",
              "      <td>NaN</td>\n",
              "      <td>NaN</td>\n",
              "      <td>NaN</td>\n",
              "      <td>NaN</td>\n",
              "      <td>NaN</td>\n",
              "      <td>NaN</td>\n",
              "      <td>NaN</td>\n",
              "      <td>NaN</td>\n",
              "      <td>NaN</td>\n",
              "    </tr>\n",
              "    <tr>\n",
              "      <th>...</th>\n",
              "      <td>...</td>\n",
              "      <td>...</td>\n",
              "      <td>...</td>\n",
              "      <td>...</td>\n",
              "      <td>...</td>\n",
              "      <td>...</td>\n",
              "      <td>...</td>\n",
              "      <td>...</td>\n",
              "      <td>...</td>\n",
              "      <td>...</td>\n",
              "      <td>...</td>\n",
              "      <td>...</td>\n",
              "      <td>...</td>\n",
              "      <td>...</td>\n",
              "      <td>...</td>\n",
              "      <td>...</td>\n",
              "      <td>...</td>\n",
              "      <td>...</td>\n",
              "      <td>...</td>\n",
              "      <td>...</td>\n",
              "      <td>...</td>\n",
              "      <td>...</td>\n",
              "      <td>...</td>\n",
              "      <td>...</td>\n",
              "      <td>...</td>\n",
              "      <td>...</td>\n",
              "      <td>...</td>\n",
              "      <td>...</td>\n",
              "      <td>...</td>\n",
              "      <td>...</td>\n",
              "      <td>...</td>\n",
              "      <td>...</td>\n",
              "      <td>...</td>\n",
              "      <td>...</td>\n",
              "      <td>...</td>\n",
              "      <td>...</td>\n",
              "      <td>...</td>\n",
              "      <td>...</td>\n",
              "      <td>...</td>\n",
              "      <td>...</td>\n",
              "      <td>...</td>\n",
              "      <td>...</td>\n",
              "    </tr>\n",
              "    <tr>\n",
              "      <th>1873578</th>\n",
              "      <td>167232</td>\n",
              "      <td>eefa5ea801b53366cce43b2b09a58bdf</td>\n",
              "      <td>NaN</td>\n",
              "      <td>CE</td>\n",
              "      <td>230440.0</td>\n",
              "      <td>FORTALEZA</td>\n",
              "      <td>FEMININO</td>\n",
              "      <td>3.0</td>\n",
              "      <td>2021-05-21T03:00:00.000+0000</td>\n",
              "      <td>NaN</td>\n",
              "      <td>NaN</td>\n",
              "      <td>NaN</td>\n",
              "      <td>2021-05-15T03:00:00.000+0000</td>\n",
              "      <td>NaN</td>\n",
              "      <td>Parda</td>\n",
              "      <td>FORTALEZA</td>\n",
              "      <td>0.0</td>\n",
              "      <td>407836</td>\n",
              "      <td>NaN</td>\n",
              "      <td>NaN</td>\n",
              "      <td>NaN</td>\n",
              "      <td>NaN</td>\n",
              "      <td>PICI</td>\n",
              "      <td>NaN</td>\n",
              "      <td>NaN</td>\n",
              "      <td>NaN</td>\n",
              "      <td>NaN</td>\n",
              "      <td>NaN</td>\n",
              "      <td>NaN</td>\n",
              "      <td>NaN</td>\n",
              "      <td>NaN</td>\n",
              "      <td>NaN</td>\n",
              "      <td>NaN</td>\n",
              "      <td>NaN</td>\n",
              "      <td>NaN</td>\n",
              "      <td>NaN</td>\n",
              "      <td>NaN</td>\n",
              "      <td>NaN</td>\n",
              "      <td>NaN</td>\n",
              "      <td>NaN</td>\n",
              "      <td>NaN</td>\n",
              "      <td>NaN</td>\n",
              "    </tr>\n",
              "    <tr>\n",
              "      <th>1873579</th>\n",
              "      <td>167233</td>\n",
              "      <td>ab18e9b4902269f89d864e17da48e35f</td>\n",
              "      <td>NaN</td>\n",
              "      <td>CE</td>\n",
              "      <td>231290.0</td>\n",
              "      <td>SOBRAL</td>\n",
              "      <td>FEMININO</td>\n",
              "      <td>16.0</td>\n",
              "      <td>2021-05-19T03:00:00.000+0000</td>\n",
              "      <td>NaN</td>\n",
              "      <td>NaN</td>\n",
              "      <td>NaN</td>\n",
              "      <td>2021-05-17T03:00:00.000+0000</td>\n",
              "      <td>NaN</td>\n",
              "      <td>Parda</td>\n",
              "      <td>SOBRAL</td>\n",
              "      <td>1.0</td>\n",
              "      <td>2.42412e+06</td>\n",
              "      <td>NaN</td>\n",
              "      <td>NaN</td>\n",
              "      <td>NaN</td>\n",
              "      <td>NaN</td>\n",
              "      <td>PEDRINHAS</td>\n",
              "      <td>NaN</td>\n",
              "      <td>NaN</td>\n",
              "      <td>NaN</td>\n",
              "      <td>NaN</td>\n",
              "      <td>NaN</td>\n",
              "      <td>NaN</td>\n",
              "      <td>NaN</td>\n",
              "      <td>NaN</td>\n",
              "      <td>NaN</td>\n",
              "      <td>NaN</td>\n",
              "      <td>NaN</td>\n",
              "      <td>NaN</td>\n",
              "      <td>NaN</td>\n",
              "      <td>NaN</td>\n",
              "      <td>NaN</td>\n",
              "      <td>NaN</td>\n",
              "      <td>NaN</td>\n",
              "      <td>NaN</td>\n",
              "      <td>NaN</td>\n",
              "    </tr>\n",
              "    <tr>\n",
              "      <th>1873580</th>\n",
              "      <td>167234</td>\n",
              "      <td>ad2979dd853f247793d4ec2fb967be3b</td>\n",
              "      <td>BRASIL</td>\n",
              "      <td>CE</td>\n",
              "      <td>230440.0</td>\n",
              "      <td>FORTALEZA</td>\n",
              "      <td>MASCULINO</td>\n",
              "      <td>43.0</td>\n",
              "      <td>2021-05-06T03:00:00.000+0000</td>\n",
              "      <td>2021-04-26T03:00:00.000+0000</td>\n",
              "      <td>2021-04-28T04:26:39.000+0000</td>\n",
              "      <td>Positivo</td>\n",
              "      <td>2021-05-04T03:00:00.000+0000</td>\n",
              "      <td>RT-PCR</td>\n",
              "      <td>Parda</td>\n",
              "      <td>FORTALEZA</td>\n",
              "      <td>0.0</td>\n",
              "      <td>7.99322e+06</td>\n",
              "      <td>3.162033e+11</td>\n",
              "      <td>Negativo.0</td>\n",
              "      <td>NaN</td>\n",
              "      <td>2021-05-06T03:00:00.000+0000</td>\n",
              "      <td>SIQUEIRA</td>\n",
              "      <td>NaN</td>\n",
              "      <td>2021-04-26T03:00:00.000+0000</td>\n",
              "      <td>NaN</td>\n",
              "      <td>NaN</td>\n",
              "      <td>NaN</td>\n",
              "      <td>NaN</td>\n",
              "      <td>NaN</td>\n",
              "      <td>NaN</td>\n",
              "      <td>NaN</td>\n",
              "      <td>NaN</td>\n",
              "      <td>NaN</td>\n",
              "      <td>NaN</td>\n",
              "      <td>Sim</td>\n",
              "      <td>NaN</td>\n",
              "      <td>NaN</td>\n",
              "      <td>NaN</td>\n",
              "      <td>NaN</td>\n",
              "      <td>NaN</td>\n",
              "      <td>NaN</td>\n",
              "    </tr>\n",
              "    <tr>\n",
              "      <th>1873581</th>\n",
              "      <td>167235</td>\n",
              "      <td>114849ef4d40d96f060316c8be22abf3</td>\n",
              "      <td>NaN</td>\n",
              "      <td>CE</td>\n",
              "      <td>230370.0</td>\n",
              "      <td>CAUCAIA</td>\n",
              "      <td>MASCULINO</td>\n",
              "      <td>33.0</td>\n",
              "      <td>2021-05-09T03:00:00.000+0000</td>\n",
              "      <td>NaN</td>\n",
              "      <td>NaN</td>\n",
              "      <td>NaN</td>\n",
              "      <td>2021-05-07T03:00:00.000+0000</td>\n",
              "      <td>NaN</td>\n",
              "      <td>Parda</td>\n",
              "      <td>CAUCAIA</td>\n",
              "      <td>0.0</td>\n",
              "      <td>9.34631e+06</td>\n",
              "      <td>NaN</td>\n",
              "      <td>NaN</td>\n",
              "      <td>NaN</td>\n",
              "      <td>NaN</td>\n",
              "      <td>PARQUE GUADALAJARA</td>\n",
              "      <td>NaN</td>\n",
              "      <td>NaN</td>\n",
              "      <td>NaN</td>\n",
              "      <td>NaN</td>\n",
              "      <td>NaN</td>\n",
              "      <td>NaN</td>\n",
              "      <td>NaN</td>\n",
              "      <td>NaN</td>\n",
              "      <td>NaN</td>\n",
              "      <td>NaN</td>\n",
              "      <td>NaN</td>\n",
              "      <td>NaN</td>\n",
              "      <td>NaN</td>\n",
              "      <td>NaN</td>\n",
              "      <td>NaN</td>\n",
              "      <td>NaN</td>\n",
              "      <td>NaN</td>\n",
              "      <td>NaN</td>\n",
              "      <td>NaN</td>\n",
              "    </tr>\n",
              "    <tr>\n",
              "      <th>1873582</th>\n",
              "      <td>167236</td>\n",
              "      <td>6122766e6affc0f2b0410c818b858409</td>\n",
              "      <td>NaN</td>\n",
              "      <td>CE</td>\n",
              "      <td>230440.0</td>\n",
              "      <td>FORTALEZA</td>\n",
              "      <td>MASCULINO</td>\n",
              "      <td>20.0</td>\n",
              "      <td>2021-05-10T03:00:00.000+0000</td>\n",
              "      <td>NaN</td>\n",
              "      <td>NaN</td>\n",
              "      <td>NaN</td>\n",
              "      <td>2021-05-09T03:00:00.000+0000</td>\n",
              "      <td>NaN</td>\n",
              "      <td>Branca</td>\n",
              "      <td>FORTALEZA</td>\n",
              "      <td>0.0</td>\n",
              "      <td>2.4825e+06</td>\n",
              "      <td>NaN</td>\n",
              "      <td>NaN</td>\n",
              "      <td>NaN</td>\n",
              "      <td>NaN</td>\n",
              "      <td>PEDRAS</td>\n",
              "      <td>NaN</td>\n",
              "      <td>NaN</td>\n",
              "      <td>NaN</td>\n",
              "      <td>NaN</td>\n",
              "      <td>NaN</td>\n",
              "      <td>NaN</td>\n",
              "      <td>NaN</td>\n",
              "      <td>NaN</td>\n",
              "      <td>NaN</td>\n",
              "      <td>NaN</td>\n",
              "      <td>NaN</td>\n",
              "      <td>NaN</td>\n",
              "      <td>NaN</td>\n",
              "      <td>NaN</td>\n",
              "      <td>NaN</td>\n",
              "      <td>NaN</td>\n",
              "      <td>NaN</td>\n",
              "      <td>NaN</td>\n",
              "      <td>NaN</td>\n",
              "    </tr>\n",
              "  </tbody>\n",
              "</table>\n",
              "<p>1873583 rows × 42 columns</p>\n",
              "</div>"
            ],
            "text/plain": [
              "          index  ... dataSaidaUtisSvep\n",
              "0             0  ...               NaN\n",
              "1             1  ...               NaN\n",
              "2             2  ...               NaN\n",
              "3             3  ...               NaN\n",
              "4             4  ...               NaN\n",
              "...         ...  ...               ...\n",
              "1873578  167232  ...               NaN\n",
              "1873579  167233  ...               NaN\n",
              "1873580  167234  ...               NaN\n",
              "1873581  167235  ...               NaN\n",
              "1873582  167236  ...               NaN\n",
              "\n",
              "[1873583 rows x 42 columns]"
            ]
          },
          "metadata": {
            "tags": []
          },
          "execution_count": 90
        }
      ]
    },
    {
      "cell_type": "code",
      "metadata": {
        "colab": {
          "base_uri": "https://localhost:8080/"
        },
        "id": "dTFmso52v0kD",
        "outputId": "3a65cae5-0b95-4024-fc5f-0847f3e259f3"
      },
      "source": [
        "#mostra os campos e a quantidade de dados faltantes\n",
        "dfTotal.isna().sum()"
      ],
      "execution_count": 91,
      "outputs": [
        {
          "output_type": "execute_result",
          "data": {
            "text/plain": [
              "codigoPaciente                            0\n",
              "paisPaciente                        1786289\n",
              "estadoPaciente                          256\n",
              "codigoMunicipioPaciente               14685\n",
              "municipioPaciente                        40\n",
              "sexoPaciente                             52\n",
              "idadePaciente                            80\n",
              "dataNotificacao                           0\n",
              "dataColetaExame                      375130\n",
              "dataResultadoExame                   379586\n",
              "resultadoFinalExame                  117663\n",
              "dataInicioSintomas                    17533\n",
              "tipoTesteExame                       117983\n",
              "racaCorPaciente                       95777\n",
              "municipioNotificacaoEsus              30541\n",
              "profissionalSaude                     30503\n",
              "cnesNotificacaoEsus                  385965\n",
              "idSivep                             1791914\n",
              "classificacaoEstadoSivep            1805751\n",
              "dataInternacaoSivep                 1801016\n",
              "dataEntradaUtisSvep                 1855513\n",
              "bairroPaciente                        19590\n",
              "comorbidadeNeurologiaSivep          1853535\n",
              "dataSolicitacaoExame                1743737\n",
              "obitoConfirmado                     1850885\n",
              "dataObito                           1848669\n",
              "tipoObito                           1848669\n",
              "dataNotificacaoObito                1848669\n",
              "comorbidadeCardiovascularSivep      1841169\n",
              "comorbidadeObesidadeSivep           1852292\n",
              "evolucaoCaso                        1821295\n",
              "dataEvolucaoCasoSivep               1824689\n",
              "comorbidadeHematologiaSivep         1854590\n",
              "comorbidadeSindromeDownSivep        1854692\n",
              "comorbidadeAsmaSivep                1854241\n",
              "comorbidadeDiabetesSivep            1844014\n",
              "comorbidadeImunodeficienciaSivep    1854305\n",
              "comorbidadeRenalSivep               1854013\n",
              "comorbidadePuerperaSivep            1854513\n",
              "comorbidadePneumopatiaSivep         1854126\n",
              "dataSaidaUtisSvep                   1865679\n",
              "dtype: int64"
            ]
          },
          "metadata": {
            "tags": []
          },
          "execution_count": 91
        }
      ]
    },
    {
      "cell_type": "code",
      "metadata": {
        "colab": {
          "base_uri": "https://localhost:8080/"
        },
        "id": "1tbCxHKV6rG9",
        "outputId": "d43534ef-89dd-491e-b9e8-19f636267e8a"
      },
      "source": [
        "#mostra a quantidade de registros no dataset\n",
        "dfTotal.shape"
      ],
      "execution_count": 92,
      "outputs": [
        {
          "output_type": "execute_result",
          "data": {
            "text/plain": [
              "(1873583, 41)"
            ]
          },
          "metadata": {
            "tags": []
          },
          "execution_count": 92
        }
      ]
    },
    {
      "cell_type": "markdown",
      "metadata": {
        "id": "YEzFNkpU6yZb"
      },
      "source": [
        "**Seleciona apenas as colunas de interesse**"
      ]
    },
    {
      "cell_type": "code",
      "metadata": {
        "id": "qcwEwCBY33ME"
      },
      "source": [
        "#Define as colunas de interesse\n",
        "features = [\"codigoPaciente\",\n",
        "\"codigoMunicipioPaciente\",\n",
        "\"sexoPaciente\",\n",
        "\"idadePaciente\",\n",
        "\"racaCorPaciente\",\n",
        "\"comorbidadeNeurologiaSivep\",\n",
        "\"comorbidadeCardiovascularSivep\",\n",
        "\"comorbidadeObesidadeSivep\",\n",
        "\"comorbidadeHematologiaSivep\",\n",
        "\"comorbidadeSindromeDownSivep\",\n",
        "\"comorbidadeAsmaSivep\",\n",
        "\"comorbidadeDiabetesSivep\",\n",
        "\"comorbidadeImunodeficienciaSivep\",\n",
        "\"comorbidadeRenalSivep\",\n",
        "\"comorbidadePuerperaSivep\",\n",
        "\"comorbidadePneumopatiaSivep\",\n",
        "\"dataNotificacao\",\n",
        "\"resultadoFinalExame\",\n",
        "\"dataInternacaoSivep\",\n",
        "\"dataEntradaUtisSvep\",\n",
        "\"obitoConfirmado\",\n",
        "\"dataObito\",\n",
        "\"tipoObito\"]\n",
        "\n",
        "#seleciona apenas as colunas de interesse\n",
        "dfTotalColunasEspecificas = dfTotal.loc[:,features]"
      ],
      "execution_count": 93,
      "outputs": []
    },
    {
      "cell_type": "code",
      "metadata": {
        "id": "zeFEvLxm-COB"
      },
      "source": [
        "dfTotalColunasEspecificas = dfTotal #corrigir isso aqui"
      ],
      "execution_count": 94,
      "outputs": []
    },
    {
      "cell_type": "markdown",
      "metadata": {
        "id": "Ko89mqXywULZ"
      },
      "source": [
        "**Segundo Filtro: Selecionar apenas os pacientes que vieram a óbito**"
      ]
    },
    {
      "cell_type": "code",
      "metadata": {
        "id": "x47S3RrKwSTx"
      },
      "source": [
        "dfObitosGeral = dfTotalColunasEspecificas.loc[dfTotalColunasEspecificas.dataObito.notna()]"
      ],
      "execution_count": 95,
      "outputs": []
    },
    {
      "cell_type": "code",
      "metadata": {
        "colab": {
          "base_uri": "https://localhost:8080/"
        },
        "id": "PkULvn0u7H9Q",
        "outputId": "d4ab9859-86a0-41ed-e82c-4deefb158767"
      },
      "source": [
        "#mostra o número total de registros\n",
        "dfObitosGeral.shape"
      ],
      "execution_count": 96,
      "outputs": [
        {
          "output_type": "execute_result",
          "data": {
            "text/plain": [
              "(24914, 41)"
            ]
          },
          "metadata": {
            "tags": []
          },
          "execution_count": 96
        }
      ]
    },
    {
      "cell_type": "markdown",
      "metadata": {
        "id": "OpovAc4Pw0kD"
      },
      "source": [
        "**Remove do Dataset os óbitos que ainda estão em investigação**"
      ]
    },
    {
      "cell_type": "code",
      "metadata": {
        "id": "mY_GqNV9wE-J"
      },
      "source": [
        "#remove os óbitos em investigação\n",
        "dfObitosConfirmados = dfObitosGeral.loc[~dfObitosGeral.tipoObito.eq(\"Em investigação\")]\n"
      ],
      "execution_count": 97,
      "outputs": []
    },
    {
      "cell_type": "code",
      "metadata": {
        "colab": {
          "base_uri": "https://localhost:8080/"
        },
        "id": "xKaR9HRB7WHD",
        "outputId": "155cc752-5b09-4957-81c9-0d01ef05d83f"
      },
      "source": [
        "#mostra o número de registros após a filtragem\n",
        "dfObitosConfirmados.shape"
      ],
      "execution_count": 98,
      "outputs": [
        {
          "output_type": "execute_result",
          "data": {
            "text/plain": [
              "(23896, 41)"
            ]
          },
          "metadata": {
            "tags": []
          },
          "execution_count": 98
        }
      ]
    },
    {
      "cell_type": "markdown",
      "metadata": {
        "id": "3ClfsJcyyh-D"
      },
      "source": [
        "**Remove os pacientes duplicados**"
      ]
    },
    {
      "cell_type": "code",
      "metadata": {
        "id": "Rj769muF2g6L"
      },
      "source": [
        "#Remove as linhas duplicadas\n",
        "dfObitosNonLinesDuplicates = dfObitosConfirmados.drop_duplicates(subset=[\"codigoPaciente\"], keep=\"last\")"
      ],
      "execution_count": 99,
      "outputs": []
    },
    {
      "cell_type": "code",
      "metadata": {
        "colab": {
          "base_uri": "https://localhost:8080/"
        },
        "id": "coGRATinzW26",
        "outputId": "40cc2d9f-1093-4311-dfcd-bcedc882ae8a"
      },
      "source": [
        "#mostra o número de registros após a filtragem\n",
        "dfObitosNonLinesDuplicates.shape"
      ],
      "execution_count": 100,
      "outputs": [
        {
          "output_type": "execute_result",
          "data": {
            "text/plain": [
              "(20122, 41)"
            ]
          },
          "metadata": {
            "tags": []
          },
          "execution_count": 100
        }
      ]
    },
    {
      "cell_type": "markdown",
      "metadata": {
        "id": "rz5oKOOj-e1b"
      },
      "source": [
        "**Preenche as campos vázios das combormidades com Não**"
      ]
    },
    {
      "cell_type": "code",
      "metadata": {
        "colab": {
          "base_uri": "https://localhost:8080/"
        },
        "id": "ZjvEDfBw-eW8",
        "outputId": "cedac252-b09e-478d-957e-ba6757b8a9f8"
      },
      "source": [
        "#seleciona apenas as features que possuem comorbidades\n",
        "comorbidade_cols = [col for col in dfObitosNonLinesDuplicates.columns if 'comorbidade' in col]\n",
        "\n",
        "#Preenche as comorbidades com valores vázios como se não tivessem a comorbidades\n",
        "dfObitosNonLinesDuplicates.loc[:,comorbidade_cols] = dfObitosNonLinesDuplicates.loc[:, comorbidade_cols].fillna(\"Não\")"
      ],
      "execution_count": 101,
      "outputs": [
        {
          "output_type": "stream",
          "text": [
            "/usr/local/lib/python3.7/dist-packages/pandas/core/indexing.py:1715: SettingWithCopyWarning: \n",
            "A value is trying to be set on a copy of a slice from a DataFrame.\n",
            "Try using .loc[row_indexer,col_indexer] = value instead\n",
            "\n",
            "See the caveats in the documentation: https://pandas.pydata.org/pandas-docs/stable/user_guide/indexing.html#returning-a-view-versus-a-copy\n",
            "  isetter(loc, v)\n"
          ],
          "name": "stderr"
        }
      ]
    },
    {
      "cell_type": "markdown",
      "metadata": {
        "id": "kw2aDHePCbiX"
      },
      "source": [
        "**Preenche a coluna obitoConfirmado com valor  Não se o valor for vázio. A coluna obitoConfirmado indica se a pessoa morreu por Covid. Os valores nulos para essa coluna correspondem aos casos descartados (tipoObito).**"
      ]
    },
    {
      "cell_type": "code",
      "metadata": {
        "colab": {
          "base_uri": "https://localhost:8080/"
        },
        "id": "90M9eS8m8Mk2",
        "outputId": "b2ea149d-65ed-4b6a-bf08-279548225ceb"
      },
      "source": [
        "#Existe 1616 obitos que foram descartados e estão com valor nulo na coluna obitoConfirmado\n",
        "dfObitosNonLinesDuplicates[dfObitosNonLinesDuplicates.tipoObito.eq(\"Descartado\")].obitoConfirmado.value_counts(dropna=False)"
      ],
      "execution_count": 102,
      "outputs": [
        {
          "output_type": "execute_result",
          "data": {
            "text/plain": [
              "NaN    1616\n",
              "Name: obitoConfirmado, dtype: int64"
            ]
          },
          "metadata": {
            "tags": []
          },
          "execution_count": 102
        }
      ]
    },
    {
      "cell_type": "code",
      "metadata": {
        "colab": {
          "base_uri": "https://localhost:8080/"
        },
        "id": "eZHsv9lHdG9K",
        "outputId": "b6a95518-cc7d-4b3f-886d-c0e9331fbe3b"
      },
      "source": [
        "#Preenche com 0 (Não) a coluna obitoConfirmado se ela estiver vázia\n",
        "dfObitosNonLinesDuplicates.obitoConfirmado.fillna(0, inplace=True)"
      ],
      "execution_count": 103,
      "outputs": [
        {
          "output_type": "stream",
          "text": [
            "/usr/local/lib/python3.7/dist-packages/pandas/core/series.py:4536: SettingWithCopyWarning: \n",
            "A value is trying to be set on a copy of a slice from a DataFrame\n",
            "\n",
            "See the caveats in the documentation: https://pandas.pydata.org/pandas-docs/stable/user_guide/indexing.html#returning-a-view-versus-a-copy\n",
            "  downcast=downcast,\n"
          ],
          "name": "stderr"
        }
      ]
    },
    {
      "cell_type": "markdown",
      "metadata": {
        "id": "V_6WFCYse97h"
      },
      "source": [
        "**Remove o único paciente sem idade**"
      ]
    },
    {
      "cell_type": "code",
      "metadata": {
        "colab": {
          "base_uri": "https://localhost:8080/"
        },
        "id": "aU0GTnqgfBm-",
        "outputId": "3e401e7f-6942-47c7-bd8f-45b18618aa71"
      },
      "source": [
        "#remove\n",
        "dfObitosNonLinesDuplicates.dropna(subset=[\"idadePaciente\"], inplace=True)"
      ],
      "execution_count": 104,
      "outputs": [
        {
          "output_type": "stream",
          "text": [
            "/usr/local/lib/python3.7/dist-packages/ipykernel_launcher.py:2: SettingWithCopyWarning: \n",
            "A value is trying to be set on a copy of a slice from a DataFrame\n",
            "\n",
            "See the caveats in the documentation: https://pandas.pydata.org/pandas-docs/stable/user_guide/indexing.html#returning-a-view-versus-a-copy\n",
            "  \n"
          ],
          "name": "stderr"
        }
      ]
    },
    {
      "cell_type": "code",
      "metadata": {
        "colab": {
          "base_uri": "https://localhost:8080/"
        },
        "id": "VsBcCTN7yils",
        "outputId": "10782fc9-5b29-4e78-a6c7-3df2690744f7"
      },
      "source": [
        "#mostra o número de registros após a filtragem\n",
        "dfObitosNonLinesDuplicates.shape"
      ],
      "execution_count": 105,
      "outputs": [
        {
          "output_type": "execute_result",
          "data": {
            "text/plain": [
              "(20121, 41)"
            ]
          },
          "metadata": {
            "tags": []
          },
          "execution_count": 105
        }
      ]
    },
    {
      "cell_type": "markdown",
      "metadata": {
        "id": "R45yDrAPfWQ7"
      },
      "source": [
        "**Remove os pacientes sem código de Municipio - provavelmente não são do Ceará**"
      ]
    },
    {
      "cell_type": "code",
      "metadata": {
        "colab": {
          "base_uri": "https://localhost:8080/"
        },
        "id": "ROr1goIhgnv2",
        "outputId": "07dfe2d4-5f53-4125-95cf-036d723dd47b"
      },
      "source": [
        "dfObitosNonLinesDuplicates.dropna(subset=[\"codigoMunicipioPaciente\"], inplace=True)"
      ],
      "execution_count": 106,
      "outputs": [
        {
          "output_type": "stream",
          "text": [
            "/usr/local/lib/python3.7/dist-packages/ipykernel_launcher.py:1: SettingWithCopyWarning: \n",
            "A value is trying to be set on a copy of a slice from a DataFrame\n",
            "\n",
            "See the caveats in the documentation: https://pandas.pydata.org/pandas-docs/stable/user_guide/indexing.html#returning-a-view-versus-a-copy\n",
            "  \"\"\"Entry point for launching an IPython kernel.\n"
          ],
          "name": "stderr"
        }
      ]
    },
    {
      "cell_type": "code",
      "metadata": {
        "colab": {
          "base_uri": "https://localhost:8080/"
        },
        "id": "cjewgfQQyd9j",
        "outputId": "539a0806-af4c-4f3e-f3e3-b8df2a4bcb18"
      },
      "source": [
        "#mostra o número de registros após a filtragem\n",
        "dfObitosNonLinesDuplicates.shape"
      ],
      "execution_count": 107,
      "outputs": [
        {
          "output_type": "execute_result",
          "data": {
            "text/plain": [
              "(20087, 41)"
            ]
          },
          "metadata": {
            "tags": []
          },
          "execution_count": 107
        }
      ]
    },
    {
      "cell_type": "markdown",
      "metadata": {
        "id": "HdnX7dY6xY5r"
      },
      "source": [
        "**Remove os paciente que não possuem a raça registrada**"
      ]
    },
    {
      "cell_type": "code",
      "metadata": {
        "colab": {
          "base_uri": "https://localhost:8080/"
        },
        "id": "DDNEdn0JxYgU",
        "outputId": "fe7dbe8f-6ed2-46e0-b6f3-19626893fabc"
      },
      "source": [
        "#remove os pacientes que não possuem a raça informada\n",
        "dfObitosNonLinesDuplicates.dropna(subset=[\"racaCorPaciente\"], inplace=True)"
      ],
      "execution_count": 108,
      "outputs": [
        {
          "output_type": "stream",
          "text": [
            "/usr/local/lib/python3.7/dist-packages/ipykernel_launcher.py:2: SettingWithCopyWarning: \n",
            "A value is trying to be set on a copy of a slice from a DataFrame\n",
            "\n",
            "See the caveats in the documentation: https://pandas.pydata.org/pandas-docs/stable/user_guide/indexing.html#returning-a-view-versus-a-copy\n",
            "  \n"
          ],
          "name": "stderr"
        }
      ]
    },
    {
      "cell_type": "code",
      "metadata": {
        "colab": {
          "base_uri": "https://localhost:8080/"
        },
        "id": "IzFE-Go1ymzE",
        "outputId": "7affbcc7-9424-476b-d899-64735b7089a8"
      },
      "source": [
        "#mostra o número de registros após a filtragem\n",
        "dfObitosNonLinesDuplicates.shape"
      ],
      "execution_count": 109,
      "outputs": [
        {
          "output_type": "execute_result",
          "data": {
            "text/plain": [
              "(13914, 41)"
            ]
          },
          "metadata": {
            "tags": []
          },
          "execution_count": 109
        }
      ]
    },
    {
      "cell_type": "markdown",
      "metadata": {
        "id": "KRsH2wIE-MBE"
      },
      "source": [
        "**Verifica a quantidade de registros faltantes**"
      ]
    },
    {
      "cell_type": "code",
      "metadata": {
        "colab": {
          "base_uri": "https://localhost:8080/"
        },
        "id": "m9Cdzn9B9lw8",
        "outputId": "789c0090-21ae-4c28-df43-73bfb7c1500e"
      },
      "source": [
        "dfObitosNonLinesDuplicates.isna().sum()"
      ],
      "execution_count": 110,
      "outputs": [
        {
          "output_type": "execute_result",
          "data": {
            "text/plain": [
              "codigoPaciente                          0\n",
              "paisPaciente                         1904\n",
              "estadoPaciente                          0\n",
              "codigoMunicipioPaciente                 0\n",
              "municipioPaciente                       0\n",
              "sexoPaciente                            0\n",
              "idadePaciente                           0\n",
              "dataNotificacao                         0\n",
              "dataColetaExame                       426\n",
              "dataResultadoExame                   2661\n",
              "resultadoFinalExame                     0\n",
              "dataInicioSintomas                      4\n",
              "tipoTesteExame                         29\n",
              "racaCorPaciente                         0\n",
              "municipioNotificacaoEsus             4948\n",
              "profissionalSaude                    4947\n",
              "cnesNotificacaoEsus                  6602\n",
              "idSivep                              1905\n",
              "classificacaoEstadoSivep             2915\n",
              "dataInternacaoSivep                  3715\n",
              "dataEntradaUtisSvep                  9876\n",
              "bairroPaciente                       1439\n",
              "comorbidadeNeurologiaSivep              0\n",
              "dataSolicitacaoExame                 9993\n",
              "obitoConfirmado                         0\n",
              "dataObito                               0\n",
              "tipoObito                               0\n",
              "dataNotificacaoObito                    0\n",
              "comorbidadeCardiovascularSivep          0\n",
              "comorbidadeObesidadeSivep               0\n",
              "evolucaoCaso                         2885\n",
              "dataEvolucaoCasoSivep                3115\n",
              "comorbidadeHematologiaSivep             0\n",
              "comorbidadeSindromeDownSivep            0\n",
              "comorbidadeAsmaSivep                    0\n",
              "comorbidadeDiabetesSivep                0\n",
              "comorbidadeImunodeficienciaSivep        0\n",
              "comorbidadeRenalSivep                   0\n",
              "comorbidadePuerperaSivep                0\n",
              "comorbidadePneumopatiaSivep             0\n",
              "dataSaidaUtisSvep                   11865\n",
              "dtype: int64"
            ]
          },
          "metadata": {
            "tags": []
          },
          "execution_count": 110
        }
      ]
    },
    {
      "cell_type": "code",
      "metadata": {
        "colab": {
          "base_uri": "https://localhost:8080/",
          "height": 309
        },
        "id": "6TsuDso0-l4E",
        "outputId": "708755cb-bc75-4ddd-c685-e73bf8dd09e7"
      },
      "source": [
        "dfObitosNonLinesDuplicates.head()"
      ],
      "execution_count": 111,
      "outputs": [
        {
          "output_type": "execute_result",
          "data": {
            "text/html": [
              "<div>\n",
              "<style scoped>\n",
              "    .dataframe tbody tr th:only-of-type {\n",
              "        vertical-align: middle;\n",
              "    }\n",
              "\n",
              "    .dataframe tbody tr th {\n",
              "        vertical-align: top;\n",
              "    }\n",
              "\n",
              "    .dataframe thead th {\n",
              "        text-align: right;\n",
              "    }\n",
              "</style>\n",
              "<table border=\"1\" class=\"dataframe\">\n",
              "  <thead>\n",
              "    <tr style=\"text-align: right;\">\n",
              "      <th></th>\n",
              "      <th>codigoPaciente</th>\n",
              "      <th>paisPaciente</th>\n",
              "      <th>estadoPaciente</th>\n",
              "      <th>codigoMunicipioPaciente</th>\n",
              "      <th>municipioPaciente</th>\n",
              "      <th>sexoPaciente</th>\n",
              "      <th>idadePaciente</th>\n",
              "      <th>dataNotificacao</th>\n",
              "      <th>dataColetaExame</th>\n",
              "      <th>dataResultadoExame</th>\n",
              "      <th>resultadoFinalExame</th>\n",
              "      <th>dataInicioSintomas</th>\n",
              "      <th>tipoTesteExame</th>\n",
              "      <th>racaCorPaciente</th>\n",
              "      <th>municipioNotificacaoEsus</th>\n",
              "      <th>profissionalSaude</th>\n",
              "      <th>cnesNotificacaoEsus</th>\n",
              "      <th>idSivep</th>\n",
              "      <th>classificacaoEstadoSivep</th>\n",
              "      <th>dataInternacaoSivep</th>\n",
              "      <th>dataEntradaUtisSvep</th>\n",
              "      <th>bairroPaciente</th>\n",
              "      <th>comorbidadeNeurologiaSivep</th>\n",
              "      <th>dataSolicitacaoExame</th>\n",
              "      <th>obitoConfirmado</th>\n",
              "      <th>dataObito</th>\n",
              "      <th>tipoObito</th>\n",
              "      <th>dataNotificacaoObito</th>\n",
              "      <th>comorbidadeCardiovascularSivep</th>\n",
              "      <th>comorbidadeObesidadeSivep</th>\n",
              "      <th>evolucaoCaso</th>\n",
              "      <th>dataEvolucaoCasoSivep</th>\n",
              "      <th>comorbidadeHematologiaSivep</th>\n",
              "      <th>comorbidadeSindromeDownSivep</th>\n",
              "      <th>comorbidadeAsmaSivep</th>\n",
              "      <th>comorbidadeDiabetesSivep</th>\n",
              "      <th>comorbidadeImunodeficienciaSivep</th>\n",
              "      <th>comorbidadeRenalSivep</th>\n",
              "      <th>comorbidadePuerperaSivep</th>\n",
              "      <th>comorbidadePneumopatiaSivep</th>\n",
              "      <th>dataSaidaUtisSvep</th>\n",
              "    </tr>\n",
              "  </thead>\n",
              "  <tbody>\n",
              "    <tr>\n",
              "      <th>60</th>\n",
              "      <td>ae9baa0839895cf22975686c4b1a9326</td>\n",
              "      <td>BRASIL</td>\n",
              "      <td>CE</td>\n",
              "      <td>230440.0</td>\n",
              "      <td>FORTALEZA</td>\n",
              "      <td>MASCULINO</td>\n",
              "      <td>68.0</td>\n",
              "      <td>2020-02-01T03:00:00.000+0000</td>\n",
              "      <td>2021-02-01T06:00:00.000+0000</td>\n",
              "      <td>2021-02-04T09:25:43.000+0000</td>\n",
              "      <td>Positivo</td>\n",
              "      <td>2020-01-29T03:00:00.000+0000</td>\n",
              "      <td>RT-PCR</td>\n",
              "      <td>Amarela</td>\n",
              "      <td>NaN</td>\n",
              "      <td>NaN</td>\n",
              "      <td>NaN</td>\n",
              "      <td>3.161223e+11</td>\n",
              "      <td>Em Análise.0</td>\n",
              "      <td>2021-02-01T03:00:00.000+0000</td>\n",
              "      <td>NaN</td>\n",
              "      <td>QUINTINO CUNHA</td>\n",
              "      <td>Não</td>\n",
              "      <td>2021-02-02T03:00:00.000+0000</td>\n",
              "      <td>1.0</td>\n",
              "      <td>2021-02-04T03:00:00.000+0000</td>\n",
              "      <td>Confirmado</td>\n",
              "      <td>2021-02-04T16:37:14.483+0000</td>\n",
              "      <td>Sim</td>\n",
              "      <td>Sim</td>\n",
              "      <td>NaN</td>\n",
              "      <td>NaN</td>\n",
              "      <td>Não</td>\n",
              "      <td>Não</td>\n",
              "      <td>Não</td>\n",
              "      <td>Não</td>\n",
              "      <td>Não</td>\n",
              "      <td>Não</td>\n",
              "      <td>Não</td>\n",
              "      <td>Não</td>\n",
              "      <td>NaN</td>\n",
              "    </tr>\n",
              "    <tr>\n",
              "      <th>2864</th>\n",
              "      <td>2f9cc4a6ca7f010ce492345c88a22c2f</td>\n",
              "      <td>NaN</td>\n",
              "      <td>CE</td>\n",
              "      <td>230410.0</td>\n",
              "      <td>CRATEUS</td>\n",
              "      <td>FEMININO</td>\n",
              "      <td>36.0</td>\n",
              "      <td>2020-03-21T03:00:00.000+0000</td>\n",
              "      <td>2020-03-21T09:00:00.000+0000</td>\n",
              "      <td>2020-03-21T03:00:00.000+0000</td>\n",
              "      <td>Negativo</td>\n",
              "      <td>2020-03-06T03:00:00.000+0000</td>\n",
              "      <td>RT-PCR</td>\n",
              "      <td>Parda</td>\n",
              "      <td>CRATEUS</td>\n",
              "      <td>0.0</td>\n",
              "      <td>NaN</td>\n",
              "      <td>NaN</td>\n",
              "      <td>NaN</td>\n",
              "      <td>NaN</td>\n",
              "      <td>NaN</td>\n",
              "      <td>CATINGUEIRO</td>\n",
              "      <td>Não</td>\n",
              "      <td>NaN</td>\n",
              "      <td>0.0</td>\n",
              "      <td>2020-03-21T03:00:00.000+0000</td>\n",
              "      <td>Descartado</td>\n",
              "      <td>2020-05-20T20:24:37.783+0000</td>\n",
              "      <td>Não</td>\n",
              "      <td>Não</td>\n",
              "      <td>NaN</td>\n",
              "      <td>NaN</td>\n",
              "      <td>Não</td>\n",
              "      <td>Não</td>\n",
              "      <td>Não</td>\n",
              "      <td>Não</td>\n",
              "      <td>Não</td>\n",
              "      <td>Não</td>\n",
              "      <td>Não</td>\n",
              "      <td>Não</td>\n",
              "      <td>NaN</td>\n",
              "    </tr>\n",
              "    <tr>\n",
              "      <th>2865</th>\n",
              "      <td>d099b265a2d082750fca9a1809da83e2</td>\n",
              "      <td>BRASIL</td>\n",
              "      <td>CE</td>\n",
              "      <td>230440.0</td>\n",
              "      <td>FORTALEZA</td>\n",
              "      <td>MASCULINO</td>\n",
              "      <td>72.0</td>\n",
              "      <td>2020-03-21T03:00:00.000+0000</td>\n",
              "      <td>2020-03-20T09:00:00.000+0000</td>\n",
              "      <td>2020-04-20T03:00:00.000+0000</td>\n",
              "      <td>Positivo</td>\n",
              "      <td>2020-03-15T03:00:00.000+0000</td>\n",
              "      <td>RT-PCR</td>\n",
              "      <td>Parda</td>\n",
              "      <td>FORTALEZA</td>\n",
              "      <td>0.0</td>\n",
              "      <td>NaN</td>\n",
              "      <td>3.158522e+11</td>\n",
              "      <td>Positivo.0</td>\n",
              "      <td>2020-03-20T03:00:00.000+0000</td>\n",
              "      <td>2020-03-21T03:00:00.000+0000</td>\n",
              "      <td>DAMAS</td>\n",
              "      <td>Não</td>\n",
              "      <td>NaN</td>\n",
              "      <td>1.0</td>\n",
              "      <td>2020-03-26T03:00:00.000+0000</td>\n",
              "      <td>Confirmado</td>\n",
              "      <td>2020-05-20T20:24:35.363+0000</td>\n",
              "      <td>Sim</td>\n",
              "      <td>Não</td>\n",
              "      <td>Óbito.0</td>\n",
              "      <td>2020-03-26T03:00:00.000+0000</td>\n",
              "      <td>Não</td>\n",
              "      <td>Não</td>\n",
              "      <td>Não</td>\n",
              "      <td>Sim</td>\n",
              "      <td>Não</td>\n",
              "      <td>Não</td>\n",
              "      <td>Não</td>\n",
              "      <td>Não</td>\n",
              "      <td>NaN</td>\n",
              "    </tr>\n",
              "    <tr>\n",
              "      <th>3315</th>\n",
              "      <td>9024e07873bb2af3780d023956489d44</td>\n",
              "      <td>BRASIL</td>\n",
              "      <td>CE</td>\n",
              "      <td>230080.0</td>\n",
              "      <td>ANTONINA DO NORTE</td>\n",
              "      <td>MASCULINO</td>\n",
              "      <td>85.0</td>\n",
              "      <td>2020-03-22T03:00:00.000+0000</td>\n",
              "      <td>2021-01-14T12:00:00.000+0000</td>\n",
              "      <td>2020-04-28T03:00:00.000+0000</td>\n",
              "      <td>Positivo</td>\n",
              "      <td>2020-03-18T03:00:00.000+0000</td>\n",
              "      <td>RT-PCR</td>\n",
              "      <td>Parda</td>\n",
              "      <td>JUAZEIRO DO NORTE</td>\n",
              "      <td>0.0</td>\n",
              "      <td>NaN</td>\n",
              "      <td>3.161048e+11</td>\n",
              "      <td>Positivo.0</td>\n",
              "      <td>NaN</td>\n",
              "      <td>NaN</td>\n",
              "      <td>NaN</td>\n",
              "      <td>Não</td>\n",
              "      <td>NaN</td>\n",
              "      <td>1.0</td>\n",
              "      <td>2021-01-14T03:00:00.000+0000</td>\n",
              "      <td>Confirmado</td>\n",
              "      <td>2021-01-19T14:22:02.803+0000</td>\n",
              "      <td>Sim</td>\n",
              "      <td>Não</td>\n",
              "      <td>Óbito.0</td>\n",
              "      <td>2021-01-12T03:00:00.000+0000</td>\n",
              "      <td>Não</td>\n",
              "      <td>Não</td>\n",
              "      <td>Não</td>\n",
              "      <td>Sim</td>\n",
              "      <td>Não</td>\n",
              "      <td>Não</td>\n",
              "      <td>Não</td>\n",
              "      <td>Sim</td>\n",
              "      <td>NaN</td>\n",
              "    </tr>\n",
              "    <tr>\n",
              "      <th>5137</th>\n",
              "      <td>cfcbf0b29e7a75ca9af3c37e11d5d8c0</td>\n",
              "      <td>BRASIL</td>\n",
              "      <td>CE</td>\n",
              "      <td>230590.0</td>\n",
              "      <td>IPUEIRAS</td>\n",
              "      <td>FEMININO</td>\n",
              "      <td>84.0</td>\n",
              "      <td>2020-03-24T03:00:00.000+0000</td>\n",
              "      <td>2020-03-24T15:00:00.000+0000</td>\n",
              "      <td>2020-04-28T03:00:00.000+0000</td>\n",
              "      <td>Positivo</td>\n",
              "      <td>2020-03-19T03:00:00.000+0000</td>\n",
              "      <td>RT-PCR</td>\n",
              "      <td>Parda</td>\n",
              "      <td>CRATEUS</td>\n",
              "      <td>0.0</td>\n",
              "      <td>NaN</td>\n",
              "      <td>3.158558e+11</td>\n",
              "      <td>Positivo.0</td>\n",
              "      <td>2020-03-23T03:00:00.000+0000</td>\n",
              "      <td>NaN</td>\n",
              "      <td>TUCUNS</td>\n",
              "      <td>Não</td>\n",
              "      <td>NaN</td>\n",
              "      <td>1.0</td>\n",
              "      <td>2020-03-25T03:00:00.000+0000</td>\n",
              "      <td>Confirmado</td>\n",
              "      <td>2020-05-19T14:59:55.730+0000</td>\n",
              "      <td>Sim</td>\n",
              "      <td>Não</td>\n",
              "      <td>Óbito.0</td>\n",
              "      <td>2020-03-26T03:00:00.000+0000</td>\n",
              "      <td>Não</td>\n",
              "      <td>Não</td>\n",
              "      <td>Não</td>\n",
              "      <td>Sim</td>\n",
              "      <td>Não</td>\n",
              "      <td>Não</td>\n",
              "      <td>Não</td>\n",
              "      <td>Não</td>\n",
              "      <td>NaN</td>\n",
              "    </tr>\n",
              "  </tbody>\n",
              "</table>\n",
              "</div>"
            ],
            "text/plain": [
              "                        codigoPaciente  ... dataSaidaUtisSvep\n",
              "60    ae9baa0839895cf22975686c4b1a9326  ...               NaN\n",
              "2864  2f9cc4a6ca7f010ce492345c88a22c2f  ...               NaN\n",
              "2865  d099b265a2d082750fca9a1809da83e2  ...               NaN\n",
              "3315  9024e07873bb2af3780d023956489d44  ...               NaN\n",
              "5137  cfcbf0b29e7a75ca9af3c37e11d5d8c0  ...               NaN\n",
              "\n",
              "[5 rows x 41 columns]"
            ]
          },
          "metadata": {
            "tags": []
          },
          "execution_count": 111
        }
      ]
    },
    {
      "cell_type": "markdown",
      "metadata": {
        "id": "8ZX3mfEE4WKF"
      },
      "source": [
        "**Altera valor das colunas comorbidades para númerico**"
      ]
    },
    {
      "cell_type": "code",
      "metadata": {
        "colab": {
          "base_uri": "https://localhost:8080/"
        },
        "id": "YHWLjBJW4bzM",
        "outputId": "3ab680e2-4b16-4f3c-b65b-869d19154d5e"
      },
      "source": [
        "#seleciona apenas as features que possuem comorbidades\n",
        "comorbidade_cols = [col for col in dfObitosNonLinesDuplicates.columns if 'comorbidade' in col]\n",
        "#Substitui Ignorado e Não por 0 e Sim por 1\n",
        "for c in comorbidade_cols:\n",
        "  dfObitosNonLinesDuplicates.loc[dfObitosNonLinesDuplicates[c].eq(\"Ignorado\") | dfObitosNonLinesDuplicates[c].eq(\"Não\") | dfObitosNonLinesDuplicates[c].isna() ,c] = 0\n",
        "  dfObitosNonLinesDuplicates.loc[dfObitosNonLinesDuplicates[c].eq(\"Sim\"),c] = 1"
      ],
      "execution_count": 112,
      "outputs": [
        {
          "output_type": "stream",
          "text": [
            "/usr/local/lib/python3.7/dist-packages/pandas/core/indexing.py:1763: SettingWithCopyWarning: \n",
            "A value is trying to be set on a copy of a slice from a DataFrame.\n",
            "Try using .loc[row_indexer,col_indexer] = value instead\n",
            "\n",
            "See the caveats in the documentation: https://pandas.pydata.org/pandas-docs/stable/user_guide/indexing.html#returning-a-view-versus-a-copy\n",
            "  isetter(loc, value)\n"
          ],
          "name": "stderr"
        }
      ]
    },
    {
      "cell_type": "markdown",
      "metadata": {
        "id": "SjDbT8zD5tME"
      },
      "source": [
        "**Altera o sexo para númerico**"
      ]
    },
    {
      "cell_type": "code",
      "metadata": {
        "colab": {
          "base_uri": "https://localhost:8080/"
        },
        "id": "LuMEf87Z5tar",
        "outputId": "7312da7d-f3f2-4b23-a4b5-dcae1afcdd19"
      },
      "source": [
        "dfObitosNonLinesDuplicates.loc[dfObitosNonLinesDuplicates.sexoPaciente.eq(\"FEMININO\"),\"sexoPaciente\"] = 0\n",
        "dfObitosNonLinesDuplicates.loc[dfObitosNonLinesDuplicates.sexoPaciente.eq(\"MASCULINO\"),\"sexoPaciente\"] = 1"
      ],
      "execution_count": 113,
      "outputs": [
        {
          "output_type": "stream",
          "text": [
            "/usr/local/lib/python3.7/dist-packages/pandas/core/indexing.py:1763: SettingWithCopyWarning: \n",
            "A value is trying to be set on a copy of a slice from a DataFrame.\n",
            "Try using .loc[row_indexer,col_indexer] = value instead\n",
            "\n",
            "See the caveats in the documentation: https://pandas.pydata.org/pandas-docs/stable/user_guide/indexing.html#returning-a-view-versus-a-copy\n",
            "  isetter(loc, value)\n"
          ],
          "name": "stderr"
        }
      ]
    },
    {
      "cell_type": "markdown",
      "metadata": {
        "id": "75IhSHun6C8h"
      },
      "source": [
        "**Alteração da raça para númerico**"
      ]
    },
    {
      "cell_type": "code",
      "metadata": {
        "colab": {
          "base_uri": "https://localhost:8080/"
        },
        "id": "ZA2oXzpc6DIm",
        "outputId": "09722d31-eefd-4c07-8ccd-077433724be9"
      },
      "source": [
        "dfObitosNonLinesDuplicates.loc[dfObitosNonLinesDuplicates.racaCorPaciente.eq(\"Parda\"),\"racaCorPaciente\"] = 0\n",
        "dfObitosNonLinesDuplicates.loc[dfObitosNonLinesDuplicates.racaCorPaciente.eq(\"Branca\"),\"racaCorPaciente\"] = 1\n",
        "dfObitosNonLinesDuplicates.loc[dfObitosNonLinesDuplicates.racaCorPaciente.eq(\"Preta\"),\"racaCorPaciente\"] = 2\n",
        "dfObitosNonLinesDuplicates.loc[dfObitosNonLinesDuplicates.racaCorPaciente.eq(\"Amarela\"),\"racaCorPaciente\"] = 3\n",
        "dfObitosNonLinesDuplicates.loc[dfObitosNonLinesDuplicates.racaCorPaciente.eq(\"Indígena\"),\"racaCorPaciente\"] = 4"
      ],
      "execution_count": 114,
      "outputs": [
        {
          "output_type": "stream",
          "text": [
            "/usr/local/lib/python3.7/dist-packages/pandas/core/indexing.py:1763: SettingWithCopyWarning: \n",
            "A value is trying to be set on a copy of a slice from a DataFrame.\n",
            "Try using .loc[row_indexer,col_indexer] = value instead\n",
            "\n",
            "See the caveats in the documentation: https://pandas.pydata.org/pandas-docs/stable/user_guide/indexing.html#returning-a-view-versus-a-copy\n",
            "  isetter(loc, value)\n"
          ],
          "name": "stderr"
        }
      ]
    },
    {
      "cell_type": "code",
      "metadata": {
        "colab": {
          "base_uri": "https://localhost:8080/"
        },
        "id": "bBJNumVh6b57",
        "outputId": "81176f6f-a832-4216-eaec-9b518aee1102"
      },
      "source": [
        "dfObitosNonLinesDuplicates.loc[dfObitosNonLinesDuplicates.racaCorPaciente.eq(\"Ignorado\"),\"racaCorPaciente\"] = 5"
      ],
      "execution_count": 115,
      "outputs": [
        {
          "output_type": "stream",
          "text": [
            "/usr/local/lib/python3.7/dist-packages/pandas/core/indexing.py:1763: SettingWithCopyWarning: \n",
            "A value is trying to be set on a copy of a slice from a DataFrame.\n",
            "Try using .loc[row_indexer,col_indexer] = value instead\n",
            "\n",
            "See the caveats in the documentation: https://pandas.pydata.org/pandas-docs/stable/user_guide/indexing.html#returning-a-view-versus-a-copy\n",
            "  isetter(loc, value)\n"
          ],
          "name": "stderr"
        }
      ]
    },
    {
      "cell_type": "markdown",
      "metadata": {
        "id": "e2Z1YEdEkH6J"
      },
      "source": [
        "**Verifica os valores únicos para todas colunas**"
      ]
    },
    {
      "cell_type": "code",
      "metadata": {
        "colab": {
          "base_uri": "https://localhost:8080/"
        },
        "id": "5oZjDsj6kPoA",
        "outputId": "9bb49434-b12b-4afc-d70e-b3ef9d58fcfd"
      },
      "source": [
        "colunas = comorbidade_cols + [\"sexoPaciente\", \"idadePaciente\", \"racaCorPaciente\", \"obitoConfirmado\", \"tipoObito\"]\n",
        "for c in colunas:\n",
        "  print(c, \":\", dfObitosNonLinesDuplicates[c].unique())"
      ],
      "execution_count": 116,
      "outputs": [
        {
          "output_type": "stream",
          "text": [
            "comorbidadeNeurologiaSivep : [0 1]\n",
            "comorbidadeCardiovascularSivep : [1 0]\n",
            "comorbidadeObesidadeSivep : [1 0]\n",
            "comorbidadeHematologiaSivep : [0 1]\n",
            "comorbidadeSindromeDownSivep : [0 1]\n",
            "comorbidadeAsmaSivep : [0 1]\n",
            "comorbidadeDiabetesSivep : [0 1]\n",
            "comorbidadeImunodeficienciaSivep : [0 1]\n",
            "comorbidadeRenalSivep : [0 1]\n",
            "comorbidadePuerperaSivep : [0 1]\n",
            "comorbidadePneumopatiaSivep : [0 1]\n",
            "sexoPaciente : [1 0]\n",
            "idadePaciente : [ 68.  36.  72.  85.  84.  64.  80.  86.  77.  98.  41.   1.  76.  90.\n",
            "  69.  39.  42.  83.  78.  67.  58.  75.  66.  93.  51.  74.  65.  60.\n",
            "  55.  81.  79.  82.  40.  71.  45.  59.  87.  94.  53.  46.  92.  70.\n",
            "  73.  33.  57.  56.  62.  54.  89.  88.  49.  44.  23.  91.  96.  35.\n",
            "  61.  95.  47.  63.  38.  17.  99. 101.  52. 100.  10.  97.  50.  43.\n",
            "  30.  37.  26.  21.  19.  32.   3.  48.  29.  16.  34. 104.   0.  18.\n",
            "  15.   7.  28.   2.  25. 103.   9. 102.  13.  24.  22.  31.  20. 110.\n",
            " 107.  27.  11.   5.   6. 105.  14.   4. 116.   8. 114. 106.]\n",
            "racaCorPaciente : [3 0 1 2 4 5]\n",
            "obitoConfirmado : [1. 0.]\n",
            "tipoObito : ['Confirmado' 'Descartado' 'SRAG Teste Rápido +' 'Confirmado pelo comitê']\n"
          ],
          "name": "stdout"
        }
      ]
    },
    {
      "cell_type": "markdown",
      "metadata": {
        "id": "OBbhiOVdoGpz"
      },
      "source": [
        "**Agrupa a idade em categorias de 5 anos**"
      ]
    },
    {
      "cell_type": "code",
      "metadata": {
        "colab": {
          "base_uri": "https://localhost:8080/"
        },
        "id": "GEMzCf-1oOX0",
        "outputId": "7b9f9d64-7dc8-456d-db6b-c808db0b6b17"
      },
      "source": [
        "bins = [x for x in range(0,110, 10)]\n",
        "labels = [\"{} a {}\".format(x, x+9) for x in range(0,100, 10)]\n",
        "labels[-1] = 'mais de 90'\n",
        "dfObitosNonLinesDuplicates['idadeCategoria'] = pd.cut(dfObitosNonLinesDuplicates['idadePaciente'], bins=bins, labels=labels)"
      ],
      "execution_count": 117,
      "outputs": [
        {
          "output_type": "stream",
          "text": [
            "/usr/local/lib/python3.7/dist-packages/ipykernel_launcher.py:4: SettingWithCopyWarning: \n",
            "A value is trying to be set on a copy of a slice from a DataFrame.\n",
            "Try using .loc[row_indexer,col_indexer] = value instead\n",
            "\n",
            "See the caveats in the documentation: https://pandas.pydata.org/pandas-docs/stable/user_guide/indexing.html#returning-a-view-versus-a-copy\n",
            "  after removing the cwd from sys.path.\n"
          ],
          "name": "stderr"
        }
      ]
    },
    {
      "cell_type": "code",
      "metadata": {
        "colab": {
          "base_uri": "https://localhost:8080/"
        },
        "id": "GpLbrw0BzNDr",
        "outputId": "68322c9d-4ec7-4e13-c6e1-8c78b8e04bdf"
      },
      "source": [
        "#Prenche com a categoria mais de 90 anos quando as idades foram maiores que 100 (bins pega até de 90 a 100)\n",
        "dfObitosNonLinesDuplicates.idadeCategoria.fillna(\"mais de 90\", inplace=True)"
      ],
      "execution_count": 118,
      "outputs": [
        {
          "output_type": "stream",
          "text": [
            "/usr/local/lib/python3.7/dist-packages/pandas/core/series.py:4536: SettingWithCopyWarning: \n",
            "A value is trying to be set on a copy of a slice from a DataFrame\n",
            "\n",
            "See the caveats in the documentation: https://pandas.pydata.org/pandas-docs/stable/user_guide/indexing.html#returning-a-view-versus-a-copy\n",
            "  downcast=downcast,\n"
          ],
          "name": "stderr"
        }
      ]
    },
    {
      "cell_type": "markdown",
      "metadata": {
        "id": "M8HBtH2i8DAr"
      },
      "source": [
        "**Mostra a distribuição dos dados**"
      ]
    },
    {
      "cell_type": "code",
      "metadata": {
        "colab": {
          "base_uri": "https://localhost:8080/"
        },
        "id": "CTVoHPtaqqiS",
        "outputId": "cfe6e2bf-b628-42c8-9862-90b3f6039797"
      },
      "source": [
        "dfObitosNonLinesDuplicates.obitoConfirmado.value_counts()"
      ],
      "execution_count": 119,
      "outputs": [
        {
          "output_type": "execute_result",
          "data": {
            "text/plain": [
              "1.0    12618\n",
              "0.0     1296\n",
              "Name: obitoConfirmado, dtype: int64"
            ]
          },
          "metadata": {
            "tags": []
          },
          "execution_count": 119
        }
      ]
    },
    {
      "cell_type": "markdown",
      "metadata": {
        "id": "7sjwXecn1I_0"
      },
      "source": [
        "**Corrige o nome das colunas comorbidades**"
      ]
    },
    {
      "cell_type": "code",
      "metadata": {
        "id": "WbykvcK71Ige"
      },
      "source": [
        "#Melhora a visualização dos nomes das comorbidades\n",
        "def ajustaNome(x):\n",
        "  x = x.replace(\"comorbidade\", \"\")\n",
        "  return x.replace(\"Sivep\", \"\")\n",
        "\n",
        "cols_dic = {c:ajustaNome(c) for c in comorbidade_cols}"
      ],
      "execution_count": 120,
      "outputs": []
    },
    {
      "cell_type": "code",
      "metadata": {
        "colab": {
          "base_uri": "https://localhost:8080/"
        },
        "id": "EPkwHQ7U2mZ9",
        "outputId": "4b2d553f-9e2e-4a4d-98f1-235c1aa3fa0d"
      },
      "source": [
        "dfObitosNonLinesDuplicates.rename(columns = cols_dic, inplace = True) "
      ],
      "execution_count": 121,
      "outputs": [
        {
          "output_type": "stream",
          "text": [
            "/usr/local/lib/python3.7/dist-packages/pandas/core/frame.py:4308: SettingWithCopyWarning: \n",
            "A value is trying to be set on a copy of a slice from a DataFrame\n",
            "\n",
            "See the caveats in the documentation: https://pandas.pydata.org/pandas-docs/stable/user_guide/indexing.html#returning-a-view-versus-a-copy\n",
            "  errors=errors,\n"
          ],
          "name": "stderr"
        }
      ]
    },
    {
      "cell_type": "markdown",
      "metadata": {
        "id": "VKOAG2gYWbvA"
      },
      "source": [
        "**Abre dados do IBGE relativo aos município dos paciente**"
      ]
    },
    {
      "cell_type": "code",
      "metadata": {
        "id": "QKD4HNZ1WcJD"
      },
      "source": [
        "import numpy as np\n",
        "#abre dataset IBGE\n",
        "dfIbge = pd.read_csv(\"https://raw.githubusercontent.com/softip/projeto_IA368X/main/data/external/dados_ibge.csv\")\n",
        "#remove o último digito da coluna código do Ibge, para ficar igual ao dataset da covid\n",
        "dfIbge['codigo_ibge_6d'] = dfIbge['codigo_ibge'].astype(str).str[:-1].astype(np.int64)"
      ],
      "execution_count": 122,
      "outputs": []
    },
    {
      "cell_type": "code",
      "metadata": {
        "colab": {
          "base_uri": "https://localhost:8080/"
        },
        "id": "zoTmnLi5XCAo",
        "outputId": "ce39daa3-f1d6-4a96-8918-a198182c04da"
      },
      "source": [
        "#corrige o tipo do campo codigoMunicipio de float para int\n",
        "dfObitosNonLinesDuplicates[\"codigoMunicipioPaciente\"] = dfObitosNonLinesDuplicates[\"codigoMunicipioPaciente\"].astype(int)"
      ],
      "execution_count": 123,
      "outputs": [
        {
          "output_type": "stream",
          "text": [
            "/usr/local/lib/python3.7/dist-packages/ipykernel_launcher.py:2: SettingWithCopyWarning: \n",
            "A value is trying to be set on a copy of a slice from a DataFrame.\n",
            "Try using .loc[row_indexer,col_indexer] = value instead\n",
            "\n",
            "See the caveats in the documentation: https://pandas.pydata.org/pandas-docs/stable/user_guide/indexing.html#returning-a-view-versus-a-copy\n",
            "  \n"
          ],
          "name": "stderr"
        }
      ]
    },
    {
      "cell_type": "code",
      "metadata": {
        "id": "SK9DaazNWjau"
      },
      "source": [
        "#junta os dataset\n",
        "dfPacienteIBGE = pd.merge(dfObitosNonLinesDuplicates, dfIbge, how=\"inner\", left_on=\"codigoMunicipioPaciente\", right_on=\"codigo_ibge_6d\")"
      ],
      "execution_count": 124,
      "outputs": []
    },
    {
      "cell_type": "markdown",
      "metadata": {
        "id": "BDvQEGovz0Ik"
      },
      "source": [
        "**Filtra apenas as colunas que serão utilizadas no modelo**"
      ]
    },
    {
      "cell_type": "code",
      "metadata": {
        "id": "rFfZu0ay0H7S"
      },
      "source": [
        "use_feature = [\"sexoPaciente\",\"idadePaciente\",\"racaCorPaciente\",\"Asma\",\"Cardiovascular\",\"Diabetes\",\"Hematologia\",\"Imunodeficiencia\",\"Neurologia\",\"Obesidade\",\"Pneumopatia\",\"Puerpera\",\"Renal\",\"SindromeDown\",\"area_territorial_km2\", \"populacao_estimada_2020\", \"densidade_demografica_hab_km2_2010\", \"escolarizacao6a14 anos_2010\", \"IDHM_2010\", \"mortalidade_infantil_2019\", \"PIB_per_capita_2018\",\"obitoConfirmado\"]\n",
        "dfFinal = dfPacienteIBGE.loc[:,use_feature]"
      ],
      "execution_count": 125,
      "outputs": []
    },
    {
      "cell_type": "markdown",
      "metadata": {
        "id": "KPxd3wac0bND"
      },
      "source": [
        "**Confirma se não existes valores nulos**"
      ]
    },
    {
      "cell_type": "code",
      "metadata": {
        "colab": {
          "base_uri": "https://localhost:8080/"
        },
        "id": "E8e7QYpz0fA8",
        "outputId": "4b62eec0-2359-4f6d-e286-a4664d61f9fc"
      },
      "source": [
        "dfFinal.isna().sum()"
      ],
      "execution_count": 126,
      "outputs": [
        {
          "output_type": "execute_result",
          "data": {
            "text/plain": [
              "sexoPaciente                          0\n",
              "idadePaciente                         0\n",
              "racaCorPaciente                       0\n",
              "Asma                                  0\n",
              "Cardiovascular                        0\n",
              "Diabetes                              0\n",
              "Hematologia                           0\n",
              "Imunodeficiencia                      0\n",
              "Neurologia                            0\n",
              "Obesidade                             0\n",
              "Pneumopatia                           0\n",
              "Puerpera                              0\n",
              "Renal                                 0\n",
              "SindromeDown                          0\n",
              "area_territorial_km2                  0\n",
              "populacao_estimada_2020               0\n",
              "densidade_demografica_hab_km2_2010    0\n",
              "escolarizacao6a14 anos_2010           0\n",
              "IDHM_2010                             0\n",
              "mortalidade_infantil_2019             0\n",
              "PIB_per_capita_2018                   0\n",
              "obitoConfirmado                       0\n",
              "dtype: int64"
            ]
          },
          "metadata": {
            "tags": []
          },
          "execution_count": 126
        }
      ]
    },
    {
      "cell_type": "markdown",
      "metadata": {
        "id": "gHmju31YrILh"
      },
      "source": [
        "**Salva o dataset**"
      ]
    },
    {
      "cell_type": "code",
      "metadata": {
        "id": "sFBvfQlPrIV5"
      },
      "source": [
        "dfFinal.to_csv(\"DataSetCovidIBGE_RandomFlorest.csv\", index=False)"
      ],
      "execution_count": 128,
      "outputs": []
    }
  ]
}